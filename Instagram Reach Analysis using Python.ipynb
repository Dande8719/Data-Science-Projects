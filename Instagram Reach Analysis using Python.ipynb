{
 "cells": [
  {
   "cell_type": "markdown",
   "id": "6e67b5f6",
   "metadata": {},
   "source": [
    "# Instagram Reach Analysis using Python"
   ]
  },
  {
   "cell_type": "markdown",
   "id": "f18e92e9",
   "metadata": {},
   "source": [
    "## 1"
   ]
  },
  {
   "cell_type": "markdown",
   "id": "0bb0b6ed",
   "metadata": {},
   "source": [
    "ES:Voy a hecer el proyecto de Aman Kharwal (A.K.) \"Instagram Reach Analysis using Python\" para formarme como cientifico de datos.\n",
    "EN: I am gonna do the Aman Kharwal (A.K.) proyect \"Instagram Reach Analysis using Python\" to lern and train to be a Data scientist."
   ]
  },
  {
   "cell_type": "markdown",
   "id": "41872cce",
   "metadata": {},
   "source": [
    "ES: Primero descargo los datos proporcionado por A.K. an mi disco duro (Instagram data.csv), estos datos fueron recolectados a mano de su instagram.\n",
    "EN:First I dowloaded the data given by A:K. to my hard drive (Instagram data.csv), those data were recolected by hand for him in his instagram."
   ]
  },
  {
   "cell_type": "markdown",
   "id": "58970d8c",
   "metadata": {},
   "source": [
    "## 2"
   ]
  },
  {
   "cell_type": "code",
   "execution_count": 7,
   "id": "65b73fc0",
   "metadata": {
    "scrolled": true
   },
   "outputs": [
    {
     "name": "stdout",
     "output_type": "stream",
     "text": [
      "   Impressions  From Home  From Hashtags  From Explore  From Other  Saves  \\\n",
      "0         3920       2586           1028           619          56     98   \n",
      "1         5394       2727           1838          1174          78    194   \n",
      "2         4021       2085           1188             0         533     41   \n",
      "3         4528       2700            621           932          73    172   \n",
      "4         2518       1704            255           279          37     96   \n",
      "\n",
      "   Comments  Shares  Likes  Profile Visits  Follows  \\\n",
      "0         9       5    162              35        2   \n",
      "1         7      14    224              48       10   \n",
      "2        11       1    131              62       12   \n",
      "3        10       7    213              23        8   \n",
      "4         5       4    123               8        0   \n",
      "\n",
      "                                             Caption  \\\n",
      "0  Here are some of the most important data visua...   \n",
      "1  Here are some of the best data science project...   \n",
      "2  Learn how to train a machine learning model an...   \n",
      "3  Heres how you can write a Python program to d...   \n",
      "4  Plotting annotations while visualizing your da...   \n",
      "\n",
      "                                            Hashtags  \n",
      "0  #finance #money #business #investing #investme...  \n",
      "1  #healthcare #health #covid #data #datascience ...  \n",
      "2  #data #datascience #dataanalysis #dataanalytic...  \n",
      "3  #python #pythonprogramming #pythonprojects #py...  \n",
      "4  #datavisualization #datascience #data #dataana...  \n"
     ]
    }
   ],
   "source": [
    "  #ES:Ahora iimporto la librerias necesarias para el proyecto//EN:Now I import the nessesary libraries for the proyect.\n",
    "import pandas as pd  #Importo Pandas, //def: es una librería en Python que se especializa en el manejo, análisis y procesamiento de datos\n",
    "import numpy as np   #Importo numpy, //def: admite una gran variedad de tipos de datos y permite realizar todo tipo de cálculos numéricos. Además, es posible convertir un array NumPy en una lista de cadenas, una lista de tuplas o una lista de listas. A la inversa, las listas pueden convertirse en array, matriz, ndarray, cadena o CSV\n",
    "import matplotlib.pyplot as plt  # Importo matplotlib para sacar graficas //Def:  propone varias funciones sencillas para añadir elementos tales como líneas, imágenes o textos a los ejes de un gráfico\n",
    "import seaborn as sns #Importo seaborn // def:Seaborn es una biblioteca para crear gráficos estadísticos en Python. Está basada en Matplotlib, y se integra con las estructuras de Pandas\n",
    "import plotly.express as px #Imnporto plotly exrex como parte de plotly // Def:contains functions that can create entire figures at once\n",
    "from wordcloud import WordCloud, STOPWORDS, ImageColorGenerator # De wordcloud importamos  \"WordCloud, STOPWORDS, ImageColorGenerator\" // Def: generador de nubes de palabras y de nubes de etiquetas gratis y online\n",
    "from sklearn.model_selection import train_test_split # conjunto de rutinas escritas en Python para hacer análisis predictivo, que incluyen clasificadores, algoritmos de clusterización, etc. Está basada en NumPy, SciPy y matplotlib, de forma que es fácil reaprovechar el código que use estas librerías.  // \"https://keepcoding.io/blog/para-que-sirve-el-train-test-split/\"\"\n",
    "from sklearn.linear_model import PassiveAggressiveRegressor # regression algorithm that falls under the category of online learning in machine learning.\n",
    "\n",
    "data = pd.read_csv(\"Instagram data.csv\", encoding = 'latin1') #Cargamos el CSV con los datos proporcionados por A.K.\n",
    "print(data.head())#Imprimimos las 10 primeras columnas.\n"
   ]
  },
  {
   "cell_type": "code",
   "execution_count": 8,
   "id": "7d87335f",
   "metadata": {},
   "outputs": [
    {
     "data": {
      "text/plain": [
       "Impressions       0\n",
       "From Home         0\n",
       "From Hashtags     0\n",
       "From Explore      0\n",
       "From Other        0\n",
       "Saves             0\n",
       "Comments          0\n",
       "Shares            0\n",
       "Likes             0\n",
       "Profile Visits    0\n",
       "Follows           0\n",
       "Caption           0\n",
       "Hashtags          0\n",
       "dtype: int64"
      ]
     },
     "execution_count": 8,
     "metadata": {},
     "output_type": "execute_result"
    }
   ],
   "source": [
    "#ES:primero buscamos si contiene valores nulos EN:First we search if there is null values.\n",
    "data.isnull().sum()\n"
   ]
  },
  {
   "cell_type": "markdown",
   "id": "46ef03a0",
   "metadata": {},
   "source": [
    "#ES:Como podemos ver no contiene valores nulos, si lo tuviera tendriamos que usar \"data = data.dropna()\" para elilminarlos.\n",
    "#EN:As we can see there is no null values, if there where we should use \"data = data.dropna()\" to delet them."
   ]
  },
  {
   "cell_type": "code",
   "execution_count": 9,
   "id": "69f3f814",
   "metadata": {},
   "outputs": [
    {
     "name": "stdout",
     "output_type": "stream",
     "text": [
      "<class 'pandas.core.frame.DataFrame'>\n",
      "RangeIndex: 119 entries, 0 to 118\n",
      "Data columns (total 13 columns):\n",
      " #   Column          Non-Null Count  Dtype \n",
      "---  ------          --------------  ----- \n",
      " 0   Impressions     119 non-null    int64 \n",
      " 1   From Home       119 non-null    int64 \n",
      " 2   From Hashtags   119 non-null    int64 \n",
      " 3   From Explore    119 non-null    int64 \n",
      " 4   From Other      119 non-null    int64 \n",
      " 5   Saves           119 non-null    int64 \n",
      " 6   Comments        119 non-null    int64 \n",
      " 7   Shares          119 non-null    int64 \n",
      " 8   Likes           119 non-null    int64 \n",
      " 9   Profile Visits  119 non-null    int64 \n",
      " 10  Follows         119 non-null    int64 \n",
      " 11  Caption         119 non-null    object\n",
      " 12  Hashtags        119 non-null    object\n",
      "dtypes: int64(11), object(2)\n",
      "memory usage: 12.2+ KB\n"
     ]
    }
   ],
   "source": [
    "#ES: Ahora vamos a observar que tipos de datos tienen nuestras comlumnas.\n",
    "#EN: Now we are gonna analisse wich kind of data have our columns.\n",
    "data.info()\n"
   ]
  },
  {
   "cell_type": "code",
   "execution_count": 16,
   "id": "da54eee8",
   "metadata": {},
   "outputs": [
    {
     "name": "stderr",
     "output_type": "stream",
     "text": [
      "C:\\Users\\chemaboss\\anaconda3\\lib\\site-packages\\seaborn\\distributions.py:2619: FutureWarning: `distplot` is a deprecated function and will be removed in a future version. Please adapt your code to use either `displot` (a figure-level function with similar flexibility) or `histplot` (an axes-level function for histograms).\n",
      "  warnings.warn(msg, FutureWarning)\n"
     ]
    },
    {
     "data": {
      "image/png": "[encoded data removed]",
      "text/plain": [
       "<Figure size 720x576 with 1 Axes>"
      ]
     },
     "metadata": {},
     "output_type": "display_data"
    }
   ],
   "source": [
    "#ES: Ahora analicemos el alcance de los post de instagram de A.K.\n",
    "#EN: Now we should analyse the reach of the instagram post of A.K.\n",
    "plt.figure(figsize=(10, 8))\n",
    "plt.style.use('fivethirtyeight')\n",
    "plt.title(\"Distribution of Impressions From Home\")\n",
    "sns.distplot(data['From Home'])\n",
    "plt.show()\n"
   ]
  },
  {
   "cell_type": "code",
   "execution_count": null,
   "id": "3939e2a1",
   "metadata": {},
   "outputs": [],
   "source": [
    "#ES: La comlusión es que tenemos alta probabilidades de alcanzar las 2000 visitas desde casa.\n",
    "#EN: As a conclusion we get we have high probabilty of reach 2000 visits from home."
   ]
  },
  {
   "cell_type": "code",
   "execution_count": null,
   "id": "5cf7959b",
   "metadata": {},
   "outputs": [],
   "source": [
    "#ES: Vamos a ver las visitas que recibimos de los hastags.\n",
    "#EN: Let´s see the distribution of the impressions I received from hashtags."
   ]
  },
  {
   "cell_type": "code",
   "execution_count": 18,
   "id": "9ab867f9",
   "metadata": {},
   "outputs": [
    {
     "name": "stderr",
     "output_type": "stream",
     "text": [
      "C:\\Users\\chemaboss\\anaconda3\\lib\\site-packages\\seaborn\\distributions.py:2619: FutureWarning: `distplot` is a deprecated function and will be removed in a future version. Please adapt your code to use either `displot` (a figure-level function with similar flexibility) or `histplot` (an axes-level function for histograms).\n",
      "  warnings.warn(msg, FutureWarning)\n"
     ]
    },
    {
     "data": {
      "image/png": "[encoded data removed]",
      "text/plain": [
       "<Figure size 720x576 with 1 Axes>"
      ]
     },
     "metadata": {},
     "output_type": "display_data"
    }
   ],
   "source": [
    "plt.figure(figsize=(10, 8))\n",
    "plt.title(\"Distribution of Impressions From Hashtags\")\n",
    "sns.distplot(data['From Hashtags'])\n",
    "plt.show()\n"
   ]
  },
  {
   "cell_type": "code",
   "execution_count": null,
   "id": "c9fabe1f",
   "metadata": {},
   "outputs": [],
   "source": [
    "#ES: Es mas difícil tener visitas con hastags pero la mayoria son de nuevos usuarios.\n",
    "#EN: It is more dificult be reached by hastags but most of the visits are done by new users."
   ]
  },
  {
   "cell_type": "code",
   "execution_count": 19,
   "id": "aa9cb73b",
   "metadata": {},
   "outputs": [
    {
     "name": "stderr",
     "output_type": "stream",
     "text": [
      "C:\\Users\\chemaboss\\anaconda3\\lib\\site-packages\\seaborn\\distributions.py:2619: FutureWarning: `distplot` is a deprecated function and will be removed in a future version. Please adapt your code to use either `displot` (a figure-level function with similar flexibility) or `histplot` (an axes-level function for histograms).\n",
      "  warnings.warn(msg, FutureWarning)\n"
     ]
    },
    {
     "data": {
      "image/png": "[encoded data removed]",
      "text/plain": [
       "<Figure size 720x576 with 1 Axes>"
      ]
     },
     "metadata": {},
     "output_type": "display_data"
    }
   ],
   "source": [
    "#ES: Vamos a ver las visitas que nos llegan de la sección de exploración.\n",
    "#EN: Let’s have a look at the distribution of impressions I have received from the explore section of Instagram.\n",
    "plt.figure(figsize=(10, 8))\n",
    "plt.title(\"Distribution of Impressions From Explore\")\n",
    "sns.distplot(data['From Explore'])\n",
    "plt.show()"
   ]
  },
  {
   "cell_type": "code",
   "execution_count": null,
   "id": "2de83c9a",
   "metadata": {},
   "outputs": [],
   "source": [
    "#ES:Vemos que son muy bajas la visitas por exploración.\n",
    "#EN:We see the visits by exploration are too low, instagram is not recommending us."
   ]
  },
  {
   "cell_type": "code",
   "execution_count": 21,
   "id": "67c25889",
   "metadata": {},
   "outputs": [
    {
     "data": {
      "application/vnd.plotly.v1+json": {
       "config": {
        "plotlyServerURL": "https://plot.ly"
       },
       "data": [
        {
         "domain": {
          "x": [
           0,
           1
          ],
          "y": [
           0,
           1
          ]
         },
         "hole": 0.3,
         "hovertemplate": "label=%{label}<br>value=%{value}<extra></extra>",
         "labels": [
          "From Home",
          "From Hashtags",
          "From Explore",
          "Other"
         ],
         "legendgroup": "",
         "name": "",
         "showlegend": true,
         "type": "pie",
         "values": [
          294619,
          224614,
          128294,
          20360
         ]
        }
       ],
       "layout": {
        "legend": {
         "tracegroupgap": 0
        },
        "template": {
         "data": {
          "bar": [
           {
            "error_x": {
             "color": "#2a3f5f"
            },
            "error_y": {
             "color": "#2a3f5f"
            },
            "marker": {
             "line": {
              "color": "#E5ECF6",
              "width": 0.5
             },
             "pattern": {
              "fillmode": "overlay",
              "size": 10,
              "solidity": 0.2
             }
            },
            "type": "bar"
           }
          ],
          "barpolar": [
           {
            "marker": {
             "line": {
              "color": "#E5ECF6",
              "width": 0.5
             },
             "pattern": {
              "fillmode": "overlay",
              "size": 10,
              "solidity": 0.2
             }
            },
            "type": "barpolar"
           }
          ],
          "carpet": [
           {
            "aaxis": {
             "endlinecolor": "#2a3f5f",
             "gridcolor": "white",
             "linecolor": "white",
             "minorgridcolor": "white",
             "startlinecolor": "#2a3f5f"
            },
            "baxis": {
             "endlinecolor": "#2a3f5f",
             "gridcolor": "white",
             "linecolor": "white",
             "minorgridcolor": "white",
             "startlinecolor": "#2a3f5f"
            },
            "type": "carpet"
           }
          ],
          "choropleth": [
           {
            "colorbar": {
             "outlinewidth": 0,
             "ticks": ""
            },
            "type": "choropleth"
           }
          ],
          "contour": [
           {
            "colorbar": {
             "outlinewidth": 0,
             "ticks": ""
            },
            "colorscale": [
             [
              0,
              "#0d0887"
             ],
             [
              0.1111111111111111,
              "#46039f"
             ],
             [
              0.2222222222222222,
              "#7201a8"
             ],
             [
              0.3333333333333333,
              "#9c179e"
             ],
             [
              0.4444444444444444,
              "#bd3786"
             ],
             [
              0.5555555555555556,
              "#d8576b"
             ],
             [
              0.6666666666666666,
              "#ed7953"
             ],
             [
              0.7777777777777778,
              "#fb9f3a"
             ],
             [
              0.8888888888888888,
              "#fdca26"
             ],
             [
              1,
              "#f0f921"
             ]
            ],
            "type": "contour"
           }
          ],
          "contourcarpet": [
           {
            "colorbar": {
             "outlinewidth": 0,
             "ticks": ""
            },
            "type": "contourcarpet"
           }
          ],
          "heatmap": [
           {
            "colorbar": {
             "outlinewidth": 0,
             "ticks": ""
            },
            "colorscale": [
             [
              0,
              "#0d0887"
             ],
             [
              0.1111111111111111,
              "#46039f"
             ],
             [
              0.2222222222222222,
              "#7201a8"
             ],
             [
              0.3333333333333333,
              "#9c179e"
             ],
             [
              0.4444444444444444,
              "#bd3786"
             ],
             [
              0.5555555555555556,
              "#d8576b"
             ],
             [
              0.6666666666666666,
              "#ed7953"
             ],
             [
              0.7777777777777778,
              "#fb9f3a"
             ],
             [
              0.8888888888888888,
              "#fdca26"
             ],
             [
              1,
              "#f0f921"
             ]
            ],
            "type": "heatmap"
           }
          ],
          "heatmapgl": [
           {
            "colorbar": {
             "outlinewidth": 0,
             "ticks": ""
            },
            "colorscale": [
             [
              0,
              "#0d0887"
             ],
             [
              0.1111111111111111,
              "#46039f"
             ],
             [
              0.2222222222222222,
              "#7201a8"
             ],
             [
              0.3333333333333333,
              "#9c179e"
             ],
             [
              0.4444444444444444,
              "#bd3786"
             ],
             [
              0.5555555555555556,
              "#d8576b"
             ],
             [
              0.6666666666666666,
              "#ed7953"
             ],
             [
              0.7777777777777778,
              "#fb9f3a"
             ],
             [
              0.8888888888888888,
              "#fdca26"
             ],
             [
              1,
              "#f0f921"
             ]
            ],
            "type": "heatmapgl"
           }
          ],
          "histogram": [
           {
            "marker": {
             "pattern": {
              "fillmode": "overlay",
              "size": 10,
              "solidity": 0.2
             }
            },
            "type": "histogram"
           }
          ],
          "histogram2d": [
           {
            "colorbar": {
             "outlinewidth": 0,
             "ticks": ""
            },
            "colorscale": [
             [
              0,
              "#0d0887"
             ],
             [
              0.1111111111111111,
              "#46039f"
             ],
             [
              0.2222222222222222,
              "#7201a8"
             ],
             [
              0.3333333333333333,
              "#9c179e"
             ],
             [
              0.4444444444444444,
              "#bd3786"
             ],
             [
              0.5555555555555556,
              "#d8576b"
             ],
             [
              0.6666666666666666,
              "#ed7953"
             ],
             [
              0.7777777777777778,
              "#fb9f3a"
             ],
             [
              0.8888888888888888,
              "#fdca26"
             ],
             [
              1,
              "#f0f921"
             ]
            ],
            "type": "histogram2d"
           }
          ],
          "histogram2dcontour": [
           {
            "colorbar": {
             "outlinewidth": 0,
             "ticks": ""
            },
            "colorscale": [
             [
              0,
              "#0d0887"
             ],
             [
              0.1111111111111111,
              "#46039f"
             ],
             [
              0.2222222222222222,
              "#7201a8"
             ],
             [
              0.3333333333333333,
              "#9c179e"
             ],
             [
              0.4444444444444444,
              "#bd3786"
             ],
             [
              0.5555555555555556,
              "#d8576b"
             ],
             [
              0.6666666666666666,
              "#ed7953"
             ],
             [
              0.7777777777777778,
              "#fb9f3a"
             ],
             [
              0.8888888888888888,
              "#fdca26"
             ],
             [
              1,
              "#f0f921"
             ]
            ],
            "type": "histogram2dcontour"
           }
          ],
          "mesh3d": [
           {
            "colorbar": {
             "outlinewidth": 0,
             "ticks": ""
            },
            "type": "mesh3d"
           }
          ],
          "parcoords": [
           {
            "line": {
             "colorbar": {
              "outlinewidth": 0,
              "ticks": ""
             }
            },
            "type": "parcoords"
           }
          ],
          "pie": [
           {
            "automargin": true,
            "type": "pie"
           }
          ],
          "scatter": [
           {
            "fillpattern": {
             "fillmode": "overlay",
             "size": 10,
             "solidity": 0.2
            },
            "type": "scatter"
           }
          ],
          "scatter3d": [
           {
            "line": {
             "colorbar": {
              "outlinewidth": 0,
              "ticks": ""
             }
            },
            "marker": {
             "colorbar": {
              "outlinewidth": 0,
              "ticks": ""
             }
            },
            "type": "scatter3d"
           }
          ],
          "scattercarpet": [
           {
            "marker": {
             "colorbar": {
              "outlinewidth": 0,
              "ticks": ""
             }
            },
            "type": "scattercarpet"
           }
          ],
          "scattergeo": [
           {
            "marker": {
             "colorbar": {
              "outlinewidth": 0,
              "ticks": ""
             }
            },
            "type": "scattergeo"
           }
          ],
          "scattergl": [
           {
            "marker": {
             "colorbar": {
              "outlinewidth": 0,
              "ticks": ""
             }
            },
            "type": "scattergl"
           }
          ],
          "scattermapbox": [
           {
            "marker": {
             "colorbar": {
              "outlinewidth": 0,
              "ticks": ""
             }
            },
            "type": "scattermapbox"
           }
          ],
          "scatterpolar": [
           {
            "marker": {
             "colorbar": {
              "outlinewidth": 0,
              "ticks": ""
             }
            },
            "type": "scatterpolar"
           }
          ],
          "scatterpolargl": [
           {
            "marker": {
             "colorbar": {
              "outlinewidth": 0,
              "ticks": ""
             }
            },
            "type": "scatterpolargl"
           }
          ],
          "scatterternary": [
           {
            "marker": {
             "colorbar": {
              "outlinewidth": 0,
              "ticks": ""
             }
            },
            "type": "scatterternary"
           }
          ],
          "surface": [
           {
            "colorbar": {
             "outlinewidth": 0,
             "ticks": ""
            },
            "colorscale": [
             [
              0,
              "#0d0887"
             ],
             [
              0.1111111111111111,
              "#46039f"
             ],
             [
              0.2222222222222222,
              "#7201a8"
             ],
             [
              0.3333333333333333,
              "#9c179e"
             ],
             [
              0.4444444444444444,
              "#bd3786"
             ],
             [
              0.5555555555555556,
              "#d8576b"
             ],
             [
              0.6666666666666666,
              "#ed7953"
             ],
             [
              0.7777777777777778,
              "#fb9f3a"
             ],
             [
              0.8888888888888888,
              "#fdca26"
             ],
             [
              1,
              "#f0f921"
             ]
            ],
            "type": "surface"
           }
          ],
          "table": [
           {
            "cells": {
             "fill": {
              "color": "#EBF0F8"
             },
             "line": {
              "color": "white"
             }
            },
            "header": {
             "fill": {
              "color": "#C8D4E3"
             },
             "line": {
              "color": "white"
             }
            },
            "type": "table"
           }
          ]
         },
         "layout": {
          "annotationdefaults": {
           "arrowcolor": "#2a3f5f",
           "arrowhead": 0,
           "arrowwidth": 1
          },
          "autotypenumbers": "strict",
          "coloraxis": {
           "colorbar": {
            "outlinewidth": 0,
            "ticks": ""
           }
          },
          "colorscale": {
           "diverging": [
            [
             0,
             "#8e0152"
            ],
            [
             0.1,
             "#c51b7d"
            ],
            [
             0.2,
             "#de77ae"
            ],
            [
             0.3,
             "#f1b6da"
            ],
            [
             0.4,
             "#fde0ef"
            ],
            [
             0.5,
             "#f7f7f7"
            ],
            [
             0.6,
             "#e6f5d0"
            ],
            [
             0.7,
             "#b8e186"
            ],
            [
             0.8,
             "#7fbc41"
            ],
            [
             0.9,
             "#4d9221"
            ],
            [
             1,
             "#276419"
            ]
           ],
           "sequential": [
            [
             0,
             "#0d0887"
            ],
            [
             0.1111111111111111,
             "#46039f"
            ],
            [
             0.2222222222222222,
             "#7201a8"
            ],
            [
             0.3333333333333333,
             "#9c179e"
            ],
            [
             0.4444444444444444,
             "#bd3786"
            ],
            [
             0.5555555555555556,
             "#d8576b"
            ],
            [
             0.6666666666666666,
             "#ed7953"
            ],
            [
             0.7777777777777778,
             "#fb9f3a"
            ],
            [
             0.8888888888888888,
             "#fdca26"
            ],
            [
             1,
             "#f0f921"
            ]
           ],
           "sequentialminus": [
            [
             0,
             "#0d0887"
            ],
            [
             0.1111111111111111,
             "#46039f"
            ],
            [
             0.2222222222222222,
             "#7201a8"
            ],
            [
             0.3333333333333333,
             "#9c179e"
            ],
            [
             0.4444444444444444,
             "#bd3786"
            ],
            [
             0.5555555555555556,
             "#d8576b"
            ],
            [
             0.6666666666666666,
             "#ed7953"
            ],
            [
             0.7777777777777778,
             "#fb9f3a"
            ],
            [
             0.8888888888888888,
             "#fdca26"
            ],
            [
             1,
             "#f0f921"
            ]
           ]
          },
          "colorway": [
           "#636efa",
           "#EF553B",
           "#00cc96",
           "#ab63fa",
           "#FFA15A",
           "#19d3f3",
           "#FF6692",
           "#B6E880",
           "#FF97FF",
           "#FECB52"
          ],
          "font": {
           "color": "#2a3f5f"
          },
          "geo": {
           "bgcolor": "white",
           "lakecolor": "white",
           "landcolor": "#E5ECF6",
           "showlakes": true,
           "showland": true,
           "subunitcolor": "white"
          },
          "hoverlabel": {
           "align": "left"
          },
          "hovermode": "closest",
          "mapbox": {
           "style": "light"
          },
          "paper_bgcolor": "white",
          "plot_bgcolor": "#E5ECF6",
          "polar": {
           "angularaxis": {
            "gridcolor": "white",
            "linecolor": "white",
            "ticks": ""
           },
           "bgcolor": "#E5ECF6",
           "radialaxis": {
            "gridcolor": "white",
            "linecolor": "white",
            "ticks": ""
           }
          },
          "scene": {
           "xaxis": {
            "backgroundcolor": "#E5ECF6",
            "gridcolor": "white",
            "gridwidth": 2,
            "linecolor": "white",
            "showbackground": true,
            "ticks": "",
            "zerolinecolor": "white"
           },
           "yaxis": {
            "backgroundcolor": "#E5ECF6",
            "gridcolor": "white",
            "gridwidth": 2,
            "linecolor": "white",
            "showbackground": true,
            "ticks": "",
            "zerolinecolor": "white"
           },
           "zaxis": {
            "backgroundcolor": "#E5ECF6",
            "gridcolor": "white",
            "gridwidth": 2,
            "linecolor": "white",
            "showbackground": true,
            "ticks": "",
            "zerolinecolor": "white"
           }
          },
          "shapedefaults": {
           "line": {
            "color": "#2a3f5f"
           }
          },
          "ternary": {
           "aaxis": {
            "gridcolor": "white",
            "linecolor": "white",
            "ticks": ""
           },
           "baxis": {
            "gridcolor": "white",
            "linecolor": "white",
            "ticks": ""
           },
           "bgcolor": "#E5ECF6",
           "caxis": {
            "gridcolor": "white",
            "linecolor": "white",
            "ticks": ""
           }
          },
          "title": {
           "x": 0.05
          },
          "xaxis": {
           "automargin": true,
           "gridcolor": "white",
           "linecolor": "white",
           "ticks": "",
           "title": {
            "standoff": 15
           },
           "zerolinecolor": "white",
           "zerolinewidth": 2
          },
          "yaxis": {
           "automargin": true,
           "gridcolor": "white",
           "linecolor": "white",
           "ticks": "",
           "title": {
            "standoff": 15
           },
           "zerolinecolor": "white",
           "zerolinewidth": 2
          }
         }
        },
        "title": {
         "text": "Impressions on Instagram Posts From Various Sources"
        }
       }
      },
      "text/html": [
       "<div>                            <div id=\"808f11cf-e426-4272-8aa3-e12831486619\" class=\"plotly-graph-div\" style=\"height:525px; width:100%;\"></div>            <script type=\"text/javascript\">                require([\"plotly\"], function(Plotly) {                    window.PLOTLYENV=window.PLOTLYENV || {};                                    if (document.getElementById(\"808f11cf-e426-4272-8aa3-e12831486619\")) {                    Plotly.newPlot(                        \"808f11cf-e426-4272-8aa3-e12831486619\",                        [{\"domain\":{\"x\":[0.0,1.0],\"y\":[0.0,1.0]},\"hole\":0.3,\"hovertemplate\":\"label=%{label}<br>value=%{value}<extra></extra>\",\"labels\":[\"From Home\",\"From Hashtags\",\"From Explore\",\"Other\"],\"legendgroup\":\"\",\"name\":\"\",\"showlegend\":true,\"values\":[294619,224614,128294,20360],\"type\":\"pie\"}],                        {\"template\":{\"data\":{\"histogram2dcontour\":[{\"type\":\"histogram2dcontour\",\"colorbar\":{\"outlinewidth\":0,\"ticks\":\"\"},\"colorscale\":[[0.0,\"#0d0887\"],[0.1111111111111111,\"#46039f\"],[0.2222222222222222,\"#7201a8\"],[0.3333333333333333,\"#9c179e\"],[0.4444444444444444,\"#bd3786\"],[0.5555555555555556,\"#d8576b\"],[0.6666666666666666,\"#ed7953\"],[0.7777777777777778,\"#fb9f3a\"],[0.8888888888888888,\"#fdca26\"],[1.0,\"#f0f921\"]]}],\"choropleth\":[{\"type\":\"choropleth\",\"colorbar\":{\"outlinewidth\":0,\"ticks\":\"\"}}],\"histogram2d\":[{\"type\":\"histogram2d\",\"colorbar\":{\"outlinewidth\":0,\"ticks\":\"\"},\"colorscale\":[[0.0,\"#0d0887\"],[0.1111111111111111,\"#46039f\"],[0.2222222222222222,\"#7201a8\"],[0.3333333333333333,\"#9c179e\"],[0.4444444444444444,\"#bd3786\"],[0.5555555555555556,\"#d8576b\"],[0.6666666666666666,\"#ed7953\"],[0.7777777777777778,\"#fb9f3a\"],[0.8888888888888888,\"#fdca26\"],[1.0,\"#f0f921\"]]}],\"heatmap\":[{\"type\":\"heatmap\",\"colorbar\":{\"outlinewidth\":0,\"ticks\":\"\"},\"colorscale\":[[0.0,\"#0d0887\"],[0.1111111111111111,\"#46039f\"],[0.2222222222222222,\"#7201a8\"],[0.3333333333333333,\"#9c179e\"],[0.4444444444444444,\"#bd3786\"],[0.5555555555555556,\"#d8576b\"],[0.6666666666666666,\"#ed7953\"],[0.7777777777777778,\"#fb9f3a\"],[0.8888888888888888,\"#fdca26\"],[1.0,\"#f0f921\"]]}],\"heatmapgl\":[{\"type\":\"heatmapgl\",\"colorbar\":{\"outlinewidth\":0,\"ticks\":\"\"},\"colorscale\":[[0.0,\"#0d0887\"],[0.1111111111111111,\"#46039f\"],[0.2222222222222222,\"#7201a8\"],[0.3333333333333333,\"#9c179e\"],[0.4444444444444444,\"#bd3786\"],[0.5555555555555556,\"#d8576b\"],[0.6666666666666666,\"#ed7953\"],[0.7777777777777778,\"#fb9f3a\"],[0.8888888888888888,\"#fdca26\"],[1.0,\"#f0f921\"]]}],\"contourcarpet\":[{\"type\":\"contourcarpet\",\"colorbar\":{\"outlinewidth\":0,\"ticks\":\"\"}}],\"contour\":[{\"type\":\"contour\",\"colorbar\":{\"outlinewidth\":0,\"ticks\":\"\"},\"colorscale\":[[0.0,\"#0d0887\"],[0.1111111111111111,\"#46039f\"],[0.2222222222222222,\"#7201a8\"],[0.3333333333333333,\"#9c179e\"],[0.4444444444444444,\"#bd3786\"],[0.5555555555555556,\"#d8576b\"],[0.6666666666666666,\"#ed7953\"],[0.7777777777777778,\"#fb9f3a\"],[0.8888888888888888,\"#fdca26\"],[1.0,\"#f0f921\"]]}],\"surface\":[{\"type\":\"surface\",\"colorbar\":{\"outlinewidth\":0,\"ticks\":\"\"},\"colorscale\":[[0.0,\"#0d0887\"],[0.1111111111111111,\"#46039f\"],[0.2222222222222222,\"#7201a8\"],[0.3333333333333333,\"#9c179e\"],[0.4444444444444444,\"#bd3786\"],[0.5555555555555556,\"#d8576b\"],[0.6666666666666666,\"#ed7953\"],[0.7777777777777778,\"#fb9f3a\"],[0.8888888888888888,\"#fdca26\"],[1.0,\"#f0f921\"]]}],\"mesh3d\":[{\"type\":\"mesh3d\",\"colorbar\":{\"outlinewidth\":0,\"ticks\":\"\"}}],\"scatter\":[{\"fillpattern\":{\"fillmode\":\"overlay\",\"size\":10,\"solidity\":0.2},\"type\":\"scatter\"}],\"parcoords\":[{\"type\":\"parcoords\",\"line\":{\"colorbar\":{\"outlinewidth\":0,\"ticks\":\"\"}}}],\"scatterpolargl\":[{\"type\":\"scatterpolargl\",\"marker\":{\"colorbar\":{\"outlinewidth\":0,\"ticks\":\"\"}}}],\"bar\":[{\"error_x\":{\"color\":\"#2a3f5f\"},\"error_y\":{\"color\":\"#2a3f5f\"},\"marker\":{\"line\":{\"color\":\"#E5ECF6\",\"width\":0.5},\"pattern\":{\"fillmode\":\"overlay\",\"size\":10,\"solidity\":0.2}},\"type\":\"bar\"}],\"scattergeo\":[{\"type\":\"scattergeo\",\"marker\":{\"colorbar\":{\"outlinewidth\":0,\"ticks\":\"\"}}}],\"scatterpolar\":[{\"type\":\"scatterpolar\",\"marker\":{\"colorbar\":{\"outlinewidth\":0,\"ticks\":\"\"}}}],\"histogram\":[{\"marker\":{\"pattern\":{\"fillmode\":\"overlay\",\"size\":10,\"solidity\":0.2}},\"type\":\"histogram\"}],\"scattergl\":[{\"type\":\"scattergl\",\"marker\":{\"colorbar\":{\"outlinewidth\":0,\"ticks\":\"\"}}}],\"scatter3d\":[{\"type\":\"scatter3d\",\"line\":{\"colorbar\":{\"outlinewidth\":0,\"ticks\":\"\"}},\"marker\":{\"colorbar\":{\"outlinewidth\":0,\"ticks\":\"\"}}}],\"scattermapbox\":[{\"type\":\"scattermapbox\",\"marker\":{\"colorbar\":{\"outlinewidth\":0,\"ticks\":\"\"}}}],\"scatterternary\":[{\"type\":\"scatterternary\",\"marker\":{\"colorbar\":{\"outlinewidth\":0,\"ticks\":\"\"}}}],\"scattercarpet\":[{\"type\":\"scattercarpet\",\"marker\":{\"colorbar\":{\"outlinewidth\":0,\"ticks\":\"\"}}}],\"carpet\":[{\"aaxis\":{\"endlinecolor\":\"#2a3f5f\",\"gridcolor\":\"white\",\"linecolor\":\"white\",\"minorgridcolor\":\"white\",\"startlinecolor\":\"#2a3f5f\"},\"baxis\":{\"endlinecolor\":\"#2a3f5f\",\"gridcolor\":\"white\",\"linecolor\":\"white\",\"minorgridcolor\":\"white\",\"startlinecolor\":\"#2a3f5f\"},\"type\":\"carpet\"}],\"table\":[{\"cells\":{\"fill\":{\"color\":\"#EBF0F8\"},\"line\":{\"color\":\"white\"}},\"header\":{\"fill\":{\"color\":\"#C8D4E3\"},\"line\":{\"color\":\"white\"}},\"type\":\"table\"}],\"barpolar\":[{\"marker\":{\"line\":{\"color\":\"#E5ECF6\",\"width\":0.5},\"pattern\":{\"fillmode\":\"overlay\",\"size\":10,\"solidity\":0.2}},\"type\":\"barpolar\"}],\"pie\":[{\"automargin\":true,\"type\":\"pie\"}]},\"layout\":{\"autotypenumbers\":\"strict\",\"colorway\":[\"#636efa\",\"#EF553B\",\"#00cc96\",\"#ab63fa\",\"#FFA15A\",\"#19d3f3\",\"#FF6692\",\"#B6E880\",\"#FF97FF\",\"#FECB52\"],\"font\":{\"color\":\"#2a3f5f\"},\"hovermode\":\"closest\",\"hoverlabel\":{\"align\":\"left\"},\"paper_bgcolor\":\"white\",\"plot_bgcolor\":\"#E5ECF6\",\"polar\":{\"bgcolor\":\"#E5ECF6\",\"angularaxis\":{\"gridcolor\":\"white\",\"linecolor\":\"white\",\"ticks\":\"\"},\"radialaxis\":{\"gridcolor\":\"white\",\"linecolor\":\"white\",\"ticks\":\"\"}},\"ternary\":{\"bgcolor\":\"#E5ECF6\",\"aaxis\":{\"gridcolor\":\"white\",\"linecolor\":\"white\",\"ticks\":\"\"},\"baxis\":{\"gridcolor\":\"white\",\"linecolor\":\"white\",\"ticks\":\"\"},\"caxis\":{\"gridcolor\":\"white\",\"linecolor\":\"white\",\"ticks\":\"\"}},\"coloraxis\":{\"colorbar\":{\"outlinewidth\":0,\"ticks\":\"\"}},\"colorscale\":{\"sequential\":[[0.0,\"#0d0887\"],[0.1111111111111111,\"#46039f\"],[0.2222222222222222,\"#7201a8\"],[0.3333333333333333,\"#9c179e\"],[0.4444444444444444,\"#bd3786\"],[0.5555555555555556,\"#d8576b\"],[0.6666666666666666,\"#ed7953\"],[0.7777777777777778,\"#fb9f3a\"],[0.8888888888888888,\"#fdca26\"],[1.0,\"#f0f921\"]],\"sequentialminus\":[[0.0,\"#0d0887\"],[0.1111111111111111,\"#46039f\"],[0.2222222222222222,\"#7201a8\"],[0.3333333333333333,\"#9c179e\"],[0.4444444444444444,\"#bd3786\"],[0.5555555555555556,\"#d8576b\"],[0.6666666666666666,\"#ed7953\"],[0.7777777777777778,\"#fb9f3a\"],[0.8888888888888888,\"#fdca26\"],[1.0,\"#f0f921\"]],\"diverging\":[[0,\"#8e0152\"],[0.1,\"#c51b7d\"],[0.2,\"#de77ae\"],[0.3,\"#f1b6da\"],[0.4,\"#fde0ef\"],[0.5,\"#f7f7f7\"],[0.6,\"#e6f5d0\"],[0.7,\"#b8e186\"],[0.8,\"#7fbc41\"],[0.9,\"#4d9221\"],[1,\"#276419\"]]},\"xaxis\":{\"gridcolor\":\"white\",\"linecolor\":\"white\",\"ticks\":\"\",\"title\":{\"standoff\":15},\"zerolinecolor\":\"white\",\"automargin\":true,\"zerolinewidth\":2},\"yaxis\":{\"gridcolor\":\"white\",\"linecolor\":\"white\",\"ticks\":\"\",\"title\":{\"standoff\":15},\"zerolinecolor\":\"white\",\"automargin\":true,\"zerolinewidth\":2},\"scene\":{\"xaxis\":{\"backgroundcolor\":\"#E5ECF6\",\"gridcolor\":\"white\",\"linecolor\":\"white\",\"showbackground\":true,\"ticks\":\"\",\"zerolinecolor\":\"white\",\"gridwidth\":2},\"yaxis\":{\"backgroundcolor\":\"#E5ECF6\",\"gridcolor\":\"white\",\"linecolor\":\"white\",\"showbackground\":true,\"ticks\":\"\",\"zerolinecolor\":\"white\",\"gridwidth\":2},\"zaxis\":{\"backgroundcolor\":\"#E5ECF6\",\"gridcolor\":\"white\",\"linecolor\":\"white\",\"showbackground\":true,\"ticks\":\"\",\"zerolinecolor\":\"white\",\"gridwidth\":2}},\"shapedefaults\":{\"line\":{\"color\":\"#2a3f5f\"}},\"annotationdefaults\":{\"arrowcolor\":\"#2a3f5f\",\"arrowhead\":0,\"arrowwidth\":1},\"geo\":{\"bgcolor\":\"white\",\"landcolor\":\"#E5ECF6\",\"subunitcolor\":\"white\",\"showland\":true,\"showlakes\":true,\"lakecolor\":\"white\"},\"title\":{\"x\":0.05},\"mapbox\":{\"style\":\"light\"}}},\"legend\":{\"tracegroupgap\":0},\"title\":{\"text\":\"Impressions on Instagram Posts From Various Sources\"}},                        {\"responsive\": true}                    ).then(function(){\n",
       "                            \n",
       "var gd = document.getElementById('808f11cf-e426-4272-8aa3-e12831486619');\n",
       "var x = new MutationObserver(function (mutations, observer) {{\n",
       "        var display = window.getComputedStyle(gd).display;\n",
       "        if (!display || display === 'none') {{\n",
       "            console.log([gd, 'removed!']);\n",
       "            Plotly.purge(gd);\n",
       "            observer.disconnect();\n",
       "        }}\n",
       "}});\n",
       "\n",
       "// Listen for the removal of the full notebook cells\n",
       "var notebookContainer = gd.closest('#notebook-container');\n",
       "if (notebookContainer) {{\n",
       "    x.observe(notebookContainer, {childList: true});\n",
       "}}\n",
       "\n",
       "// Listen for the clearing of the current output cell\n",
       "var outputEl = gd.closest('.output');\n",
       "if (outputEl) {{\n",
       "    x.observe(outputEl, {childList: true});\n",
       "}}\n",
       "\n",
       "                        })                };                });            </script>        </div>"
      ]
     },
     "metadata": {},
     "output_type": "display_data"
    }
   ],
   "source": [
    "#ES: Ahora vamos a ver el porcentage de visitas que tenemos de cada fuente.\n",
    "#EN:Now let’s have a look at the percentage of impressions I get from various sources on Instagram:\n",
    "\n",
    "home = data[\"From Home\"].sum() #Sumamos todas las visitas que probienen de Home\n",
    "hashtags = data[\"From Hashtags\"].sum()  #Sumamos todas las visitas que probienen de Hastags\n",
    "explore = data[\"From Explore\"].sum() #Sumamos todas las visitas que probienen de Explore\n",
    "other = data[\"From Other\"].sum() #Sumamos todas las visitas que probienen de Explore\n",
    "\n",
    "labels = ['From Home','From Hashtags','From Explore','Other']  #\n",
    "values = [home, hashtags, explore, other]\n",
    "\n",
    "fig = px.pie(data, values=values, names=labels,  \n",
    "             title='Impressions on Instagram Posts From Various Sources', hole=0.3)  #Aqui vemos como funcionan los pie chats   px.pie(archivodatos, values=valores a separar en cuertarones, names=nomre de cada cuartaron,  title='Titulo', hole= tamaño del hueco)     \n",
    "fig.show()"
   ]
  },
  {
   "cell_type": "code",
   "execution_count": null,
   "id": "839aef8d",
   "metadata": {},
   "outputs": [],
   "source": [
    "#ES:Podemos comprober que casi la mitad de las visualizaciónes provienes de Home, un 33% de Hastags y casi un 20 de Explore.\n",
    "#EN: We can analise that half of the reaches come from Home , 1/3 from Hastags ans almost 20% from Explore."
   ]
  },
  {
   "cell_type": "code",
   "execution_count": 29,
   "id": "ac26be9d",
   "metadata": {},
   "outputs": [
    {
     "data": {
      "image/png": "[encoded data removed]",
      "text/plain": [
       "<Figure size 960x800 with 1 Axes>"
      ]
     },
     "metadata": {},
     "output_type": "display_data"
    }
   ],
   "source": [
    "text = \" \".join(i for i in data.Hashtags) #introducimos texto en la Variable Text, estamos introduciendo las palabras de \"Hastags\" podriamos hacer lo mismo con \"caption\" el resto son valores nunméricos\n",
    "stopwords = set(STOPWORDS) #Creamos la variabre stopwords\n",
    "wordcloud = WordCloud(stopwords=stopwords, background_color=\"white\").generate(text)\n",
    "plt.style.use('classic') #tipo de letra\n",
    "plt.figure( figsize=(12,10)) #tamaño\n",
    "plt.imshow(wordcloud, interpolation='bilinear') #\n",
    "plt.axis(\"off\")\n",
    "plt.show()"
   ]
  },
  {
   "cell_type": "markdown",
   "id": "1467976f",
   "metadata": {},
   "source": [
    "## 3 Analizamos relacciónes /  Analyzing Relationships"
   ]
  },
  {
   "cell_type": "markdown",
   "id": "b1403f4b",
   "metadata": {},
   "source": [
    "Es: Vamos a comparar el numero de visitas con repecto al numero de likes\n",
    "En: We are gona compare the number of impressions vs number of likes    "
   ]
  },
  {
   "cell_type": "code",
   "execution_count": 38,
   "id": "d5dbfdf8",
   "metadata": {},
   "outputs": [
    {
     "data": {
      "application/vnd.plotly.v1+json": {
       "config": {
        "plotlyServerURL": "https://plot.ly"
       },
       "data": [
        {
         "hovertemplate": "Impressions=%{x}<br>Likes=%{marker.size}<extra></extra>",
         "legendgroup": "",
         "marker": {
          "color": "#636efa",
          "size": [
           162,
           224,
           131,
           213,
           123,
           144,
           76,
           124,
           159,
           191,
           81,
           151,
           162,
           142,
           294,
           159,
           205,
           121,
           151,
           72,
           76,
           91,
           195,
           129,
           160,
           175,
           147,
           114,
           151,
           92,
           214,
           150,
           122,
           152,
           196,
           86,
           85,
           156,
           72,
           82,
           416,
           180,
           150,
           127,
           167,
           225,
           137,
           114,
           263,
           328,
           126,
           236,
           99,
           212,
           297,
           142,
           186,
           112,
           149,
           132,
           115,
           248,
           178,
           107,
           269,
           96,
           134,
           301,
           187,
           94,
           114,
           96,
           138,
           122,
           257,
           95,
           244,
           190,
           118,
           178,
           170,
           250,
           159,
           205,
           121,
           151,
           72,
           137,
           114,
           263,
           328,
           126,
           129,
           160,
           175,
           147,
           114,
           151,
           92,
           275,
           192,
           203,
           145,
           168,
           194,
           250,
           171,
           416,
           249,
           308,
           163,
           86,
           210,
           172,
           373,
           148,
           92,
           549,
           443
          ],
          "sizemode": "area",
          "sizeref": 1.3725,
          "symbol": "circle"
         },
         "mode": "markers",
         "name": "",
         "orientation": "v",
         "showlegend": false,
         "type": "scatter",
         "x": [
          3920,
          5394,
          4021,
          4528,
          2518,
          3884,
          2621,
          3541,
          3749,
          4115,
          2218,
          3234,
          4344,
          3216,
          9453,
          5055,
          4002,
          3169,
          6168,
          2407,
          2064,
          3973,
          7281,
          3052,
          4628,
          4082,
          5394,
          2766,
          3924,
          3015,
          6666,
          3854,
          4355,
          4343,
          6108,
          2523,
          2327,
          3990,
          2191,
          1941,
          16062,
          4998,
          4289,
          3880,
          3786,
          4298,
          3630,
          2826,
          7407,
          10386,
          2998,
          7018,
          2941,
          6432,
          10667,
          3988,
          4978,
          3388,
          4467,
          3246,
          5072,
          6339,
          4239,
          3454,
          7571,
          3333,
          3818,
          10933,
          5058,
          3601,
          3480,
          3525,
          3606,
          5542,
          6559,
          3623,
          10493,
          4446,
          2957,
          5538,
          4681,
          5273,
          5055,
          4002,
          3169,
          6168,
          2407,
          3630,
          2826,
          7407,
          10386,
          2998,
          3052,
          4628,
          4082,
          5394,
          2766,
          3924,
          3015,
          5409,
          5323,
          8001,
          4150,
          4609,
          6348,
          11068,
          7231,
          17396,
          6814,
          17713,
          5563,
          4842,
          11149,
          10206,
          13700,
          5731,
          4139,
          32695,
          36919
         ],
         "xaxis": "x",
         "y": [
          162,
          224,
          131,
          213,
          123,
          144,
          76,
          124,
          159,
          191,
          81,
          151,
          162,
          142,
          294,
          159,
          205,
          121,
          151,
          72,
          76,
          91,
          195,
          129,
          160,
          175,
          147,
          114,
          151,
          92,
          214,
          150,
          122,
          152,
          196,
          86,
          85,
          156,
          72,
          82,
          416,
          180,
          150,
          127,
          167,
          225,
          137,
          114,
          263,
          328,
          126,
          236,
          99,
          212,
          297,
          142,
          186,
          112,
          149,
          132,
          115,
          248,
          178,
          107,
          269,
          96,
          134,
          301,
          187,
          94,
          114,
          96,
          138,
          122,
          257,
          95,
          244,
          190,
          118,
          178,
          170,
          250,
          159,
          205,
          121,
          151,
          72,
          137,
          114,
          263,
          328,
          126,
          129,
          160,
          175,
          147,
          114,
          151,
          92,
          275,
          192,
          203,
          145,
          168,
          194,
          250,
          171,
          416,
          249,
          308,
          163,
          86,
          210,
          172,
          373,
          148,
          92,
          549,
          443
         ],
         "yaxis": "y"
        },
        {
         "hovertemplate": "<b>OLS trendline</b><br>Likes = 0.0144533 * Impressions + 91.3401<br>R<sup>2</sup>=0.722220<br><br>Impressions=%{x}<br>Likes=%{y} <b>(trend)</b><extra></extra>",
         "legendgroup": "",
         "marker": {
          "color": "#636efa",
          "symbol": "circle"
         },
         "mode": "lines",
         "name": "",
         "showlegend": false,
         "type": "scatter",
         "x": [
          1941,
          2064,
          2191,
          2218,
          2327,
          2407,
          2407,
          2518,
          2523,
          2621,
          2766,
          2766,
          2826,
          2826,
          2941,
          2957,
          2998,
          2998,
          3015,
          3015,
          3052,
          3052,
          3169,
          3169,
          3216,
          3234,
          3246,
          3333,
          3388,
          3454,
          3480,
          3525,
          3541,
          3601,
          3606,
          3623,
          3630,
          3630,
          3749,
          3786,
          3818,
          3854,
          3880,
          3884,
          3920,
          3924,
          3924,
          3973,
          3988,
          3990,
          4002,
          4002,
          4021,
          4082,
          4082,
          4115,
          4139,
          4150,
          4239,
          4289,
          4298,
          4343,
          4344,
          4355,
          4446,
          4467,
          4528,
          4609,
          4628,
          4628,
          4681,
          4842,
          4978,
          4998,
          5055,
          5055,
          5058,
          5072,
          5273,
          5323,
          5394,
          5394,
          5394,
          5409,
          5538,
          5542,
          5563,
          5731,
          6108,
          6168,
          6168,
          6339,
          6348,
          6432,
          6559,
          6666,
          6814,
          7018,
          7231,
          7281,
          7407,
          7407,
          7571,
          8001,
          9453,
          10206,
          10386,
          10386,
          10493,
          10667,
          10933,
          11068,
          11149,
          13700,
          16062,
          17396,
          17713,
          32695,
          36919
         ],
         "xaxis": "x",
         "y": [
          119.393918281271,
          121.17167247763952,
          123.00723981860538,
          123.3974785446375,
          124.97288673491529,
          126.1291496268623,
          126.1291496268623,
          127.73346438943875,
          127.80573082018545,
          129.22215286282054,
          131.31787935447448,
          131.31787935447448,
          132.18507652343473,
          132.18507652343473,
          133.84720443060854,
          134.07845700899793,
          134.67104174112077,
          134.67104174112077,
          134.9167476056595,
          134.9167476056595,
          135.451519193185,
          135.451519193185,
          137.1425536726575,
          137.1425536726575,
          137.82185812167637,
          138.08201727236442,
          138.25545670615648,
          139.51289260114885,
          140.30782333936241,
          141.2617402252187,
          141.63752566510146,
          142.28792354182167,
          142.51917612021106,
          143.3863732891713,
          143.45863971991798,
          143.70434558445675,
          143.8055185875021,
          143.8055185875021,
          145.52545963927327,
          146.06023122679875,
          146.52273638357755,
          147.0430546849537,
          147.4188401248365,
          147.47665326943383,
          147.99697157081,
          148.05478471540732,
          148.05478471540732,
          148.76299573672486,
          148.97979502896493,
          149.00870160126362,
          149.18214103505565,
          149.18214103505565,
          149.45675347189308,
          150.33840392700267,
          150.33840392700267,
          150.8153623699308,
          151.1622412375149,
          151.3212273851576,
          152.60756985244865,
          153.33023415991553,
          153.46031373525958,
          154.11071161197975,
          154.1251648981291,
          154.2841510457718,
          155.59940008536154,
          155.9029190944976,
          156.7845695496072,
          157.95528572770354,
          158.22989816454094,
          158.22989816454094,
          158.99592233045584,
          161.32290140049918,
          163.28854831680908,
          163.57761403979583,
          164.4014513503081,
          164.4014513503081,
          164.4448112087561,
          164.6471572148468,
          167.55226773086366,
          168.27493203833052,
          169.3011153549335,
          169.3011153549335,
          169.3011153549335,
          169.51791464717357,
          171.38238856043813,
          171.44020170503546,
          171.74372071417156,
          174.17187278726027,
          179.6207616655605,
          180.48795883452075,
          180.48795883452075,
          182.95947076605748,
          183.0895503414015,
          184.30362637794587,
          186.1391937189117,
          187.68569533689083,
          189.82478168699282,
          192.77325206145764,
          195.85180201126656,
          196.5744663187334,
          198.39558037354996,
          198.39558037354996,
          200.7659193020413,
          206.98083234625645,
          227.96700383509454,
          238.8503283055457,
          241.45191981242647,
          241.45191981242647,
          242.99842143040559,
          245.51329322039032,
          249.3578673361141,
          251.30906096627467,
          252.47977714437098,
          289.35011011133105,
          323.4887719960663,
          342.7694557192826,
          347.3511474286226,
          563.8902805179974,
          624.9409612127993
         ],
         "yaxis": "y"
        }
       ],
       "layout": {
        "legend": {
         "itemsizing": "constant",
         "tracegroupgap": 0
        },
        "template": {
         "data": {
          "bar": [
           {
            "error_x": {
             "color": "#2a3f5f"
            },
            "error_y": {
             "color": "#2a3f5f"
            },
            "marker": {
             "line": {
              "color": "#E5ECF6",
              "width": 0.5
             },
             "pattern": {
              "fillmode": "overlay",
              "size": 10,
              "solidity": 0.2
             }
            },
            "type": "bar"
           }
          ],
          "barpolar": [
           {
            "marker": {
             "line": {
              "color": "#E5ECF6",
              "width": 0.5
             },
             "pattern": {
              "fillmode": "overlay",
              "size": 10,
              "solidity": 0.2
             }
            },
            "type": "barpolar"
           }
          ],
          "carpet": [
           {
            "aaxis": {
             "endlinecolor": "#2a3f5f",
             "gridcolor": "white",
             "linecolor": "white",
             "minorgridcolor": "white",
             "startlinecolor": "#2a3f5f"
            },
            "baxis": {
             "endlinecolor": "#2a3f5f",
             "gridcolor": "white",
             "linecolor": "white",
             "minorgridcolor": "white",
             "startlinecolor": "#2a3f5f"
            },
            "type": "carpet"
           }
          ],
          "choropleth": [
           {
            "colorbar": {
             "outlinewidth": 0,
             "ticks": ""
            },
            "type": "choropleth"
           }
          ],
          "contour": [
           {
            "colorbar": {
             "outlinewidth": 0,
             "ticks": ""
            },
            "colorscale": [
             [
              0,
              "#0d0887"
             ],
             [
              0.1111111111111111,
              "#46039f"
             ],
             [
              0.2222222222222222,
              "#7201a8"
             ],
             [
              0.3333333333333333,
              "#9c179e"
             ],
             [
              0.4444444444444444,
              "#bd3786"
             ],
             [
              0.5555555555555556,
              "#d8576b"
             ],
             [
              0.6666666666666666,
              "#ed7953"
             ],
             [
              0.7777777777777778,
              "#fb9f3a"
             ],
             [
              0.8888888888888888,
              "#fdca26"
             ],
             [
              1,
              "#f0f921"
             ]
            ],
            "type": "contour"
           }
          ],
          "contourcarpet": [
           {
            "colorbar": {
             "outlinewidth": 0,
             "ticks": ""
            },
            "type": "contourcarpet"
           }
          ],
          "heatmap": [
           {
            "colorbar": {
             "outlinewidth": 0,
             "ticks": ""
            },
            "colorscale": [
             [
              0,
              "#0d0887"
             ],
             [
              0.1111111111111111,
              "#46039f"
             ],
             [
              0.2222222222222222,
              "#7201a8"
             ],
             [
              0.3333333333333333,
              "#9c179e"
             ],
             [
              0.4444444444444444,
              "#bd3786"
             ],
             [
              0.5555555555555556,
              "#d8576b"
             ],
             [
              0.6666666666666666,
              "#ed7953"
             ],
             [
              0.7777777777777778,
              "#fb9f3a"
             ],
             [
              0.8888888888888888,
              "#fdca26"
             ],
             [
              1,
              "#f0f921"
             ]
            ],
            "type": "heatmap"
           }
          ],
          "heatmapgl": [
           {
            "colorbar": {
             "outlinewidth": 0,
             "ticks": ""
            },
            "colorscale": [
             [
              0,
              "#0d0887"
             ],
             [
              0.1111111111111111,
              "#46039f"
             ],
             [
              0.2222222222222222,
              "#7201a8"
             ],
             [
              0.3333333333333333,
              "#9c179e"
             ],
             [
              0.4444444444444444,
              "#bd3786"
             ],
             [
              0.5555555555555556,
              "#d8576b"
             ],
             [
              0.6666666666666666,
              "#ed7953"
             ],
             [
              0.7777777777777778,
              "#fb9f3a"
             ],
             [
              0.8888888888888888,
              "#fdca26"
             ],
             [
              1,
              "#f0f921"
             ]
            ],
            "type": "heatmapgl"
           }
          ],
          "histogram": [
           {
            "marker": {
             "pattern": {
              "fillmode": "overlay",
              "size": 10,
              "solidity": 0.2
             }
            },
            "type": "histogram"
           }
          ],
          "histogram2d": [
           {
            "colorbar": {
             "outlinewidth": 0,
             "ticks": ""
            },
            "colorscale": [
             [
              0,
              "#0d0887"
             ],
             [
              0.1111111111111111,
              "#46039f"
             ],
             [
              0.2222222222222222,
              "#7201a8"
             ],
             [
              0.3333333333333333,
              "#9c179e"
             ],
             [
              0.4444444444444444,
              "#bd3786"
             ],
             [
              0.5555555555555556,
              "#d8576b"
             ],
             [
              0.6666666666666666,
              "#ed7953"
             ],
             [
              0.7777777777777778,
              "#fb9f3a"
             ],
             [
              0.8888888888888888,
              "#fdca26"
             ],
             [
              1,
              "#f0f921"
             ]
            ],
            "type": "histogram2d"
           }
          ],
          "histogram2dcontour": [
           {
            "colorbar": {
             "outlinewidth": 0,
             "ticks": ""
            },
            "colorscale": [
             [
              0,
              "#0d0887"
             ],
             [
              0.1111111111111111,
              "#46039f"
             ],
             [
              0.2222222222222222,
              "#7201a8"
             ],
             [
              0.3333333333333333,
              "#9c179e"
             ],
             [
              0.4444444444444444,
              "#bd3786"
             ],
             [
              0.5555555555555556,
              "#d8576b"
             ],
             [
              0.6666666666666666,
              "#ed7953"
             ],
             [
              0.7777777777777778,
              "#fb9f3a"
             ],
             [
              0.8888888888888888,
              "#fdca26"
             ],
             [
              1,
              "#f0f921"
             ]
            ],
            "type": "histogram2dcontour"
           }
          ],
          "mesh3d": [
           {
            "colorbar": {
             "outlinewidth": 0,
             "ticks": ""
            },
            "type": "mesh3d"
           }
          ],
          "parcoords": [
           {
            "line": {
             "colorbar": {
              "outlinewidth": 0,
              "ticks": ""
             }
            },
            "type": "parcoords"
           }
          ],
          "pie": [
           {
            "automargin": true,
            "type": "pie"
           }
          ],
          "scatter": [
           {
            "fillpattern": {
             "fillmode": "overlay",
             "size": 10,
             "solidity": 0.2
            },
            "type": "scatter"
           }
          ],
          "scatter3d": [
           {
            "line": {
             "colorbar": {
              "outlinewidth": 0,
              "ticks": ""
             }
            },
            "marker": {
             "colorbar": {
              "outlinewidth": 0,
              "ticks": ""
             }
            },
            "type": "scatter3d"
           }
          ],
          "scattercarpet": [
           {
            "marker": {
             "colorbar": {
              "outlinewidth": 0,
              "ticks": ""
             }
            },
            "type": "scattercarpet"
           }
          ],
          "scattergeo": [
           {
            "marker": {
             "colorbar": {
              "outlinewidth": 0,
              "ticks": ""
             }
            },
            "type": "scattergeo"
           }
          ],
          "scattergl": [
           {
            "marker": {
             "colorbar": {
              "outlinewidth": 0,
              "ticks": ""
             }
            },
            "type": "scattergl"
           }
          ],
          "scattermapbox": [
           {
            "marker": {
             "colorbar": {
              "outlinewidth": 0,
              "ticks": ""
             }
            },
            "type": "scattermapbox"
           }
          ],
          "scatterpolar": [
           {
            "marker": {
             "colorbar": {
              "outlinewidth": 0,
              "ticks": ""
             }
            },
            "type": "scatterpolar"
           }
          ],
          "scatterpolargl": [
           {
            "marker": {
             "colorbar": {
              "outlinewidth": 0,
              "ticks": ""
             }
            },
            "type": "scatterpolargl"
           }
          ],
          "scatterternary": [
           {
            "marker": {
             "colorbar": {
              "outlinewidth": 0,
              "ticks": ""
             }
            },
            "type": "scatterternary"
           }
          ],
          "surface": [
           {
            "colorbar": {
             "outlinewidth": 0,
             "ticks": ""
            },
            "colorscale": [
             [
              0,
              "#0d0887"
             ],
             [
              0.1111111111111111,
              "#46039f"
             ],
             [
              0.2222222222222222,
              "#7201a8"
             ],
             [
              0.3333333333333333,
              "#9c179e"
             ],
             [
              0.4444444444444444,
              "#bd3786"
             ],
             [
              0.5555555555555556,
              "#d8576b"
             ],
             [
              0.6666666666666666,
              "#ed7953"
             ],
             [
              0.7777777777777778,
              "#fb9f3a"
             ],
             [
              0.8888888888888888,
              "#fdca26"
             ],
             [
              1,
              "#f0f921"
             ]
            ],
            "type": "surface"
           }
          ],
          "table": [
           {
            "cells": {
             "fill": {
              "color": "#EBF0F8"
             },
             "line": {
              "color": "white"
             }
            },
            "header": {
             "fill": {
              "color": "#C8D4E3"
             },
             "line": {
              "color": "white"
             }
            },
            "type": "table"
           }
          ]
         },
         "layout": {
          "annotationdefaults": {
           "arrowcolor": "#2a3f5f",
           "arrowhead": 0,
           "arrowwidth": 1
          },
          "autotypenumbers": "strict",
          "coloraxis": {
           "colorbar": {
            "outlinewidth": 0,
            "ticks": ""
           }
          },
          "colorscale": {
           "diverging": [
            [
             0,
             "#8e0152"
            ],
            [
             0.1,
             "#c51b7d"
            ],
            [
             0.2,
             "#de77ae"
            ],
            [
             0.3,
             "#f1b6da"
            ],
            [
             0.4,
             "#fde0ef"
            ],
            [
             0.5,
             "#f7f7f7"
            ],
            [
             0.6,
             "#e6f5d0"
            ],
            [
             0.7,
             "#b8e186"
            ],
            [
             0.8,
             "#7fbc41"
            ],
            [
             0.9,
             "#4d9221"
            ],
            [
             1,
             "#276419"
            ]
           ],
           "sequential": [
            [
             0,
             "#0d0887"
            ],
            [
             0.1111111111111111,
             "#46039f"
            ],
            [
             0.2222222222222222,
             "#7201a8"
            ],
            [
             0.3333333333333333,
             "#9c179e"
            ],
            [
             0.4444444444444444,
             "#bd3786"
            ],
            [
             0.5555555555555556,
             "#d8576b"
            ],
            [
             0.6666666666666666,
             "#ed7953"
            ],
            [
             0.7777777777777778,
             "#fb9f3a"
            ],
            [
             0.8888888888888888,
             "#fdca26"
            ],
            [
             1,
             "#f0f921"
            ]
           ],
           "sequentialminus": [
            [
             0,
             "#0d0887"
            ],
            [
             0.1111111111111111,
             "#46039f"
            ],
            [
             0.2222222222222222,
             "#7201a8"
            ],
            [
             0.3333333333333333,
             "#9c179e"
            ],
            [
             0.4444444444444444,
             "#bd3786"
            ],
            [
             0.5555555555555556,
             "#d8576b"
            ],
            [
             0.6666666666666666,
             "#ed7953"
            ],
            [
             0.7777777777777778,
             "#fb9f3a"
            ],
            [
             0.8888888888888888,
             "#fdca26"
            ],
            [
             1,
             "#f0f921"
            ]
           ]
          },
          "colorway": [
           "#636efa",
           "#EF553B",
           "#00cc96",
           "#ab63fa",
           "#FFA15A",
           "#19d3f3",
           "#FF6692",
           "#B6E880",
           "#FF97FF",
           "#FECB52"
          ],
          "font": {
           "color": "#2a3f5f"
          },
          "geo": {
           "bgcolor": "white",
           "lakecolor": "white",
           "landcolor": "#E5ECF6",
           "showlakes": true,
           "showland": true,
           "subunitcolor": "white"
          },
          "hoverlabel": {
           "align": "left"
          },
          "hovermode": "closest",
          "mapbox": {
           "style": "light"
          },
          "paper_bgcolor": "white",
          "plot_bgcolor": "#E5ECF6",
          "polar": {
           "angularaxis": {
            "gridcolor": "white",
            "linecolor": "white",
            "ticks": ""
           },
           "bgcolor": "#E5ECF6",
           "radialaxis": {
            "gridcolor": "white",
            "linecolor": "white",
            "ticks": ""
           }
          },
          "scene": {
           "xaxis": {
            "backgroundcolor": "#E5ECF6",
            "gridcolor": "white",
            "gridwidth": 2,
            "linecolor": "white",
            "showbackground": true,
            "ticks": "",
            "zerolinecolor": "white"
           },
           "yaxis": {
            "backgroundcolor": "#E5ECF6",
            "gridcolor": "white",
            "gridwidth": 2,
            "linecolor": "white",
            "showbackground": true,
            "ticks": "",
            "zerolinecolor": "white"
           },
           "zaxis": {
            "backgroundcolor": "#E5ECF6",
            "gridcolor": "white",
            "gridwidth": 2,
            "linecolor": "white",
            "showbackground": true,
            "ticks": "",
            "zerolinecolor": "white"
           }
          },
          "shapedefaults": {
           "line": {
            "color": "#2a3f5f"
           }
          },
          "ternary": {
           "aaxis": {
            "gridcolor": "white",
            "linecolor": "white",
            "ticks": ""
           },
           "baxis": {
            "gridcolor": "white",
            "linecolor": "white",
            "ticks": ""
           },
           "bgcolor": "#E5ECF6",
           "caxis": {
            "gridcolor": "white",
            "linecolor": "white",
            "ticks": ""
           }
          },
          "title": {
           "x": 0.05
          },
          "xaxis": {
           "automargin": true,
           "gridcolor": "white",
           "linecolor": "white",
           "ticks": "",
           "title": {
            "standoff": 15
           },
           "zerolinecolor": "white",
           "zerolinewidth": 2
          },
          "yaxis": {
           "automargin": true,
           "gridcolor": "white",
           "linecolor": "white",
           "ticks": "",
           "title": {
            "standoff": 15
           },
           "zerolinecolor": "white",
           "zerolinewidth": 2
          }
         }
        },
        "title": {
         "text": "Relationship Between Likes and Impressions"
        },
        "xaxis": {
         "anchor": "y",
         "domain": [
          0,
          1
         ],
         "title": {
          "text": "Impressions"
         }
        },
        "yaxis": {
         "anchor": "x",
         "domain": [
          0,
          1
         ],
         "title": {
          "text": "Likes"
         }
        }
       }
      },
      "text/html": [
       "<div>                            <div id=\"322dde22-e069-4f8e-a57f-2b2c33db9568\" class=\"plotly-graph-div\" style=\"height:525px; width:100%;\"></div>            <script type=\"text/javascript\">                require([\"plotly\"], function(Plotly) {                    window.PLOTLYENV=window.PLOTLYENV || {};                                    if (document.getElementById(\"322dde22-e069-4f8e-a57f-2b2c33db9568\")) {                    Plotly.newPlot(                        \"322dde22-e069-4f8e-a57f-2b2c33db9568\",                        [{\"hovertemplate\":\"Impressions=%{x}<br>Likes=%{marker.size}<extra></extra>\",\"legendgroup\":\"\",\"marker\":{\"color\":\"#636efa\",\"size\":[162,224,131,213,123,144,76,124,159,191,81,151,162,142,294,159,205,121,151,72,76,91,195,129,160,175,147,114,151,92,214,150,122,152,196,86,85,156,72,82,416,180,150,127,167,225,137,114,263,328,126,236,99,212,297,142,186,112,149,132,115,248,178,107,269,96,134,301,187,94,114,96,138,122,257,95,244,190,118,178,170,250,159,205,121,151,72,137,114,263,328,126,129,160,175,147,114,151,92,275,192,203,145,168,194,250,171,416,249,308,163,86,210,172,373,148,92,549,443],\"sizemode\":\"area\",\"sizeref\":1.3725,\"symbol\":\"circle\"},\"mode\":\"markers\",\"name\":\"\",\"orientation\":\"v\",\"showlegend\":false,\"x\":[3920,5394,4021,4528,2518,3884,2621,3541,3749,4115,2218,3234,4344,3216,9453,5055,4002,3169,6168,2407,2064,3973,7281,3052,4628,4082,5394,2766,3924,3015,6666,3854,4355,4343,6108,2523,2327,3990,2191,1941,16062,4998,4289,3880,3786,4298,3630,2826,7407,10386,2998,7018,2941,6432,10667,3988,4978,3388,4467,3246,5072,6339,4239,3454,7571,3333,3818,10933,5058,3601,3480,3525,3606,5542,6559,3623,10493,4446,2957,5538,4681,5273,5055,4002,3169,6168,2407,3630,2826,7407,10386,2998,3052,4628,4082,5394,2766,3924,3015,5409,5323,8001,4150,4609,6348,11068,7231,17396,6814,17713,5563,4842,11149,10206,13700,5731,4139,32695,36919],\"xaxis\":\"x\",\"y\":[162,224,131,213,123,144,76,124,159,191,81,151,162,142,294,159,205,121,151,72,76,91,195,129,160,175,147,114,151,92,214,150,122,152,196,86,85,156,72,82,416,180,150,127,167,225,137,114,263,328,126,236,99,212,297,142,186,112,149,132,115,248,178,107,269,96,134,301,187,94,114,96,138,122,257,95,244,190,118,178,170,250,159,205,121,151,72,137,114,263,328,126,129,160,175,147,114,151,92,275,192,203,145,168,194,250,171,416,249,308,163,86,210,172,373,148,92,549,443],\"yaxis\":\"y\",\"type\":\"scatter\"},{\"hovertemplate\":\"<b>OLS trendline</b><br>Likes = 0.0144533 * Impressions + 91.3401<br>R<sup>2</sup>=0.722220<br><br>Impressions=%{x}<br>Likes=%{y} <b>(trend)</b><extra></extra>\",\"legendgroup\":\"\",\"marker\":{\"color\":\"#636efa\",\"symbol\":\"circle\"},\"mode\":\"lines\",\"name\":\"\",\"showlegend\":false,\"x\":[1941,2064,2191,2218,2327,2407,2407,2518,2523,2621,2766,2766,2826,2826,2941,2957,2998,2998,3015,3015,3052,3052,3169,3169,3216,3234,3246,3333,3388,3454,3480,3525,3541,3601,3606,3623,3630,3630,3749,3786,3818,3854,3880,3884,3920,3924,3924,3973,3988,3990,4002,4002,4021,4082,4082,4115,4139,4150,4239,4289,4298,4343,4344,4355,4446,4467,4528,4609,4628,4628,4681,4842,4978,4998,5055,5055,5058,5072,5273,5323,5394,5394,5394,5409,5538,5542,5563,5731,6108,6168,6168,6339,6348,6432,6559,6666,6814,7018,7231,7281,7407,7407,7571,8001,9453,10206,10386,10386,10493,10667,10933,11068,11149,13700,16062,17396,17713,32695,36919],\"xaxis\":\"x\",\"y\":[119.393918281271,121.17167247763952,123.00723981860538,123.3974785446375,124.97288673491529,126.1291496268623,126.1291496268623,127.73346438943875,127.80573082018545,129.22215286282054,131.31787935447448,131.31787935447448,132.18507652343473,132.18507652343473,133.84720443060854,134.07845700899793,134.67104174112077,134.67104174112077,134.9167476056595,134.9167476056595,135.451519193185,135.451519193185,137.1425536726575,137.1425536726575,137.82185812167637,138.08201727236442,138.25545670615648,139.51289260114885,140.30782333936241,141.2617402252187,141.63752566510146,142.28792354182167,142.51917612021106,143.3863732891713,143.45863971991798,143.70434558445675,143.8055185875021,143.8055185875021,145.52545963927327,146.06023122679875,146.52273638357755,147.0430546849537,147.4188401248365,147.47665326943383,147.99697157081,148.05478471540732,148.05478471540732,148.76299573672486,148.97979502896493,149.00870160126362,149.18214103505565,149.18214103505565,149.45675347189308,150.33840392700267,150.33840392700267,150.8153623699308,151.1622412375149,151.3212273851576,152.60756985244865,153.33023415991553,153.46031373525958,154.11071161197975,154.1251648981291,154.2841510457718,155.59940008536154,155.9029190944976,156.7845695496072,157.95528572770354,158.22989816454094,158.22989816454094,158.99592233045584,161.32290140049918,163.28854831680908,163.57761403979583,164.4014513503081,164.4014513503081,164.4448112087561,164.6471572148468,167.55226773086366,168.27493203833052,169.3011153549335,169.3011153549335,169.3011153549335,169.51791464717357,171.38238856043813,171.44020170503546,171.74372071417156,174.17187278726027,179.6207616655605,180.48795883452075,180.48795883452075,182.95947076605748,183.0895503414015,184.30362637794587,186.1391937189117,187.68569533689083,189.82478168699282,192.77325206145764,195.85180201126656,196.5744663187334,198.39558037354996,198.39558037354996,200.7659193020413,206.98083234625645,227.96700383509454,238.8503283055457,241.45191981242647,241.45191981242647,242.99842143040559,245.51329322039032,249.3578673361141,251.30906096627467,252.47977714437098,289.35011011133105,323.4887719960663,342.7694557192826,347.3511474286226,563.8902805179974,624.9409612127993],\"yaxis\":\"y\",\"type\":\"scatter\"}],                        {\"template\":{\"data\":{\"histogram2dcontour\":[{\"type\":\"histogram2dcontour\",\"colorbar\":{\"outlinewidth\":0,\"ticks\":\"\"},\"colorscale\":[[0.0,\"#0d0887\"],[0.1111111111111111,\"#46039f\"],[0.2222222222222222,\"#7201a8\"],[0.3333333333333333,\"#9c179e\"],[0.4444444444444444,\"#bd3786\"],[0.5555555555555556,\"#d8576b\"],[0.6666666666666666,\"#ed7953\"],[0.7777777777777778,\"#fb9f3a\"],[0.8888888888888888,\"#fdca26\"],[1.0,\"#f0f921\"]]}],\"choropleth\":[{\"type\":\"choropleth\",\"colorbar\":{\"outlinewidth\":0,\"ticks\":\"\"}}],\"histogram2d\":[{\"type\":\"histogram2d\",\"colorbar\":{\"outlinewidth\":0,\"ticks\":\"\"},\"colorscale\":[[0.0,\"#0d0887\"],[0.1111111111111111,\"#46039f\"],[0.2222222222222222,\"#7201a8\"],[0.3333333333333333,\"#9c179e\"],[0.4444444444444444,\"#bd3786\"],[0.5555555555555556,\"#d8576b\"],[0.6666666666666666,\"#ed7953\"],[0.7777777777777778,\"#fb9f3a\"],[0.8888888888888888,\"#fdca26\"],[1.0,\"#f0f921\"]]}],\"heatmap\":[{\"type\":\"heatmap\",\"colorbar\":{\"outlinewidth\":0,\"ticks\":\"\"},\"colorscale\":[[0.0,\"#0d0887\"],[0.1111111111111111,\"#46039f\"],[0.2222222222222222,\"#7201a8\"],[0.3333333333333333,\"#9c179e\"],[0.4444444444444444,\"#bd3786\"],[0.5555555555555556,\"#d8576b\"],[0.6666666666666666,\"#ed7953\"],[0.7777777777777778,\"#fb9f3a\"],[0.8888888888888888,\"#fdca26\"],[1.0,\"#f0f921\"]]}],\"heatmapgl\":[{\"type\":\"heatmapgl\",\"colorbar\":{\"outlinewidth\":0,\"ticks\":\"\"},\"colorscale\":[[0.0,\"#0d0887\"],[0.1111111111111111,\"#46039f\"],[0.2222222222222222,\"#7201a8\"],[0.3333333333333333,\"#9c179e\"],[0.4444444444444444,\"#bd3786\"],[0.5555555555555556,\"#d8576b\"],[0.6666666666666666,\"#ed7953\"],[0.7777777777777778,\"#fb9f3a\"],[0.8888888888888888,\"#fdca26\"],[1.0,\"#f0f921\"]]}],\"contourcarpet\":[{\"type\":\"contourcarpet\",\"colorbar\":{\"outlinewidth\":0,\"ticks\":\"\"}}],\"contour\":[{\"type\":\"contour\",\"colorbar\":{\"outlinewidth\":0,\"ticks\":\"\"},\"colorscale\":[[0.0,\"#0d0887\"],[0.1111111111111111,\"#46039f\"],[0.2222222222222222,\"#7201a8\"],[0.3333333333333333,\"#9c179e\"],[0.4444444444444444,\"#bd3786\"],[0.5555555555555556,\"#d8576b\"],[0.6666666666666666,\"#ed7953\"],[0.7777777777777778,\"#fb9f3a\"],[0.8888888888888888,\"#fdca26\"],[1.0,\"#f0f921\"]]}],\"surface\":[{\"type\":\"surface\",\"colorbar\":{\"outlinewidth\":0,\"ticks\":\"\"},\"colorscale\":[[0.0,\"#0d0887\"],[0.1111111111111111,\"#46039f\"],[0.2222222222222222,\"#7201a8\"],[0.3333333333333333,\"#9c179e\"],[0.4444444444444444,\"#bd3786\"],[0.5555555555555556,\"#d8576b\"],[0.6666666666666666,\"#ed7953\"],[0.7777777777777778,\"#fb9f3a\"],[0.8888888888888888,\"#fdca26\"],[1.0,\"#f0f921\"]]}],\"mesh3d\":[{\"type\":\"mesh3d\",\"colorbar\":{\"outlinewidth\":0,\"ticks\":\"\"}}],\"scatter\":[{\"fillpattern\":{\"fillmode\":\"overlay\",\"size\":10,\"solidity\":0.2},\"type\":\"scatter\"}],\"parcoords\":[{\"type\":\"parcoords\",\"line\":{\"colorbar\":{\"outlinewidth\":0,\"ticks\":\"\"}}}],\"scatterpolargl\":[{\"type\":\"scatterpolargl\",\"marker\":{\"colorbar\":{\"outlinewidth\":0,\"ticks\":\"\"}}}],\"bar\":[{\"error_x\":{\"color\":\"#2a3f5f\"},\"error_y\":{\"color\":\"#2a3f5f\"},\"marker\":{\"line\":{\"color\":\"#E5ECF6\",\"width\":0.5},\"pattern\":{\"fillmode\":\"overlay\",\"size\":10,\"solidity\":0.2}},\"type\":\"bar\"}],\"scattergeo\":[{\"type\":\"scattergeo\",\"marker\":{\"colorbar\":{\"outlinewidth\":0,\"ticks\":\"\"}}}],\"scatterpolar\":[{\"type\":\"scatterpolar\",\"marker\":{\"colorbar\":{\"outlinewidth\":0,\"ticks\":\"\"}}}],\"histogram\":[{\"marker\":{\"pattern\":{\"fillmode\":\"overlay\",\"size\":10,\"solidity\":0.2}},\"type\":\"histogram\"}],\"scattergl\":[{\"type\":\"scattergl\",\"marker\":{\"colorbar\":{\"outlinewidth\":0,\"ticks\":\"\"}}}],\"scatter3d\":[{\"type\":\"scatter3d\",\"line\":{\"colorbar\":{\"outlinewidth\":0,\"ticks\":\"\"}},\"marker\":{\"colorbar\":{\"outlinewidth\":0,\"ticks\":\"\"}}}],\"scattermapbox\":[{\"type\":\"scattermapbox\",\"marker\":{\"colorbar\":{\"outlinewidth\":0,\"ticks\":\"\"}}}],\"scatterternary\":[{\"type\":\"scatterternary\",\"marker\":{\"colorbar\":{\"outlinewidth\":0,\"ticks\":\"\"}}}],\"scattercarpet\":[{\"type\":\"scattercarpet\",\"marker\":{\"colorbar\":{\"outlinewidth\":0,\"ticks\":\"\"}}}],\"carpet\":[{\"aaxis\":{\"endlinecolor\":\"#2a3f5f\",\"gridcolor\":\"white\",\"linecolor\":\"white\",\"minorgridcolor\":\"white\",\"startlinecolor\":\"#2a3f5f\"},\"baxis\":{\"endlinecolor\":\"#2a3f5f\",\"gridcolor\":\"white\",\"linecolor\":\"white\",\"minorgridcolor\":\"white\",\"startlinecolor\":\"#2a3f5f\"},\"type\":\"carpet\"}],\"table\":[{\"cells\":{\"fill\":{\"color\":\"#EBF0F8\"},\"line\":{\"color\":\"white\"}},\"header\":{\"fill\":{\"color\":\"#C8D4E3\"},\"line\":{\"color\":\"white\"}},\"type\":\"table\"}],\"barpolar\":[{\"marker\":{\"line\":{\"color\":\"#E5ECF6\",\"width\":0.5},\"pattern\":{\"fillmode\":\"overlay\",\"size\":10,\"solidity\":0.2}},\"type\":\"barpolar\"}],\"pie\":[{\"automargin\":true,\"type\":\"pie\"}]},\"layout\":{\"autotypenumbers\":\"strict\",\"colorway\":[\"#636efa\",\"#EF553B\",\"#00cc96\",\"#ab63fa\",\"#FFA15A\",\"#19d3f3\",\"#FF6692\",\"#B6E880\",\"#FF97FF\",\"#FECB52\"],\"font\":{\"color\":\"#2a3f5f\"},\"hovermode\":\"closest\",\"hoverlabel\":{\"align\":\"left\"},\"paper_bgcolor\":\"white\",\"plot_bgcolor\":\"#E5ECF6\",\"polar\":{\"bgcolor\":\"#E5ECF6\",\"angularaxis\":{\"gridcolor\":\"white\",\"linecolor\":\"white\",\"ticks\":\"\"},\"radialaxis\":{\"gridcolor\":\"white\",\"linecolor\":\"white\",\"ticks\":\"\"}},\"ternary\":{\"bgcolor\":\"#E5ECF6\",\"aaxis\":{\"gridcolor\":\"white\",\"linecolor\":\"white\",\"ticks\":\"\"},\"baxis\":{\"gridcolor\":\"white\",\"linecolor\":\"white\",\"ticks\":\"\"},\"caxis\":{\"gridcolor\":\"white\",\"linecolor\":\"white\",\"ticks\":\"\"}},\"coloraxis\":{\"colorbar\":{\"outlinewidth\":0,\"ticks\":\"\"}},\"colorscale\":{\"sequential\":[[0.0,\"#0d0887\"],[0.1111111111111111,\"#46039f\"],[0.2222222222222222,\"#7201a8\"],[0.3333333333333333,\"#9c179e\"],[0.4444444444444444,\"#bd3786\"],[0.5555555555555556,\"#d8576b\"],[0.6666666666666666,\"#ed7953\"],[0.7777777777777778,\"#fb9f3a\"],[0.8888888888888888,\"#fdca26\"],[1.0,\"#f0f921\"]],\"sequentialminus\":[[0.0,\"#0d0887\"],[0.1111111111111111,\"#46039f\"],[0.2222222222222222,\"#7201a8\"],[0.3333333333333333,\"#9c179e\"],[0.4444444444444444,\"#bd3786\"],[0.5555555555555556,\"#d8576b\"],[0.6666666666666666,\"#ed7953\"],[0.7777777777777778,\"#fb9f3a\"],[0.8888888888888888,\"#fdca26\"],[1.0,\"#f0f921\"]],\"diverging\":[[0,\"#8e0152\"],[0.1,\"#c51b7d\"],[0.2,\"#de77ae\"],[0.3,\"#f1b6da\"],[0.4,\"#fde0ef\"],[0.5,\"#f7f7f7\"],[0.6,\"#e6f5d0\"],[0.7,\"#b8e186\"],[0.8,\"#7fbc41\"],[0.9,\"#4d9221\"],[1,\"#276419\"]]},\"xaxis\":{\"gridcolor\":\"white\",\"linecolor\":\"white\",\"ticks\":\"\",\"title\":{\"standoff\":15},\"zerolinecolor\":\"white\",\"automargin\":true,\"zerolinewidth\":2},\"yaxis\":{\"gridcolor\":\"white\",\"linecolor\":\"white\",\"ticks\":\"\",\"title\":{\"standoff\":15},\"zerolinecolor\":\"white\",\"automargin\":true,\"zerolinewidth\":2},\"scene\":{\"xaxis\":{\"backgroundcolor\":\"#E5ECF6\",\"gridcolor\":\"white\",\"linecolor\":\"white\",\"showbackground\":true,\"ticks\":\"\",\"zerolinecolor\":\"white\",\"gridwidth\":2},\"yaxis\":{\"backgroundcolor\":\"#E5ECF6\",\"gridcolor\":\"white\",\"linecolor\":\"white\",\"showbackground\":true,\"ticks\":\"\",\"zerolinecolor\":\"white\",\"gridwidth\":2},\"zaxis\":{\"backgroundcolor\":\"#E5ECF6\",\"gridcolor\":\"white\",\"linecolor\":\"white\",\"showbackground\":true,\"ticks\":\"\",\"zerolinecolor\":\"white\",\"gridwidth\":2}},\"shapedefaults\":{\"line\":{\"color\":\"#2a3f5f\"}},\"annotationdefaults\":{\"arrowcolor\":\"#2a3f5f\",\"arrowhead\":0,\"arrowwidth\":1},\"geo\":{\"bgcolor\":\"white\",\"landcolor\":\"#E5ECF6\",\"subunitcolor\":\"white\",\"showland\":true,\"showlakes\":true,\"lakecolor\":\"white\"},\"title\":{\"x\":0.05},\"mapbox\":{\"style\":\"light\"}}},\"xaxis\":{\"anchor\":\"y\",\"domain\":[0.0,1.0],\"title\":{\"text\":\"Impressions\"}},\"yaxis\":{\"anchor\":\"x\",\"domain\":[0.0,1.0],\"title\":{\"text\":\"Likes\"}},\"legend\":{\"tracegroupgap\":0,\"itemsizing\":\"constant\"},\"title\":{\"text\":\"Relationship Between Likes and Impressions\"}},                        {\"responsive\": true}                    ).then(function(){\n",
       "                            \n",
       "var gd = document.getElementById('322dde22-e069-4f8e-a57f-2b2c33db9568');\n",
       "var x = new MutationObserver(function (mutations, observer) {{\n",
       "        var display = window.getComputedStyle(gd).display;\n",
       "        if (!display || display === 'none') {{\n",
       "            console.log([gd, 'removed!']);\n",
       "            Plotly.purge(gd);\n",
       "            observer.disconnect();\n",
       "        }}\n",
       "}});\n",
       "\n",
       "// Listen for the removal of the full notebook cells\n",
       "var notebookContainer = gd.closest('#notebook-container');\n",
       "if (notebookContainer) {{\n",
       "    x.observe(notebookContainer, {childList: true});\n",
       "}}\n",
       "\n",
       "// Listen for the clearing of the current output cell\n",
       "var outputEl = gd.closest('.output');\n",
       "if (outputEl) {{\n",
       "    x.observe(outputEl, {childList: true});\n",
       "}}\n",
       "\n",
       "                        })                };                });            </script>        </div>"
      ]
     },
     "metadata": {},
     "output_type": "display_data"
    }
   ],
   "source": [
    "figure = px.scatter(data_frame = data, x=\"Impressions\",\n",
    "                    y=\"Likes\", size=\"Likes\", trendline=\"ols\", \n",
    "                    title = \"Relationship Between Likes and Impressions\")# El data_frame son los datos cargados del CSV, x e y lo que queremos comparar, trendline es el tipo de linea de regresión (https://plotly.com/python/linear-fits/)\n",
    "figure.show()"
   ]
  },
  {
   "cell_type": "markdown",
   "id": "6fabfc1f",
   "metadata": {},
   "source": [
    "ES: Podemos oservar un relación lineal entre numero de Me gustas y visitas.\n",
    "EN:There is a linear relationship between the number of likes and the reach on Instagram\n"
   ]
  },
  {
   "cell_type": "markdown",
   "id": "1793916a",
   "metadata": {},
   "source": [
    "Es: Vamos a comparar el numero de visitas con repecto al numero de Comentarios\n",
    "En: We are gona compare the number of impressions vs number of Comments"
   ]
  },
  {
   "cell_type": "code",
   "execution_count": 39,
   "id": "4548039d",
   "metadata": {},
   "outputs": [
    {
     "data": {
      "application/vnd.plotly.v1+json": {
       "config": {
        "plotlyServerURL": "https://plot.ly"
       },
       "data": [
        {
         "hovertemplate": "Impressions=%{x}<br>Comments=%{marker.size}<extra></extra>",
         "legendgroup": "",
         "marker": {
          "color": "#636efa",
          "size": [
           9,
           7,
           11,
           10,
           5,
           7,
           5,
           4,
           6,
           6,
           6,
           8,
           7,
           5,
           6,
           7,
           17,
           8,
           6,
           8,
           4,
           3,
           7,
           5,
           8,
           11,
           19,
           10,
           11,
           11,
           9,
           11,
           8,
           6,
           7,
           6,
           3,
           4,
           2,
           6,
           6,
           4,
           8,
           4,
           9,
           6,
           4,
           3,
           5,
           8,
           4,
           9,
           2,
           11,
           13,
           6,
           9,
           1,
           3,
           5,
           7,
           8,
           2,
           0,
           7,
           3,
           6,
           13,
           9,
           0,
           1,
           5,
           5,
           7,
           8,
           3,
           9,
           6,
           4,
           6,
           7,
           9,
           7,
           17,
           8,
           6,
           8,
           4,
           3,
           5,
           8,
           4,
           5,
           8,
           11,
           19,
           10,
           11,
           11,
           10,
           6,
           8,
           4,
           1,
           4,
           7,
           8,
           7,
           8,
           3,
           5,
           6,
           4,
           10,
           2,
           4,
           0,
           2,
           5
          ],
          "sizemode": "area",
          "sizeref": 0.0475,
          "symbol": "circle"
         },
         "mode": "markers",
         "name": "",
         "orientation": "v",
         "showlegend": false,
         "type": "scatter",
         "x": [
          3920,
          5394,
          4021,
          4528,
          2518,
          3884,
          2621,
          3541,
          3749,
          4115,
          2218,
          3234,
          4344,
          3216,
          9453,
          5055,
          4002,
          3169,
          6168,
          2407,
          2064,
          3973,
          7281,
          3052,
          4628,
          4082,
          5394,
          2766,
          3924,
          3015,
          6666,
          3854,
          4355,
          4343,
          6108,
          2523,
          2327,
          3990,
          2191,
          1941,
          16062,
          4998,
          4289,
          3880,
          3786,
          4298,
          3630,
          2826,
          7407,
          10386,
          2998,
          7018,
          2941,
          6432,
          10667,
          3988,
          4978,
          3388,
          4467,
          3246,
          5072,
          6339,
          4239,
          3454,
          7571,
          3333,
          3818,
          10933,
          5058,
          3601,
          3480,
          3525,
          3606,
          5542,
          6559,
          3623,
          10493,
          4446,
          2957,
          5538,
          4681,
          5273,
          5055,
          4002,
          3169,
          6168,
          2407,
          3630,
          2826,
          7407,
          10386,
          2998,
          3052,
          4628,
          4082,
          5394,
          2766,
          3924,
          3015,
          5409,
          5323,
          8001,
          4150,
          4609,
          6348,
          11068,
          7231,
          17396,
          6814,
          17713,
          5563,
          4842,
          11149,
          10206,
          13700,
          5731,
          4139,
          32695,
          36919
         ],
         "xaxis": "x",
         "y": [
          9,
          7,
          11,
          10,
          5,
          7,
          5,
          4,
          6,
          6,
          6,
          8,
          7,
          5,
          6,
          7,
          17,
          8,
          6,
          8,
          4,
          3,
          7,
          5,
          8,
          11,
          19,
          10,
          11,
          11,
          9,
          11,
          8,
          6,
          7,
          6,
          3,
          4,
          2,
          6,
          6,
          4,
          8,
          4,
          9,
          6,
          4,
          3,
          5,
          8,
          4,
          9,
          2,
          11,
          13,
          6,
          9,
          1,
          3,
          5,
          7,
          8,
          2,
          0,
          7,
          3,
          6,
          13,
          9,
          0,
          1,
          5,
          5,
          7,
          8,
          3,
          9,
          6,
          4,
          6,
          7,
          9,
          7,
          17,
          8,
          6,
          8,
          4,
          3,
          5,
          8,
          4,
          5,
          8,
          11,
          19,
          10,
          11,
          11,
          10,
          6,
          8,
          4,
          1,
          4,
          7,
          8,
          7,
          8,
          3,
          5,
          6,
          4,
          10,
          2,
          4,
          0,
          2,
          5
         ],
         "yaxis": "y"
        },
        {
         "hovertemplate": "<b>OLS trendline</b><br>Comments = -2.08732e-05 * Impressions + 6.78293<br>R<sup>2</sup>=0.000814<br><br>Impressions=%{x}<br>Comments=%{y} <b>(trend)</b><extra></extra>",
         "legendgroup": "",
         "marker": {
          "color": "#636efa",
          "symbol": "circle"
         },
         "mode": "lines",
         "name": "",
         "showlegend": false,
         "type": "scatter",
         "x": [
          1941,
          2064,
          2191,
          2218,
          2327,
          2407,
          2407,
          2518,
          2523,
          2621,
          2766,
          2766,
          2826,
          2826,
          2941,
          2957,
          2998,
          2998,
          3015,
          3015,
          3052,
          3052,
          3169,
          3169,
          3216,
          3234,
          3246,
          3333,
          3388,
          3454,
          3480,
          3525,
          3541,
          3601,
          3606,
          3623,
          3630,
          3630,
          3749,
          3786,
          3818,
          3854,
          3880,
          3884,
          3920,
          3924,
          3924,
          3973,
          3988,
          3990,
          4002,
          4002,
          4021,
          4082,
          4082,
          4115,
          4139,
          4150,
          4239,
          4289,
          4298,
          4343,
          4344,
          4355,
          4446,
          4467,
          4528,
          4609,
          4628,
          4628,
          4681,
          4842,
          4978,
          4998,
          5055,
          5055,
          5058,
          5072,
          5273,
          5323,
          5394,
          5394,
          5394,
          5409,
          5538,
          5542,
          5563,
          5731,
          6108,
          6168,
          6168,
          6339,
          6348,
          6432,
          6559,
          6666,
          6814,
          7018,
          7231,
          7281,
          7407,
          7407,
          7571,
          8001,
          9453,
          10206,
          10386,
          10386,
          10493,
          10667,
          10933,
          11068,
          11149,
          13700,
          16062,
          17396,
          17713,
          32695,
          36919
         ],
         "xaxis": "x",
         "y": [
          6.74241127855949,
          6.739843873124258,
          6.737192974829343,
          6.736629398026487,
          6.734354217600143,
          6.7326843604064965,
          6.7326843604064965,
          6.730367433550311,
          6.7302630674757085,
          6.72821749241349,
          6.7251908762500054,
          6.7251908762500054,
          6.72393848335477,
          6.72393848335477,
          6.721538063638903,
          6.721204092200173,
          6.720348290388429,
          6.720348290388429,
          6.719993445734779,
          6.719993445734779,
          6.719221136782718,
          6.719221136782718,
          6.716778970637009,
          6.716778970637009,
          6.715797929535741,
          6.715422211667171,
          6.715171733088124,
          6.713355763390033,
          6.7122077365694,
          6.710830104384642,
          6.710287400796706,
          6.70934810612528,
          6.709014134686551,
          6.707761741791315,
          6.707657375716712,
          6.707302531063062,
          6.707156418558618,
          6.707156418558618,
          6.704672505983068,
          6.703900197031007,
          6.703232254153548,
          6.702480818416407,
          6.701938114828471,
          6.701854621968789,
          6.701103186231649,
          6.701019693371966,
          6.701019693371966,
          6.699996905840857,
          6.699683807617048,
          6.699642061187207,
          6.69939158260816,
          6.69939158260816,
          6.698994991524669,
          6.697721725414513,
          6.697721725414513,
          6.697032909322134,
          6.696531952164039,
          6.696302346799913,
          6.694444630671981,
          6.693400969925952,
          6.693213110991667,
          6.69227381632024,
          6.69225294310532,
          6.692023337741193,
          6.69012387518342,
          6.689685537670087,
          6.6884122715599315,
          6.686721541151364,
          6.686324950067873,
          6.686324950067873,
          6.685218669677082,
          6.681858082074867,
          6.679019324845667,
          6.678601860547256,
          6.677412087296783,
          6.677412087296783,
          6.677349467652021,
          6.677057242643133,
          6.672861726444094,
          6.671818065698065,
          6.670336067438703,
          6.670336067438703,
          6.670336067438703,
          6.6700229692148945,
          6.6673303244901385,
          6.6672468316304565,
          6.666808494117125,
          6.663301794010466,
          6.655432591985404,
          6.6541801990901694,
          6.6541801990901694,
          6.650610879338749,
          6.650423020404464,
          6.6486696703511345,
          6.64601877205622,
          6.643785338059717,
          6.640696102251471,
          6.63643796640767,
          6.631991971629586,
          6.630948310883556,
          6.628318285803562,
          6.628318285803562,
          6.624895078556586,
          6.615919596140734,
          6.585611688076042,
          6.56989415724084,
          6.566136978555134,
          6.566136978555134,
          6.563903544558632,
          6.560271605162449,
          6.554719329993573,
          6.551901445979294,
          6.550210715570726,
          6.496963144308309,
          6.447660610665884,
          6.419815741961821,
          6.413198932831995,
          6.100476426891764,
          6.012307967067206
         ],
         "yaxis": "y"
        }
       ],
       "layout": {
        "legend": {
         "itemsizing": "constant",
         "tracegroupgap": 0
        },
        "template": {
         "data": {
          "bar": [
           {
            "error_x": {
             "color": "#2a3f5f"
            },
            "error_y": {
             "color": "#2a3f5f"
            },
            "marker": {
             "line": {
              "color": "#E5ECF6",
              "width": 0.5
             },
             "pattern": {
              "fillmode": "overlay",
              "size": 10,
              "solidity": 0.2
             }
            },
            "type": "bar"
           }
          ],
          "barpolar": [
           {
            "marker": {
             "line": {
              "color": "#E5ECF6",
              "width": 0.5
             },
             "pattern": {
              "fillmode": "overlay",
              "size": 10,
              "solidity": 0.2
             }
            },
            "type": "barpolar"
           }
          ],
          "carpet": [
           {
            "aaxis": {
             "endlinecolor": "#2a3f5f",
             "gridcolor": "white",
             "linecolor": "white",
             "minorgridcolor": "white",
             "startlinecolor": "#2a3f5f"
            },
            "baxis": {
             "endlinecolor": "#2a3f5f",
             "gridcolor": "white",
             "linecolor": "white",
             "minorgridcolor": "white",
             "startlinecolor": "#2a3f5f"
            },
            "type": "carpet"
           }
          ],
          "choropleth": [
           {
            "colorbar": {
             "outlinewidth": 0,
             "ticks": ""
            },
            "type": "choropleth"
           }
          ],
          "contour": [
           {
            "colorbar": {
             "outlinewidth": 0,
             "ticks": ""
            },
            "colorscale": [
             [
              0,
              "#0d0887"
             ],
             [
              0.1111111111111111,
              "#46039f"
             ],
             [
              0.2222222222222222,
              "#7201a8"
             ],
             [
              0.3333333333333333,
              "#9c179e"
             ],
             [
              0.4444444444444444,
              "#bd3786"
             ],
             [
              0.5555555555555556,
              "#d8576b"
             ],
             [
              0.6666666666666666,
              "#ed7953"
             ],
             [
              0.7777777777777778,
              "#fb9f3a"
             ],
             [
              0.8888888888888888,
              "#fdca26"
             ],
             [
              1,
              "#f0f921"
             ]
            ],
            "type": "contour"
           }
          ],
          "contourcarpet": [
           {
            "colorbar": {
             "outlinewidth": 0,
             "ticks": ""
            },
            "type": "contourcarpet"
           }
          ],
          "heatmap": [
           {
            "colorbar": {
             "outlinewidth": 0,
             "ticks": ""
            },
            "colorscale": [
             [
              0,
              "#0d0887"
             ],
             [
              0.1111111111111111,
              "#46039f"
             ],
             [
              0.2222222222222222,
              "#7201a8"
             ],
             [
              0.3333333333333333,
              "#9c179e"
             ],
             [
              0.4444444444444444,
              "#bd3786"
             ],
             [
              0.5555555555555556,
              "#d8576b"
             ],
             [
              0.6666666666666666,
              "#ed7953"
             ],
             [
              0.7777777777777778,
              "#fb9f3a"
             ],
             [
              0.8888888888888888,
              "#fdca26"
             ],
             [
              1,
              "#f0f921"
             ]
            ],
            "type": "heatmap"
           }
          ],
          "heatmapgl": [
           {
            "colorbar": {
             "outlinewidth": 0,
             "ticks": ""
            },
            "colorscale": [
             [
              0,
              "#0d0887"
             ],
             [
              0.1111111111111111,
              "#46039f"
             ],
             [
              0.2222222222222222,
              "#7201a8"
             ],
             [
              0.3333333333333333,
              "#9c179e"
             ],
             [
              0.4444444444444444,
              "#bd3786"
             ],
             [
              0.5555555555555556,
              "#d8576b"
             ],
             [
              0.6666666666666666,
              "#ed7953"
             ],
             [
              0.7777777777777778,
              "#fb9f3a"
             ],
             [
              0.8888888888888888,
              "#fdca26"
             ],
             [
              1,
              "#f0f921"
             ]
            ],
            "type": "heatmapgl"
           }
          ],
          "histogram": [
           {
            "marker": {
             "pattern": {
              "fillmode": "overlay",
              "size": 10,
              "solidity": 0.2
             }
            },
            "type": "histogram"
           }
          ],
          "histogram2d": [
           {
            "colorbar": {
             "outlinewidth": 0,
             "ticks": ""
            },
            "colorscale": [
             [
              0,
              "#0d0887"
             ],
             [
              0.1111111111111111,
              "#46039f"
             ],
             [
              0.2222222222222222,
              "#7201a8"
             ],
             [
              0.3333333333333333,
              "#9c179e"
             ],
             [
              0.4444444444444444,
              "#bd3786"
             ],
             [
              0.5555555555555556,
              "#d8576b"
             ],
             [
              0.6666666666666666,
              "#ed7953"
             ],
             [
              0.7777777777777778,
              "#fb9f3a"
             ],
             [
              0.8888888888888888,
              "#fdca26"
             ],
             [
              1,
              "#f0f921"
             ]
            ],
            "type": "histogram2d"
           }
          ],
          "histogram2dcontour": [
           {
            "colorbar": {
             "outlinewidth": 0,
             "ticks": ""
            },
            "colorscale": [
             [
              0,
              "#0d0887"
             ],
             [
              0.1111111111111111,
              "#46039f"
             ],
             [
              0.2222222222222222,
              "#7201a8"
             ],
             [
              0.3333333333333333,
              "#9c179e"
             ],
             [
              0.4444444444444444,
              "#bd3786"
             ],
             [
              0.5555555555555556,
              "#d8576b"
             ],
             [
              0.6666666666666666,
              "#ed7953"
             ],
             [
              0.7777777777777778,
              "#fb9f3a"
             ],
             [
              0.8888888888888888,
              "#fdca26"
             ],
             [
              1,
              "#f0f921"
             ]
            ],
            "type": "histogram2dcontour"
           }
          ],
          "mesh3d": [
           {
            "colorbar": {
             "outlinewidth": 0,
             "ticks": ""
            },
            "type": "mesh3d"
           }
          ],
          "parcoords": [
           {
            "line": {
             "colorbar": {
              "outlinewidth": 0,
              "ticks": ""
             }
            },
            "type": "parcoords"
           }
          ],
          "pie": [
           {
            "automargin": true,
            "type": "pie"
           }
          ],
          "scatter": [
           {
            "fillpattern": {
             "fillmode": "overlay",
             "size": 10,
             "solidity": 0.2
            },
            "type": "scatter"
           }
          ],
          "scatter3d": [
           {
            "line": {
             "colorbar": {
              "outlinewidth": 0,
              "ticks": ""
             }
            },
            "marker": {
             "colorbar": {
              "outlinewidth": 0,
              "ticks": ""
             }
            },
            "type": "scatter3d"
           }
          ],
          "scattercarpet": [
           {
            "marker": {
             "colorbar": {
              "outlinewidth": 0,
              "ticks": ""
             }
            },
            "type": "scattercarpet"
           }
          ],
          "scattergeo": [
           {
            "marker": {
             "colorbar": {
              "outlinewidth": 0,
              "ticks": ""
             }
            },
            "type": "scattergeo"
           }
          ],
          "scattergl": [
           {
            "marker": {
             "colorbar": {
              "outlinewidth": 0,
              "ticks": ""
             }
            },
            "type": "scattergl"
           }
          ],
          "scattermapbox": [
           {
            "marker": {
             "colorbar": {
              "outlinewidth": 0,
              "ticks": ""
             }
            },
            "type": "scattermapbox"
           }
          ],
          "scatterpolar": [
           {
            "marker": {
             "colorbar": {
              "outlinewidth": 0,
              "ticks": ""
             }
            },
            "type": "scatterpolar"
           }
          ],
          "scatterpolargl": [
           {
            "marker": {
             "colorbar": {
              "outlinewidth": 0,
              "ticks": ""
             }
            },
            "type": "scatterpolargl"
           }
          ],
          "scatterternary": [
           {
            "marker": {
             "colorbar": {
              "outlinewidth": 0,
              "ticks": ""
             }
            },
            "type": "scatterternary"
           }
          ],
          "surface": [
           {
            "colorbar": {
             "outlinewidth": 0,
             "ticks": ""
            },
            "colorscale": [
             [
              0,
              "#0d0887"
             ],
             [
              0.1111111111111111,
              "#46039f"
             ],
             [
              0.2222222222222222,
              "#7201a8"
             ],
             [
              0.3333333333333333,
              "#9c179e"
             ],
             [
              0.4444444444444444,
              "#bd3786"
             ],
             [
              0.5555555555555556,
              "#d8576b"
             ],
             [
              0.6666666666666666,
              "#ed7953"
             ],
             [
              0.7777777777777778,
              "#fb9f3a"
             ],
             [
              0.8888888888888888,
              "#fdca26"
             ],
             [
              1,
              "#f0f921"
             ]
            ],
            "type": "surface"
           }
          ],
          "table": [
           {
            "cells": {
             "fill": {
              "color": "#EBF0F8"
             },
             "line": {
              "color": "white"
             }
            },
            "header": {
             "fill": {
              "color": "#C8D4E3"
             },
             "line": {
              "color": "white"
             }
            },
            "type": "table"
           }
          ]
         },
         "layout": {
          "annotationdefaults": {
           "arrowcolor": "#2a3f5f",
           "arrowhead": 0,
           "arrowwidth": 1
          },
          "autotypenumbers": "strict",
          "coloraxis": {
           "colorbar": {
            "outlinewidth": 0,
            "ticks": ""
           }
          },
          "colorscale": {
           "diverging": [
            [
             0,
             "#8e0152"
            ],
            [
             0.1,
             "#c51b7d"
            ],
            [
             0.2,
             "#de77ae"
            ],
            [
             0.3,
             "#f1b6da"
            ],
            [
             0.4,
             "#fde0ef"
            ],
            [
             0.5,
             "#f7f7f7"
            ],
            [
             0.6,
             "#e6f5d0"
            ],
            [
             0.7,
             "#b8e186"
            ],
            [
             0.8,
             "#7fbc41"
            ],
            [
             0.9,
             "#4d9221"
            ],
            [
             1,
             "#276419"
            ]
           ],
           "sequential": [
            [
             0,
             "#0d0887"
            ],
            [
             0.1111111111111111,
             "#46039f"
            ],
            [
             0.2222222222222222,
             "#7201a8"
            ],
            [
             0.3333333333333333,
             "#9c179e"
            ],
            [
             0.4444444444444444,
             "#bd3786"
            ],
            [
             0.5555555555555556,
             "#d8576b"
            ],
            [
             0.6666666666666666,
             "#ed7953"
            ],
            [
             0.7777777777777778,
             "#fb9f3a"
            ],
            [
             0.8888888888888888,
             "#fdca26"
            ],
            [
             1,
             "#f0f921"
            ]
           ],
           "sequentialminus": [
            [
             0,
             "#0d0887"
            ],
            [
             0.1111111111111111,
             "#46039f"
            ],
            [
             0.2222222222222222,
             "#7201a8"
            ],
            [
             0.3333333333333333,
             "#9c179e"
            ],
            [
             0.4444444444444444,
             "#bd3786"
            ],
            [
             0.5555555555555556,
             "#d8576b"
            ],
            [
             0.6666666666666666,
             "#ed7953"
            ],
            [
             0.7777777777777778,
             "#fb9f3a"
            ],
            [
             0.8888888888888888,
             "#fdca26"
            ],
            [
             1,
             "#f0f921"
            ]
           ]
          },
          "colorway": [
           "#636efa",
           "#EF553B",
           "#00cc96",
           "#ab63fa",
           "#FFA15A",
           "#19d3f3",
           "#FF6692",
           "#B6E880",
           "#FF97FF",
           "#FECB52"
          ],
          "font": {
           "color": "#2a3f5f"
          },
          "geo": {
           "bgcolor": "white",
           "lakecolor": "white",
           "landcolor": "#E5ECF6",
           "showlakes": true,
           "showland": true,
           "subunitcolor": "white"
          },
          "hoverlabel": {
           "align": "left"
          },
          "hovermode": "closest",
          "mapbox": {
           "style": "light"
          },
          "paper_bgcolor": "white",
          "plot_bgcolor": "#E5ECF6",
          "polar": {
           "angularaxis": {
            "gridcolor": "white",
            "linecolor": "white",
            "ticks": ""
           },
           "bgcolor": "#E5ECF6",
           "radialaxis": {
            "gridcolor": "white",
            "linecolor": "white",
            "ticks": ""
           }
          },
          "scene": {
           "xaxis": {
            "backgroundcolor": "#E5ECF6",
            "gridcolor": "white",
            "gridwidth": 2,
            "linecolor": "white",
            "showbackground": true,
            "ticks": "",
            "zerolinecolor": "white"
           },
           "yaxis": {
            "backgroundcolor": "#E5ECF6",
            "gridcolor": "white",
            "gridwidth": 2,
            "linecolor": "white",
            "showbackground": true,
            "ticks": "",
            "zerolinecolor": "white"
           },
           "zaxis": {
            "backgroundcolor": "#E5ECF6",
            "gridcolor": "white",
            "gridwidth": 2,
            "linecolor": "white",
            "showbackground": true,
            "ticks": "",
            "zerolinecolor": "white"
           }
          },
          "shapedefaults": {
           "line": {
            "color": "#2a3f5f"
           }
          },
          "ternary": {
           "aaxis": {
            "gridcolor": "white",
            "linecolor": "white",
            "ticks": ""
           },
           "baxis": {
            "gridcolor": "white",
            "linecolor": "white",
            "ticks": ""
           },
           "bgcolor": "#E5ECF6",
           "caxis": {
            "gridcolor": "white",
            "linecolor": "white",
            "ticks": ""
           }
          },
          "title": {
           "x": 0.05
          },
          "xaxis": {
           "automargin": true,
           "gridcolor": "white",
           "linecolor": "white",
           "ticks": "",
           "title": {
            "standoff": 15
           },
           "zerolinecolor": "white",
           "zerolinewidth": 2
          },
          "yaxis": {
           "automargin": true,
           "gridcolor": "white",
           "linecolor": "white",
           "ticks": "",
           "title": {
            "standoff": 15
           },
           "zerolinecolor": "white",
           "zerolinewidth": 2
          }
         }
        },
        "title": {
         "text": "Relationship Between Likes and Comments"
        },
        "xaxis": {
         "anchor": "y",
         "domain": [
          0,
          1
         ],
         "title": {
          "text": "Impressions"
         }
        },
        "yaxis": {
         "anchor": "x",
         "domain": [
          0,
          1
         ],
         "title": {
          "text": "Comments"
         }
        }
       }
      },
      "text/html": [
       "<div>                            <div id=\"802ca81e-3ee9-4bcc-b9e6-c32baf1a2d32\" class=\"plotly-graph-div\" style=\"height:525px; width:100%;\"></div>            <script type=\"text/javascript\">                require([\"plotly\"], function(Plotly) {                    window.PLOTLYENV=window.PLOTLYENV || {};                                    if (document.getElementById(\"802ca81e-3ee9-4bcc-b9e6-c32baf1a2d32\")) {                    Plotly.newPlot(                        \"802ca81e-3ee9-4bcc-b9e6-c32baf1a2d32\",                        [{\"hovertemplate\":\"Impressions=%{x}<br>Comments=%{marker.size}<extra></extra>\",\"legendgroup\":\"\",\"marker\":{\"color\":\"#636efa\",\"size\":[9,7,11,10,5,7,5,4,6,6,6,8,7,5,6,7,17,8,6,8,4,3,7,5,8,11,19,10,11,11,9,11,8,6,7,6,3,4,2,6,6,4,8,4,9,6,4,3,5,8,4,9,2,11,13,6,9,1,3,5,7,8,2,0,7,3,6,13,9,0,1,5,5,7,8,3,9,6,4,6,7,9,7,17,8,6,8,4,3,5,8,4,5,8,11,19,10,11,11,10,6,8,4,1,4,7,8,7,8,3,5,6,4,10,2,4,0,2,5],\"sizemode\":\"area\",\"sizeref\":0.0475,\"symbol\":\"circle\"},\"mode\":\"markers\",\"name\":\"\",\"orientation\":\"v\",\"showlegend\":false,\"x\":[3920,5394,4021,4528,2518,3884,2621,3541,3749,4115,2218,3234,4344,3216,9453,5055,4002,3169,6168,2407,2064,3973,7281,3052,4628,4082,5394,2766,3924,3015,6666,3854,4355,4343,6108,2523,2327,3990,2191,1941,16062,4998,4289,3880,3786,4298,3630,2826,7407,10386,2998,7018,2941,6432,10667,3988,4978,3388,4467,3246,5072,6339,4239,3454,7571,3333,3818,10933,5058,3601,3480,3525,3606,5542,6559,3623,10493,4446,2957,5538,4681,5273,5055,4002,3169,6168,2407,3630,2826,7407,10386,2998,3052,4628,4082,5394,2766,3924,3015,5409,5323,8001,4150,4609,6348,11068,7231,17396,6814,17713,5563,4842,11149,10206,13700,5731,4139,32695,36919],\"xaxis\":\"x\",\"y\":[9,7,11,10,5,7,5,4,6,6,6,8,7,5,6,7,17,8,6,8,4,3,7,5,8,11,19,10,11,11,9,11,8,6,7,6,3,4,2,6,6,4,8,4,9,6,4,3,5,8,4,9,2,11,13,6,9,1,3,5,7,8,2,0,7,3,6,13,9,0,1,5,5,7,8,3,9,6,4,6,7,9,7,17,8,6,8,4,3,5,8,4,5,8,11,19,10,11,11,10,6,8,4,1,4,7,8,7,8,3,5,6,4,10,2,4,0,2,5],\"yaxis\":\"y\",\"type\":\"scatter\"},{\"hovertemplate\":\"<b>OLS trendline</b><br>Comments = -2.08732e-05 * Impressions + 6.78293<br>R<sup>2</sup>=0.000814<br><br>Impressions=%{x}<br>Comments=%{y} <b>(trend)</b><extra></extra>\",\"legendgroup\":\"\",\"marker\":{\"color\":\"#636efa\",\"symbol\":\"circle\"},\"mode\":\"lines\",\"name\":\"\",\"showlegend\":false,\"x\":[1941,2064,2191,2218,2327,2407,2407,2518,2523,2621,2766,2766,2826,2826,2941,2957,2998,2998,3015,3015,3052,3052,3169,3169,3216,3234,3246,3333,3388,3454,3480,3525,3541,3601,3606,3623,3630,3630,3749,3786,3818,3854,3880,3884,3920,3924,3924,3973,3988,3990,4002,4002,4021,4082,4082,4115,4139,4150,4239,4289,4298,4343,4344,4355,4446,4467,4528,4609,4628,4628,4681,4842,4978,4998,5055,5055,5058,5072,5273,5323,5394,5394,5394,5409,5538,5542,5563,5731,6108,6168,6168,6339,6348,6432,6559,6666,6814,7018,7231,7281,7407,7407,7571,8001,9453,10206,10386,10386,10493,10667,10933,11068,11149,13700,16062,17396,17713,32695,36919],\"xaxis\":\"x\",\"y\":[6.74241127855949,6.739843873124258,6.737192974829343,6.736629398026487,6.734354217600143,6.7326843604064965,6.7326843604064965,6.730367433550311,6.7302630674757085,6.72821749241349,6.7251908762500054,6.7251908762500054,6.72393848335477,6.72393848335477,6.721538063638903,6.721204092200173,6.720348290388429,6.720348290388429,6.719993445734779,6.719993445734779,6.719221136782718,6.719221136782718,6.716778970637009,6.716778970637009,6.715797929535741,6.715422211667171,6.715171733088124,6.713355763390033,6.7122077365694,6.710830104384642,6.710287400796706,6.70934810612528,6.709014134686551,6.707761741791315,6.707657375716712,6.707302531063062,6.707156418558618,6.707156418558618,6.704672505983068,6.703900197031007,6.703232254153548,6.702480818416407,6.701938114828471,6.701854621968789,6.701103186231649,6.701019693371966,6.701019693371966,6.699996905840857,6.699683807617048,6.699642061187207,6.69939158260816,6.69939158260816,6.698994991524669,6.697721725414513,6.697721725414513,6.697032909322134,6.696531952164039,6.696302346799913,6.694444630671981,6.693400969925952,6.693213110991667,6.69227381632024,6.69225294310532,6.692023337741193,6.69012387518342,6.689685537670087,6.6884122715599315,6.686721541151364,6.686324950067873,6.686324950067873,6.685218669677082,6.681858082074867,6.679019324845667,6.678601860547256,6.677412087296783,6.677412087296783,6.677349467652021,6.677057242643133,6.672861726444094,6.671818065698065,6.670336067438703,6.670336067438703,6.670336067438703,6.6700229692148945,6.6673303244901385,6.6672468316304565,6.666808494117125,6.663301794010466,6.655432591985404,6.6541801990901694,6.6541801990901694,6.650610879338749,6.650423020404464,6.6486696703511345,6.64601877205622,6.643785338059717,6.640696102251471,6.63643796640767,6.631991971629586,6.630948310883556,6.628318285803562,6.628318285803562,6.624895078556586,6.615919596140734,6.585611688076042,6.56989415724084,6.566136978555134,6.566136978555134,6.563903544558632,6.560271605162449,6.554719329993573,6.551901445979294,6.550210715570726,6.496963144308309,6.447660610665884,6.419815741961821,6.413198932831995,6.100476426891764,6.012307967067206],\"yaxis\":\"y\",\"type\":\"scatter\"}],                        {\"template\":{\"data\":{\"histogram2dcontour\":[{\"type\":\"histogram2dcontour\",\"colorbar\":{\"outlinewidth\":0,\"ticks\":\"\"},\"colorscale\":[[0.0,\"#0d0887\"],[0.1111111111111111,\"#46039f\"],[0.2222222222222222,\"#7201a8\"],[0.3333333333333333,\"#9c179e\"],[0.4444444444444444,\"#bd3786\"],[0.5555555555555556,\"#d8576b\"],[0.6666666666666666,\"#ed7953\"],[0.7777777777777778,\"#fb9f3a\"],[0.8888888888888888,\"#fdca26\"],[1.0,\"#f0f921\"]]}],\"choropleth\":[{\"type\":\"choropleth\",\"colorbar\":{\"outlinewidth\":0,\"ticks\":\"\"}}],\"histogram2d\":[{\"type\":\"histogram2d\",\"colorbar\":{\"outlinewidth\":0,\"ticks\":\"\"},\"colorscale\":[[0.0,\"#0d0887\"],[0.1111111111111111,\"#46039f\"],[0.2222222222222222,\"#7201a8\"],[0.3333333333333333,\"#9c179e\"],[0.4444444444444444,\"#bd3786\"],[0.5555555555555556,\"#d8576b\"],[0.6666666666666666,\"#ed7953\"],[0.7777777777777778,\"#fb9f3a\"],[0.8888888888888888,\"#fdca26\"],[1.0,\"#f0f921\"]]}],\"heatmap\":[{\"type\":\"heatmap\",\"colorbar\":{\"outlinewidth\":0,\"ticks\":\"\"},\"colorscale\":[[0.0,\"#0d0887\"],[0.1111111111111111,\"#46039f\"],[0.2222222222222222,\"#7201a8\"],[0.3333333333333333,\"#9c179e\"],[0.4444444444444444,\"#bd3786\"],[0.5555555555555556,\"#d8576b\"],[0.6666666666666666,\"#ed7953\"],[0.7777777777777778,\"#fb9f3a\"],[0.8888888888888888,\"#fdca26\"],[1.0,\"#f0f921\"]]}],\"heatmapgl\":[{\"type\":\"heatmapgl\",\"colorbar\":{\"outlinewidth\":0,\"ticks\":\"\"},\"colorscale\":[[0.0,\"#0d0887\"],[0.1111111111111111,\"#46039f\"],[0.2222222222222222,\"#7201a8\"],[0.3333333333333333,\"#9c179e\"],[0.4444444444444444,\"#bd3786\"],[0.5555555555555556,\"#d8576b\"],[0.6666666666666666,\"#ed7953\"],[0.7777777777777778,\"#fb9f3a\"],[0.8888888888888888,\"#fdca26\"],[1.0,\"#f0f921\"]]}],\"contourcarpet\":[{\"type\":\"contourcarpet\",\"colorbar\":{\"outlinewidth\":0,\"ticks\":\"\"}}],\"contour\":[{\"type\":\"contour\",\"colorbar\":{\"outlinewidth\":0,\"ticks\":\"\"},\"colorscale\":[[0.0,\"#0d0887\"],[0.1111111111111111,\"#46039f\"],[0.2222222222222222,\"#7201a8\"],[0.3333333333333333,\"#9c179e\"],[0.4444444444444444,\"#bd3786\"],[0.5555555555555556,\"#d8576b\"],[0.6666666666666666,\"#ed7953\"],[0.7777777777777778,\"#fb9f3a\"],[0.8888888888888888,\"#fdca26\"],[1.0,\"#f0f921\"]]}],\"surface\":[{\"type\":\"surface\",\"colorbar\":{\"outlinewidth\":0,\"ticks\":\"\"},\"colorscale\":[[0.0,\"#0d0887\"],[0.1111111111111111,\"#46039f\"],[0.2222222222222222,\"#7201a8\"],[0.3333333333333333,\"#9c179e\"],[0.4444444444444444,\"#bd3786\"],[0.5555555555555556,\"#d8576b\"],[0.6666666666666666,\"#ed7953\"],[0.7777777777777778,\"#fb9f3a\"],[0.8888888888888888,\"#fdca26\"],[1.0,\"#f0f921\"]]}],\"mesh3d\":[{\"type\":\"mesh3d\",\"colorbar\":{\"outlinewidth\":0,\"ticks\":\"\"}}],\"scatter\":[{\"fillpattern\":{\"fillmode\":\"overlay\",\"size\":10,\"solidity\":0.2},\"type\":\"scatter\"}],\"parcoords\":[{\"type\":\"parcoords\",\"line\":{\"colorbar\":{\"outlinewidth\":0,\"ticks\":\"\"}}}],\"scatterpolargl\":[{\"type\":\"scatterpolargl\",\"marker\":{\"colorbar\":{\"outlinewidth\":0,\"ticks\":\"\"}}}],\"bar\":[{\"error_x\":{\"color\":\"#2a3f5f\"},\"error_y\":{\"color\":\"#2a3f5f\"},\"marker\":{\"line\":{\"color\":\"#E5ECF6\",\"width\":0.5},\"pattern\":{\"fillmode\":\"overlay\",\"size\":10,\"solidity\":0.2}},\"type\":\"bar\"}],\"scattergeo\":[{\"type\":\"scattergeo\",\"marker\":{\"colorbar\":{\"outlinewidth\":0,\"ticks\":\"\"}}}],\"scatterpolar\":[{\"type\":\"scatterpolar\",\"marker\":{\"colorbar\":{\"outlinewidth\":0,\"ticks\":\"\"}}}],\"histogram\":[{\"marker\":{\"pattern\":{\"fillmode\":\"overlay\",\"size\":10,\"solidity\":0.2}},\"type\":\"histogram\"}],\"scattergl\":[{\"type\":\"scattergl\",\"marker\":{\"colorbar\":{\"outlinewidth\":0,\"ticks\":\"\"}}}],\"scatter3d\":[{\"type\":\"scatter3d\",\"line\":{\"colorbar\":{\"outlinewidth\":0,\"ticks\":\"\"}},\"marker\":{\"colorbar\":{\"outlinewidth\":0,\"ticks\":\"\"}}}],\"scattermapbox\":[{\"type\":\"scattermapbox\",\"marker\":{\"colorbar\":{\"outlinewidth\":0,\"ticks\":\"\"}}}],\"scatterternary\":[{\"type\":\"scatterternary\",\"marker\":{\"colorbar\":{\"outlinewidth\":0,\"ticks\":\"\"}}}],\"scattercarpet\":[{\"type\":\"scattercarpet\",\"marker\":{\"colorbar\":{\"outlinewidth\":0,\"ticks\":\"\"}}}],\"carpet\":[{\"aaxis\":{\"endlinecolor\":\"#2a3f5f\",\"gridcolor\":\"white\",\"linecolor\":\"white\",\"minorgridcolor\":\"white\",\"startlinecolor\":\"#2a3f5f\"},\"baxis\":{\"endlinecolor\":\"#2a3f5f\",\"gridcolor\":\"white\",\"linecolor\":\"white\",\"minorgridcolor\":\"white\",\"startlinecolor\":\"#2a3f5f\"},\"type\":\"carpet\"}],\"table\":[{\"cells\":{\"fill\":{\"color\":\"#EBF0F8\"},\"line\":{\"color\":\"white\"}},\"header\":{\"fill\":{\"color\":\"#C8D4E3\"},\"line\":{\"color\":\"white\"}},\"type\":\"table\"}],\"barpolar\":[{\"marker\":{\"line\":{\"color\":\"#E5ECF6\",\"width\":0.5},\"pattern\":{\"fillmode\":\"overlay\",\"size\":10,\"solidity\":0.2}},\"type\":\"barpolar\"}],\"pie\":[{\"automargin\":true,\"type\":\"pie\"}]},\"layout\":{\"autotypenumbers\":\"strict\",\"colorway\":[\"#636efa\",\"#EF553B\",\"#00cc96\",\"#ab63fa\",\"#FFA15A\",\"#19d3f3\",\"#FF6692\",\"#B6E880\",\"#FF97FF\",\"#FECB52\"],\"font\":{\"color\":\"#2a3f5f\"},\"hovermode\":\"closest\",\"hoverlabel\":{\"align\":\"left\"},\"paper_bgcolor\":\"white\",\"plot_bgcolor\":\"#E5ECF6\",\"polar\":{\"bgcolor\":\"#E5ECF6\",\"angularaxis\":{\"gridcolor\":\"white\",\"linecolor\":\"white\",\"ticks\":\"\"},\"radialaxis\":{\"gridcolor\":\"white\",\"linecolor\":\"white\",\"ticks\":\"\"}},\"ternary\":{\"bgcolor\":\"#E5ECF6\",\"aaxis\":{\"gridcolor\":\"white\",\"linecolor\":\"white\",\"ticks\":\"\"},\"baxis\":{\"gridcolor\":\"white\",\"linecolor\":\"white\",\"ticks\":\"\"},\"caxis\":{\"gridcolor\":\"white\",\"linecolor\":\"white\",\"ticks\":\"\"}},\"coloraxis\":{\"colorbar\":{\"outlinewidth\":0,\"ticks\":\"\"}},\"colorscale\":{\"sequential\":[[0.0,\"#0d0887\"],[0.1111111111111111,\"#46039f\"],[0.2222222222222222,\"#7201a8\"],[0.3333333333333333,\"#9c179e\"],[0.4444444444444444,\"#bd3786\"],[0.5555555555555556,\"#d8576b\"],[0.6666666666666666,\"#ed7953\"],[0.7777777777777778,\"#fb9f3a\"],[0.8888888888888888,\"#fdca26\"],[1.0,\"#f0f921\"]],\"sequentialminus\":[[0.0,\"#0d0887\"],[0.1111111111111111,\"#46039f\"],[0.2222222222222222,\"#7201a8\"],[0.3333333333333333,\"#9c179e\"],[0.4444444444444444,\"#bd3786\"],[0.5555555555555556,\"#d8576b\"],[0.6666666666666666,\"#ed7953\"],[0.7777777777777778,\"#fb9f3a\"],[0.8888888888888888,\"#fdca26\"],[1.0,\"#f0f921\"]],\"diverging\":[[0,\"#8e0152\"],[0.1,\"#c51b7d\"],[0.2,\"#de77ae\"],[0.3,\"#f1b6da\"],[0.4,\"#fde0ef\"],[0.5,\"#f7f7f7\"],[0.6,\"#e6f5d0\"],[0.7,\"#b8e186\"],[0.8,\"#7fbc41\"],[0.9,\"#4d9221\"],[1,\"#276419\"]]},\"xaxis\":{\"gridcolor\":\"white\",\"linecolor\":\"white\",\"ticks\":\"\",\"title\":{\"standoff\":15},\"zerolinecolor\":\"white\",\"automargin\":true,\"zerolinewidth\":2},\"yaxis\":{\"gridcolor\":\"white\",\"linecolor\":\"white\",\"ticks\":\"\",\"title\":{\"standoff\":15},\"zerolinecolor\":\"white\",\"automargin\":true,\"zerolinewidth\":2},\"scene\":{\"xaxis\":{\"backgroundcolor\":\"#E5ECF6\",\"gridcolor\":\"white\",\"linecolor\":\"white\",\"showbackground\":true,\"ticks\":\"\",\"zerolinecolor\":\"white\",\"gridwidth\":2},\"yaxis\":{\"backgroundcolor\":\"#E5ECF6\",\"gridcolor\":\"white\",\"linecolor\":\"white\",\"showbackground\":true,\"ticks\":\"\",\"zerolinecolor\":\"white\",\"gridwidth\":2},\"zaxis\":{\"backgroundcolor\":\"#E5ECF6\",\"gridcolor\":\"white\",\"linecolor\":\"white\",\"showbackground\":true,\"ticks\":\"\",\"zerolinecolor\":\"white\",\"gridwidth\":2}},\"shapedefaults\":{\"line\":{\"color\":\"#2a3f5f\"}},\"annotationdefaults\":{\"arrowcolor\":\"#2a3f5f\",\"arrowhead\":0,\"arrowwidth\":1},\"geo\":{\"bgcolor\":\"white\",\"landcolor\":\"#E5ECF6\",\"subunitcolor\":\"white\",\"showland\":true,\"showlakes\":true,\"lakecolor\":\"white\"},\"title\":{\"x\":0.05},\"mapbox\":{\"style\":\"light\"}}},\"xaxis\":{\"anchor\":\"y\",\"domain\":[0.0,1.0],\"title\":{\"text\":\"Impressions\"}},\"yaxis\":{\"anchor\":\"x\",\"domain\":[0.0,1.0],\"title\":{\"text\":\"Comments\"}},\"legend\":{\"tracegroupgap\":0,\"itemsizing\":\"constant\"},\"title\":{\"text\":\"Relationship Between Likes and Comments\"}},                        {\"responsive\": true}                    ).then(function(){\n",
       "                            \n",
       "var gd = document.getElementById('802ca81e-3ee9-4bcc-b9e6-c32baf1a2d32');\n",
       "var x = new MutationObserver(function (mutations, observer) {{\n",
       "        var display = window.getComputedStyle(gd).display;\n",
       "        if (!display || display === 'none') {{\n",
       "            console.log([gd, 'removed!']);\n",
       "            Plotly.purge(gd);\n",
       "            observer.disconnect();\n",
       "        }}\n",
       "}});\n",
       "\n",
       "// Listen for the removal of the full notebook cells\n",
       "var notebookContainer = gd.closest('#notebook-container');\n",
       "if (notebookContainer) {{\n",
       "    x.observe(notebookContainer, {childList: true});\n",
       "}}\n",
       "\n",
       "// Listen for the clearing of the current output cell\n",
       "var outputEl = gd.closest('.output');\n",
       "if (outputEl) {{\n",
       "    x.observe(outputEl, {childList: true});\n",
       "}}\n",
       "\n",
       "                        })                };                });            </script>        </div>"
      ]
     },
     "metadata": {},
     "output_type": "display_data"
    }
   ],
   "source": [
    "figure = px.scatter(data_frame = data, x=\"Impressions\",\n",
    "                    y=\"Comments\", size=\"Comments\", trendline=\"ols\", \n",
    "                    title = \"Relationship Between Likes and Comments\")# El data_frame son los datos cargados del CSV, x e y lo que queremos comparar, trendline es el tipo de linea de regresión (https://plotly.com/python/linear-fits/)\n",
    "figure.show()"
   ]
  },
  {
   "cell_type": "code",
   "execution_count": null,
   "id": "f4fac33f",
   "metadata": {},
   "outputs": [],
   "source": [
    "EN:It looks like the number of comments we get on a post doesn’t affect its reach\n",
    "ES: El numero de comentarios no afecta a las visitas    "
   ]
  },
  {
   "cell_type": "markdown",
   "id": "8972f624",
   "metadata": {},
   "source": [
    "EN:Now let’s have a look at the relationship between the number of shares and the number of impressions.\n",
    "ES:Ahora echemos un vistazo a la relación entre compartidos y Visitas. "
   ]
  },
  {
   "cell_type": "code",
   "execution_count": 40,
   "id": "761f48af",
   "metadata": {},
   "outputs": [
    {
     "data": {
      "application/vnd.plotly.v1+json": {
       "config": {
        "plotlyServerURL": "https://plot.ly"
       },
       "data": [
        {
         "hovertemplate": "Impressions=%{x}<br>Shares=%{marker.size}<extra></extra>",
         "legendgroup": "",
         "marker": {
          "color": "#636efa",
          "size": [
           5,
           14,
           1,
           7,
           4,
           10,
           1,
           9,
           8,
           3,
           3,
           14,
           11,
           5,
           10,
           11,
           18,
           1,
           6,
           20,
           5,
           4,
           9,
           14,
           3,
           5,
           6,
           4,
           3,
           4,
           3,
           15,
           4,
           3,
           8,
           0,
           3,
           11,
           1,
           3,
           20,
           13,
           4,
           2,
           5,
           19,
           10,
           3,
           15,
           41,
           1,
           16,
           1,
           8,
           15,
           9,
           2,
           7,
           16,
           14,
           6,
           5,
           1,
           0,
           12,
           5,
           0,
           15,
           2,
           3,
           7,
           0,
           15,
           6,
           6,
           0,
           1,
           11,
           2,
           6,
           12,
           22,
           11,
           18,
           1,
           6,
           20,
           10,
           3,
           15,
           41,
           1,
           14,
           3,
           5,
           6,
           4,
           3,
           4,
           27,
           13,
           7,
           2,
           12,
           15,
           8,
           3,
           7,
           22,
           23,
           8,
           4,
           13,
           17,
           38,
           1,
           1,
           75,
           26
          ],
          "sizemode": "area",
          "sizeref": 0.1875,
          "symbol": "circle"
         },
         "mode": "markers",
         "name": "",
         "orientation": "v",
         "showlegend": false,
         "type": "scatter",
         "x": [
          3920,
          5394,
          4021,
          4528,
          2518,
          3884,
          2621,
          3541,
          3749,
          4115,
          2218,
          3234,
          4344,
          3216,
          9453,
          5055,
          4002,
          3169,
          6168,
          2407,
          2064,
          3973,
          7281,
          3052,
          4628,
          4082,
          5394,
          2766,
          3924,
          3015,
          6666,
          3854,
          4355,
          4343,
          6108,
          2523,
          2327,
          3990,
          2191,
          1941,
          16062,
          4998,
          4289,
          3880,
          3786,
          4298,
          3630,
          2826,
          7407,
          10386,
          2998,
          7018,
          2941,
          6432,
          10667,
          3988,
          4978,
          3388,
          4467,
          3246,
          5072,
          6339,
          4239,
          3454,
          7571,
          3333,
          3818,
          10933,
          5058,
          3601,
          3480,
          3525,
          3606,
          5542,
          6559,
          3623,
          10493,
          4446,
          2957,
          5538,
          4681,
          5273,
          5055,
          4002,
          3169,
          6168,
          2407,
          3630,
          2826,
          7407,
          10386,
          2998,
          3052,
          4628,
          4082,
          5394,
          2766,
          3924,
          3015,
          5409,
          5323,
          8001,
          4150,
          4609,
          6348,
          11068,
          7231,
          17396,
          6814,
          17713,
          5563,
          4842,
          11149,
          10206,
          13700,
          5731,
          4139,
          32695,
          36919
         ],
         "xaxis": "x",
         "y": [
          5,
          14,
          1,
          7,
          4,
          10,
          1,
          9,
          8,
          3,
          3,
          14,
          11,
          5,
          10,
          11,
          18,
          1,
          6,
          20,
          5,
          4,
          9,
          14,
          3,
          5,
          6,
          4,
          3,
          4,
          3,
          15,
          4,
          3,
          8,
          0,
          3,
          11,
          1,
          3,
          20,
          13,
          4,
          2,
          5,
          19,
          10,
          3,
          15,
          41,
          1,
          16,
          1,
          8,
          15,
          9,
          2,
          7,
          16,
          14,
          6,
          5,
          1,
          0,
          12,
          5,
          0,
          15,
          2,
          3,
          7,
          0,
          15,
          6,
          6,
          0,
          1,
          11,
          2,
          6,
          12,
          22,
          11,
          18,
          1,
          6,
          20,
          10,
          3,
          15,
          41,
          1,
          14,
          3,
          5,
          6,
          4,
          3,
          4,
          27,
          13,
          7,
          2,
          12,
          15,
          8,
          3,
          7,
          22,
          23,
          8,
          4,
          13,
          17,
          38,
          1,
          1,
          75,
          26
         ],
         "yaxis": "y"
        },
        {
         "hovertemplate": "<b>OLS trendline</b><br>Shares = 0.00132198 * Impressions + 1.8208<br>R<sup>2</sup>=0.402813<br><br>Impressions=%{x}<br>Shares=%{y} <b>(trend)</b><extra></extra>",
         "legendgroup": "",
         "marker": {
          "color": "#636efa",
          "symbol": "circle"
         },
         "mode": "lines",
         "name": "",
         "showlegend": false,
         "type": "scatter",
         "x": [
          1941,
          2064,
          2191,
          2218,
          2327,
          2407,
          2407,
          2518,
          2523,
          2621,
          2766,
          2766,
          2826,
          2826,
          2941,
          2957,
          2998,
          2998,
          3015,
          3015,
          3052,
          3052,
          3169,
          3169,
          3216,
          3234,
          3246,
          3333,
          3388,
          3454,
          3480,
          3525,
          3541,
          3601,
          3606,
          3623,
          3630,
          3630,
          3749,
          3786,
          3818,
          3854,
          3880,
          3884,
          3920,
          3924,
          3924,
          3973,
          3988,
          3990,
          4002,
          4002,
          4021,
          4082,
          4082,
          4115,
          4139,
          4150,
          4239,
          4289,
          4298,
          4343,
          4344,
          4355,
          4446,
          4467,
          4528,
          4609,
          4628,
          4628,
          4681,
          4842,
          4978,
          4998,
          5055,
          5055,
          5058,
          5072,
          5273,
          5323,
          5394,
          5394,
          5394,
          5409,
          5538,
          5542,
          5563,
          5731,
          6108,
          6168,
          6168,
          6339,
          6348,
          6432,
          6559,
          6666,
          6814,
          7018,
          7231,
          7281,
          7407,
          7407,
          7571,
          8001,
          9453,
          10206,
          10386,
          10386,
          10493,
          10667,
          10933,
          11068,
          11149,
          13700,
          16062,
          17396,
          17713,
          32695,
          36919
         ],
         "xaxis": "x",
         "y": [
          4.386755112754188,
          4.549358319157588,
          4.717249434712318,
          4.7529428214837965,
          4.897038345857541,
          5.002796528884143,
          5.002796528884143,
          5.149536007833553,
          5.156145894272715,
          5.285699668480302,
          5.4773863752160175,
          5.4773863752160175,
          5.556705012485969,
          5.556705012485969,
          5.708732400586709,
          5.729884037192029,
          5.784085105993162,
          5.784085105993162,
          5.806558719886315,
          5.806558719886315,
          5.855471879536119,
          5.855471879536119,
          6.010143222212523,
          6.010143222212523,
          6.072276154740652,
          6.096071745921638,
          6.1119354733756275,
          6.226947497417057,
          6.299656248247846,
          6.386906749244792,
          6.4212781587284375,
          6.4807671366809005,
          6.501918773286222,
          6.581237410556173,
          6.587847296995335,
          6.610320910888488,
          6.619574751903316,
          6.619574751903316,
          6.776890049155385,
          6.825803208805189,
          6.868106482015829,
          6.9156976643778005,
          6.950069073861446,
          6.955356983012776,
          7.002948165374747,
          7.008236074526077,
          7.008236074526077,
          7.07301296162987,
          7.092842620947358,
          7.095486575523023,
          7.111350302977013,
          7.111350302977013,
          7.136467871445832,
          7.217108486003615,
          7.217108486003615,
          7.260733736502088,
          7.2924611914100685,
          7.3070029415762265,
          7.424658920193321,
          7.490757784584947,
          7.502655580175439,
          7.562144558127903,
          7.563466535415736,
          7.578008285581893,
          7.6983082187746525,
          7.726069741819136,
          7.806710356376919,
          7.913790516691353,
          7.938908085160171,
          7.938908085160171,
          8.008972881415295,
          8.22181122475633,
          8.401600135901553,
          8.428039681658204,
          8.503392387064657,
          8.503392387064657,
          8.507358318928155,
          8.52586600095781,
          8.791583435812147,
          8.857682300203773,
          8.951542687639883,
          8.951542687639883,
          8.951542687639883,
          8.97137234695737,
          9.141907417087765,
          9.147195326239096,
          9.174956849283578,
          9.39704903363944,
          9.895434471152303,
          9.974753108422252,
          9.974753108422252,
          10.200811224641615,
          10.212709020232108,
          10.323755112410037,
          10.491646227964768,
          10.633097797762847,
          10.82875043636206,
          11.098433803079896,
          11.380014965388224,
          11.446113829779847,
          11.612682968046744,
          11.612682968046744,
          11.829487243251279,
          12.397937477019262,
          14.317448498952082,
          15.312897396689973,
          15.550853308499825,
          15.550853308499825,
          15.692304878297904,
          15.922328926380764,
          16.273974884944213,
          16.452441818801603,
          16.559521979116038,
          19.931886040376796,
          23.054396394237212,
          24.817914096205794,
          25.236980896448703,
          45.042844622755524,
          50.626876686560095
         ],
         "yaxis": "y"
        }
       ],
       "layout": {
        "legend": {
         "itemsizing": "constant",
         "tracegroupgap": 0
        },
        "template": {
         "data": {
          "bar": [
           {
            "error_x": {
             "color": "#2a3f5f"
            },
            "error_y": {
             "color": "#2a3f5f"
            },
            "marker": {
             "line": {
              "color": "#E5ECF6",
              "width": 0.5
             },
             "pattern": {
              "fillmode": "overlay",
              "size": 10,
              "solidity": 0.2
             }
            },
            "type": "bar"
           }
          ],
          "barpolar": [
           {
            "marker": {
             "line": {
              "color": "#E5ECF6",
              "width": 0.5
             },
             "pattern": {
              "fillmode": "overlay",
              "size": 10,
              "solidity": 0.2
             }
            },
            "type": "barpolar"
           }
          ],
          "carpet": [
           {
            "aaxis": {
             "endlinecolor": "#2a3f5f",
             "gridcolor": "white",
             "linecolor": "white",
             "minorgridcolor": "white",
             "startlinecolor": "#2a3f5f"
            },
            "baxis": {
             "endlinecolor": "#2a3f5f",
             "gridcolor": "white",
             "linecolor": "white",
             "minorgridcolor": "white",
             "startlinecolor": "#2a3f5f"
            },
            "type": "carpet"
           }
          ],
          "choropleth": [
           {
            "colorbar": {
             "outlinewidth": 0,
             "ticks": ""
            },
            "type": "choropleth"
           }
          ],
          "contour": [
           {
            "colorbar": {
             "outlinewidth": 0,
             "ticks": ""
            },
            "colorscale": [
             [
              0,
              "#0d0887"
             ],
             [
              0.1111111111111111,
              "#46039f"
             ],
             [
              0.2222222222222222,
              "#7201a8"
             ],
             [
              0.3333333333333333,
              "#9c179e"
             ],
             [
              0.4444444444444444,
              "#bd3786"
             ],
             [
              0.5555555555555556,
              "#d8576b"
             ],
             [
              0.6666666666666666,
              "#ed7953"
             ],
             [
              0.7777777777777778,
              "#fb9f3a"
             ],
             [
              0.8888888888888888,
              "#fdca26"
             ],
             [
              1,
              "#f0f921"
             ]
            ],
            "type": "contour"
           }
          ],
          "contourcarpet": [
           {
            "colorbar": {
             "outlinewidth": 0,
             "ticks": ""
            },
            "type": "contourcarpet"
           }
          ],
          "heatmap": [
           {
            "colorbar": {
             "outlinewidth": 0,
             "ticks": ""
            },
            "colorscale": [
             [
              0,
              "#0d0887"
             ],
             [
              0.1111111111111111,
              "#46039f"
             ],
             [
              0.2222222222222222,
              "#7201a8"
             ],
             [
              0.3333333333333333,
              "#9c179e"
             ],
             [
              0.4444444444444444,
              "#bd3786"
             ],
             [
              0.5555555555555556,
              "#d8576b"
             ],
             [
              0.6666666666666666,
              "#ed7953"
             ],
             [
              0.7777777777777778,
              "#fb9f3a"
             ],
             [
              0.8888888888888888,
              "#fdca26"
             ],
             [
              1,
              "#f0f921"
             ]
            ],
            "type": "heatmap"
           }
          ],
          "heatmapgl": [
           {
            "colorbar": {
             "outlinewidth": 0,
             "ticks": ""
            },
            "colorscale": [
             [
              0,
              "#0d0887"
             ],
             [
              0.1111111111111111,
              "#46039f"
             ],
             [
              0.2222222222222222,
              "#7201a8"
             ],
             [
              0.3333333333333333,
              "#9c179e"
             ],
             [
              0.4444444444444444,
              "#bd3786"
             ],
             [
              0.5555555555555556,
              "#d8576b"
             ],
             [
              0.6666666666666666,
              "#ed7953"
             ],
             [
              0.7777777777777778,
              "#fb9f3a"
             ],
             [
              0.8888888888888888,
              "#fdca26"
             ],
             [
              1,
              "#f0f921"
             ]
            ],
            "type": "heatmapgl"
           }
          ],
          "histogram": [
           {
            "marker": {
             "pattern": {
              "fillmode": "overlay",
              "size": 10,
              "solidity": 0.2
             }
            },
            "type": "histogram"
           }
          ],
          "histogram2d": [
           {
            "colorbar": {
             "outlinewidth": 0,
             "ticks": ""
            },
            "colorscale": [
             [
              0,
              "#0d0887"
             ],
             [
              0.1111111111111111,
              "#46039f"
             ],
             [
              0.2222222222222222,
              "#7201a8"
             ],
             [
              0.3333333333333333,
              "#9c179e"
             ],
             [
              0.4444444444444444,
              "#bd3786"
             ],
             [
              0.5555555555555556,
              "#d8576b"
             ],
             [
              0.6666666666666666,
              "#ed7953"
             ],
             [
              0.7777777777777778,
              "#fb9f3a"
             ],
             [
              0.8888888888888888,
              "#fdca26"
             ],
             [
              1,
              "#f0f921"
             ]
            ],
            "type": "histogram2d"
           }
          ],
          "histogram2dcontour": [
           {
            "colorbar": {
             "outlinewidth": 0,
             "ticks": ""
            },
            "colorscale": [
             [
              0,
              "#0d0887"
             ],
             [
              0.1111111111111111,
              "#46039f"
             ],
             [
              0.2222222222222222,
              "#7201a8"
             ],
             [
              0.3333333333333333,
              "#9c179e"
             ],
             [
              0.4444444444444444,
              "#bd3786"
             ],
             [
              0.5555555555555556,
              "#d8576b"
             ],
             [
              0.6666666666666666,
              "#ed7953"
             ],
             [
              0.7777777777777778,
              "#fb9f3a"
             ],
             [
              0.8888888888888888,
              "#fdca26"
             ],
             [
              1,
              "#f0f921"
             ]
            ],
            "type": "histogram2dcontour"
           }
          ],
          "mesh3d": [
           {
            "colorbar": {
             "outlinewidth": 0,
             "ticks": ""
            },
            "type": "mesh3d"
           }
          ],
          "parcoords": [
           {
            "line": {
             "colorbar": {
              "outlinewidth": 0,
              "ticks": ""
             }
            },
            "type": "parcoords"
           }
          ],
          "pie": [
           {
            "automargin": true,
            "type": "pie"
           }
          ],
          "scatter": [
           {
            "fillpattern": {
             "fillmode": "overlay",
             "size": 10,
             "solidity": 0.2
            },
            "type": "scatter"
           }
          ],
          "scatter3d": [
           {
            "line": {
             "colorbar": {
              "outlinewidth": 0,
              "ticks": ""
             }
            },
            "marker": {
             "colorbar": {
              "outlinewidth": 0,
              "ticks": ""
             }
            },
            "type": "scatter3d"
           }
          ],
          "scattercarpet": [
           {
            "marker": {
             "colorbar": {
              "outlinewidth": 0,
              "ticks": ""
             }
            },
            "type": "scattercarpet"
           }
          ],
          "scattergeo": [
           {
            "marker": {
             "colorbar": {
              "outlinewidth": 0,
              "ticks": ""
             }
            },
            "type": "scattergeo"
           }
          ],
          "scattergl": [
           {
            "marker": {
             "colorbar": {
              "outlinewidth": 0,
              "ticks": ""
             }
            },
            "type": "scattergl"
           }
          ],
          "scattermapbox": [
           {
            "marker": {
             "colorbar": {
              "outlinewidth": 0,
              "ticks": ""
             }
            },
            "type": "scattermapbox"
           }
          ],
          "scatterpolar": [
           {
            "marker": {
             "colorbar": {
              "outlinewidth": 0,
              "ticks": ""
             }
            },
            "type": "scatterpolar"
           }
          ],
          "scatterpolargl": [
           {
            "marker": {
             "colorbar": {
              "outlinewidth": 0,
              "ticks": ""
             }
            },
            "type": "scatterpolargl"
           }
          ],
          "scatterternary": [
           {
            "marker": {
             "colorbar": {
              "outlinewidth": 0,
              "ticks": ""
             }
            },
            "type": "scatterternary"
           }
          ],
          "surface": [
           {
            "colorbar": {
             "outlinewidth": 0,
             "ticks": ""
            },
            "colorscale": [
             [
              0,
              "#0d0887"
             ],
             [
              0.1111111111111111,
              "#46039f"
             ],
             [
              0.2222222222222222,
              "#7201a8"
             ],
             [
              0.3333333333333333,
              "#9c179e"
             ],
             [
              0.4444444444444444,
              "#bd3786"
             ],
             [
              0.5555555555555556,
              "#d8576b"
             ],
             [
              0.6666666666666666,
              "#ed7953"
             ],
             [
              0.7777777777777778,
              "#fb9f3a"
             ],
             [
              0.8888888888888888,
              "#fdca26"
             ],
             [
              1,
              "#f0f921"
             ]
            ],
            "type": "surface"
           }
          ],
          "table": [
           {
            "cells": {
             "fill": {
              "color": "#EBF0F8"
             },
             "line": {
              "color": "white"
             }
            },
            "header": {
             "fill": {
              "color": "#C8D4E3"
             },
             "line": {
              "color": "white"
             }
            },
            "type": "table"
           }
          ]
         },
         "layout": {
          "annotationdefaults": {
           "arrowcolor": "#2a3f5f",
           "arrowhead": 0,
           "arrowwidth": 1
          },
          "autotypenumbers": "strict",
          "coloraxis": {
           "colorbar": {
            "outlinewidth": 0,
            "ticks": ""
           }
          },
          "colorscale": {
           "diverging": [
            [
             0,
             "#8e0152"
            ],
            [
             0.1,
             "#c51b7d"
            ],
            [
             0.2,
             "#de77ae"
            ],
            [
             0.3,
             "#f1b6da"
            ],
            [
             0.4,
             "#fde0ef"
            ],
            [
             0.5,
             "#f7f7f7"
            ],
            [
             0.6,
             "#e6f5d0"
            ],
            [
             0.7,
             "#b8e186"
            ],
            [
             0.8,
             "#7fbc41"
            ],
            [
             0.9,
             "#4d9221"
            ],
            [
             1,
             "#276419"
            ]
           ],
           "sequential": [
            [
             0,
             "#0d0887"
            ],
            [
             0.1111111111111111,
             "#46039f"
            ],
            [
             0.2222222222222222,
             "#7201a8"
            ],
            [
             0.3333333333333333,
             "#9c179e"
            ],
            [
             0.4444444444444444,
             "#bd3786"
            ],
            [
             0.5555555555555556,
             "#d8576b"
            ],
            [
             0.6666666666666666,
             "#ed7953"
            ],
            [
             0.7777777777777778,
             "#fb9f3a"
            ],
            [
             0.8888888888888888,
             "#fdca26"
            ],
            [
             1,
             "#f0f921"
            ]
           ],
           "sequentialminus": [
            [
             0,
             "#0d0887"
            ],
            [
             0.1111111111111111,
             "#46039f"
            ],
            [
             0.2222222222222222,
             "#7201a8"
            ],
            [
             0.3333333333333333,
             "#9c179e"
            ],
            [
             0.4444444444444444,
             "#bd3786"
            ],
            [
             0.5555555555555556,
             "#d8576b"
            ],
            [
             0.6666666666666666,
             "#ed7953"
            ],
            [
             0.7777777777777778,
             "#fb9f3a"
            ],
            [
             0.8888888888888888,
             "#fdca26"
            ],
            [
             1,
             "#f0f921"
            ]
           ]
          },
          "colorway": [
           "#636efa",
           "#EF553B",
           "#00cc96",
           "#ab63fa",
           "#FFA15A",
           "#19d3f3",
           "#FF6692",
           "#B6E880",
           "#FF97FF",
           "#FECB52"
          ],
          "font": {
           "color": "#2a3f5f"
          },
          "geo": {
           "bgcolor": "white",
           "lakecolor": "white",
           "landcolor": "#E5ECF6",
           "showlakes": true,
           "showland": true,
           "subunitcolor": "white"
          },
          "hoverlabel": {
           "align": "left"
          },
          "hovermode": "closest",
          "mapbox": {
           "style": "light"
          },
          "paper_bgcolor": "white",
          "plot_bgcolor": "#E5ECF6",
          "polar": {
           "angularaxis": {
            "gridcolor": "white",
            "linecolor": "white",
            "ticks": ""
           },
           "bgcolor": "#E5ECF6",
           "radialaxis": {
            "gridcolor": "white",
            "linecolor": "white",
            "ticks": ""
           }
          },
          "scene": {
           "xaxis": {
            "backgroundcolor": "#E5ECF6",
            "gridcolor": "white",
            "gridwidth": 2,
            "linecolor": "white",
            "showbackground": true,
            "ticks": "",
            "zerolinecolor": "white"
           },
           "yaxis": {
            "backgroundcolor": "#E5ECF6",
            "gridcolor": "white",
            "gridwidth": 2,
            "linecolor": "white",
            "showbackground": true,
            "ticks": "",
            "zerolinecolor": "white"
           },
           "zaxis": {
            "backgroundcolor": "#E5ECF6",
            "gridcolor": "white",
            "gridwidth": 2,
            "linecolor": "white",
            "showbackground": true,
            "ticks": "",
            "zerolinecolor": "white"
           }
          },
          "shapedefaults": {
           "line": {
            "color": "#2a3f5f"
           }
          },
          "ternary": {
           "aaxis": {
            "gridcolor": "white",
            "linecolor": "white",
            "ticks": ""
           },
           "baxis": {
            "gridcolor": "white",
            "linecolor": "white",
            "ticks": ""
           },
           "bgcolor": "#E5ECF6",
           "caxis": {
            "gridcolor": "white",
            "linecolor": "white",
            "ticks": ""
           }
          },
          "title": {
           "x": 0.05
          },
          "xaxis": {
           "automargin": true,
           "gridcolor": "white",
           "linecolor": "white",
           "ticks": "",
           "title": {
            "standoff": 15
           },
           "zerolinecolor": "white",
           "zerolinewidth": 2
          },
          "yaxis": {
           "automargin": true,
           "gridcolor": "white",
           "linecolor": "white",
           "ticks": "",
           "title": {
            "standoff": 15
           },
           "zerolinecolor": "white",
           "zerolinewidth": 2
          }
         }
        },
        "title": {
         "text": "Relationship Between Shares and Total Impressions"
        },
        "xaxis": {
         "anchor": "y",
         "domain": [
          0,
          1
         ],
         "title": {
          "text": "Impressions"
         }
        },
        "yaxis": {
         "anchor": "x",
         "domain": [
          0,
          1
         ],
         "title": {
          "text": "Shares"
         }
        }
       }
      },
      "text/html": [
       "<div>                            <div id=\"8955cf49-7df4-4901-bdf9-4bd0f821d2ca\" class=\"plotly-graph-div\" style=\"height:525px; width:100%;\"></div>            <script type=\"text/javascript\">                require([\"plotly\"], function(Plotly) {                    window.PLOTLYENV=window.PLOTLYENV || {};                                    if (document.getElementById(\"8955cf49-7df4-4901-bdf9-4bd0f821d2ca\")) {                    Plotly.newPlot(                        \"8955cf49-7df4-4901-bdf9-4bd0f821d2ca\",                        [{\"hovertemplate\":\"Impressions=%{x}<br>Shares=%{marker.size}<extra></extra>\",\"legendgroup\":\"\",\"marker\":{\"color\":\"#636efa\",\"size\":[5,14,1,7,4,10,1,9,8,3,3,14,11,5,10,11,18,1,6,20,5,4,9,14,3,5,6,4,3,4,3,15,4,3,8,0,3,11,1,3,20,13,4,2,5,19,10,3,15,41,1,16,1,8,15,9,2,7,16,14,6,5,1,0,12,5,0,15,2,3,7,0,15,6,6,0,1,11,2,6,12,22,11,18,1,6,20,10,3,15,41,1,14,3,5,6,4,3,4,27,13,7,2,12,15,8,3,7,22,23,8,4,13,17,38,1,1,75,26],\"sizemode\":\"area\",\"sizeref\":0.1875,\"symbol\":\"circle\"},\"mode\":\"markers\",\"name\":\"\",\"orientation\":\"v\",\"showlegend\":false,\"x\":[3920,5394,4021,4528,2518,3884,2621,3541,3749,4115,2218,3234,4344,3216,9453,5055,4002,3169,6168,2407,2064,3973,7281,3052,4628,4082,5394,2766,3924,3015,6666,3854,4355,4343,6108,2523,2327,3990,2191,1941,16062,4998,4289,3880,3786,4298,3630,2826,7407,10386,2998,7018,2941,6432,10667,3988,4978,3388,4467,3246,5072,6339,4239,3454,7571,3333,3818,10933,5058,3601,3480,3525,3606,5542,6559,3623,10493,4446,2957,5538,4681,5273,5055,4002,3169,6168,2407,3630,2826,7407,10386,2998,3052,4628,4082,5394,2766,3924,3015,5409,5323,8001,4150,4609,6348,11068,7231,17396,6814,17713,5563,4842,11149,10206,13700,5731,4139,32695,36919],\"xaxis\":\"x\",\"y\":[5,14,1,7,4,10,1,9,8,3,3,14,11,5,10,11,18,1,6,20,5,4,9,14,3,5,6,4,3,4,3,15,4,3,8,0,3,11,1,3,20,13,4,2,5,19,10,3,15,41,1,16,1,8,15,9,2,7,16,14,6,5,1,0,12,5,0,15,2,3,7,0,15,6,6,0,1,11,2,6,12,22,11,18,1,6,20,10,3,15,41,1,14,3,5,6,4,3,4,27,13,7,2,12,15,8,3,7,22,23,8,4,13,17,38,1,1,75,26],\"yaxis\":\"y\",\"type\":\"scatter\"},{\"hovertemplate\":\"<b>OLS trendline</b><br>Shares = 0.00132198 * Impressions + 1.8208<br>R<sup>2</sup>=0.402813<br><br>Impressions=%{x}<br>Shares=%{y} <b>(trend)</b><extra></extra>\",\"legendgroup\":\"\",\"marker\":{\"color\":\"#636efa\",\"symbol\":\"circle\"},\"mode\":\"lines\",\"name\":\"\",\"showlegend\":false,\"x\":[1941,2064,2191,2218,2327,2407,2407,2518,2523,2621,2766,2766,2826,2826,2941,2957,2998,2998,3015,3015,3052,3052,3169,3169,3216,3234,3246,3333,3388,3454,3480,3525,3541,3601,3606,3623,3630,3630,3749,3786,3818,3854,3880,3884,3920,3924,3924,3973,3988,3990,4002,4002,4021,4082,4082,4115,4139,4150,4239,4289,4298,4343,4344,4355,4446,4467,4528,4609,4628,4628,4681,4842,4978,4998,5055,5055,5058,5072,5273,5323,5394,5394,5394,5409,5538,5542,5563,5731,6108,6168,6168,6339,6348,6432,6559,6666,6814,7018,7231,7281,7407,7407,7571,8001,9453,10206,10386,10386,10493,10667,10933,11068,11149,13700,16062,17396,17713,32695,36919],\"xaxis\":\"x\",\"y\":[4.386755112754188,4.549358319157588,4.717249434712318,4.7529428214837965,4.897038345857541,5.002796528884143,5.002796528884143,5.149536007833553,5.156145894272715,5.285699668480302,5.4773863752160175,5.4773863752160175,5.556705012485969,5.556705012485969,5.708732400586709,5.729884037192029,5.784085105993162,5.784085105993162,5.806558719886315,5.806558719886315,5.855471879536119,5.855471879536119,6.010143222212523,6.010143222212523,6.072276154740652,6.096071745921638,6.1119354733756275,6.226947497417057,6.299656248247846,6.386906749244792,6.4212781587284375,6.4807671366809005,6.501918773286222,6.581237410556173,6.587847296995335,6.610320910888488,6.619574751903316,6.619574751903316,6.776890049155385,6.825803208805189,6.868106482015829,6.9156976643778005,6.950069073861446,6.955356983012776,7.002948165374747,7.008236074526077,7.008236074526077,7.07301296162987,7.092842620947358,7.095486575523023,7.111350302977013,7.111350302977013,7.136467871445832,7.217108486003615,7.217108486003615,7.260733736502088,7.2924611914100685,7.3070029415762265,7.424658920193321,7.490757784584947,7.502655580175439,7.562144558127903,7.563466535415736,7.578008285581893,7.6983082187746525,7.726069741819136,7.806710356376919,7.913790516691353,7.938908085160171,7.938908085160171,8.008972881415295,8.22181122475633,8.401600135901553,8.428039681658204,8.503392387064657,8.503392387064657,8.507358318928155,8.52586600095781,8.791583435812147,8.857682300203773,8.951542687639883,8.951542687639883,8.951542687639883,8.97137234695737,9.141907417087765,9.147195326239096,9.174956849283578,9.39704903363944,9.895434471152303,9.974753108422252,9.974753108422252,10.200811224641615,10.212709020232108,10.323755112410037,10.491646227964768,10.633097797762847,10.82875043636206,11.098433803079896,11.380014965388224,11.446113829779847,11.612682968046744,11.612682968046744,11.829487243251279,12.397937477019262,14.317448498952082,15.312897396689973,15.550853308499825,15.550853308499825,15.692304878297904,15.922328926380764,16.273974884944213,16.452441818801603,16.559521979116038,19.931886040376796,23.054396394237212,24.817914096205794,25.236980896448703,45.042844622755524,50.626876686560095],\"yaxis\":\"y\",\"type\":\"scatter\"}],                        {\"template\":{\"data\":{\"histogram2dcontour\":[{\"type\":\"histogram2dcontour\",\"colorbar\":{\"outlinewidth\":0,\"ticks\":\"\"},\"colorscale\":[[0.0,\"#0d0887\"],[0.1111111111111111,\"#46039f\"],[0.2222222222222222,\"#7201a8\"],[0.3333333333333333,\"#9c179e\"],[0.4444444444444444,\"#bd3786\"],[0.5555555555555556,\"#d8576b\"],[0.6666666666666666,\"#ed7953\"],[0.7777777777777778,\"#fb9f3a\"],[0.8888888888888888,\"#fdca26\"],[1.0,\"#f0f921\"]]}],\"choropleth\":[{\"type\":\"choropleth\",\"colorbar\":{\"outlinewidth\":0,\"ticks\":\"\"}}],\"histogram2d\":[{\"type\":\"histogram2d\",\"colorbar\":{\"outlinewidth\":0,\"ticks\":\"\"},\"colorscale\":[[0.0,\"#0d0887\"],[0.1111111111111111,\"#46039f\"],[0.2222222222222222,\"#7201a8\"],[0.3333333333333333,\"#9c179e\"],[0.4444444444444444,\"#bd3786\"],[0.5555555555555556,\"#d8576b\"],[0.6666666666666666,\"#ed7953\"],[0.7777777777777778,\"#fb9f3a\"],[0.8888888888888888,\"#fdca26\"],[1.0,\"#f0f921\"]]}],\"heatmap\":[{\"type\":\"heatmap\",\"colorbar\":{\"outlinewidth\":0,\"ticks\":\"\"},\"colorscale\":[[0.0,\"#0d0887\"],[0.1111111111111111,\"#46039f\"],[0.2222222222222222,\"#7201a8\"],[0.3333333333333333,\"#9c179e\"],[0.4444444444444444,\"#bd3786\"],[0.5555555555555556,\"#d8576b\"],[0.6666666666666666,\"#ed7953\"],[0.7777777777777778,\"#fb9f3a\"],[0.8888888888888888,\"#fdca26\"],[1.0,\"#f0f921\"]]}],\"heatmapgl\":[{\"type\":\"heatmapgl\",\"colorbar\":{\"outlinewidth\":0,\"ticks\":\"\"},\"colorscale\":[[0.0,\"#0d0887\"],[0.1111111111111111,\"#46039f\"],[0.2222222222222222,\"#7201a8\"],[0.3333333333333333,\"#9c179e\"],[0.4444444444444444,\"#bd3786\"],[0.5555555555555556,\"#d8576b\"],[0.6666666666666666,\"#ed7953\"],[0.7777777777777778,\"#fb9f3a\"],[0.8888888888888888,\"#fdca26\"],[1.0,\"#f0f921\"]]}],\"contourcarpet\":[{\"type\":\"contourcarpet\",\"colorbar\":{\"outlinewidth\":0,\"ticks\":\"\"}}],\"contour\":[{\"type\":\"contour\",\"colorbar\":{\"outlinewidth\":0,\"ticks\":\"\"},\"colorscale\":[[0.0,\"#0d0887\"],[0.1111111111111111,\"#46039f\"],[0.2222222222222222,\"#7201a8\"],[0.3333333333333333,\"#9c179e\"],[0.4444444444444444,\"#bd3786\"],[0.5555555555555556,\"#d8576b\"],[0.6666666666666666,\"#ed7953\"],[0.7777777777777778,\"#fb9f3a\"],[0.8888888888888888,\"#fdca26\"],[1.0,\"#f0f921\"]]}],\"surface\":[{\"type\":\"surface\",\"colorbar\":{\"outlinewidth\":0,\"ticks\":\"\"},\"colorscale\":[[0.0,\"#0d0887\"],[0.1111111111111111,\"#46039f\"],[0.2222222222222222,\"#7201a8\"],[0.3333333333333333,\"#9c179e\"],[0.4444444444444444,\"#bd3786\"],[0.5555555555555556,\"#d8576b\"],[0.6666666666666666,\"#ed7953\"],[0.7777777777777778,\"#fb9f3a\"],[0.8888888888888888,\"#fdca26\"],[1.0,\"#f0f921\"]]}],\"mesh3d\":[{\"type\":\"mesh3d\",\"colorbar\":{\"outlinewidth\":0,\"ticks\":\"\"}}],\"scatter\":[{\"fillpattern\":{\"fillmode\":\"overlay\",\"size\":10,\"solidity\":0.2},\"type\":\"scatter\"}],\"parcoords\":[{\"type\":\"parcoords\",\"line\":{\"colorbar\":{\"outlinewidth\":0,\"ticks\":\"\"}}}],\"scatterpolargl\":[{\"type\":\"scatterpolargl\",\"marker\":{\"colorbar\":{\"outlinewidth\":0,\"ticks\":\"\"}}}],\"bar\":[{\"error_x\":{\"color\":\"#2a3f5f\"},\"error_y\":{\"color\":\"#2a3f5f\"},\"marker\":{\"line\":{\"color\":\"#E5ECF6\",\"width\":0.5},\"pattern\":{\"fillmode\":\"overlay\",\"size\":10,\"solidity\":0.2}},\"type\":\"bar\"}],\"scattergeo\":[{\"type\":\"scattergeo\",\"marker\":{\"colorbar\":{\"outlinewidth\":0,\"ticks\":\"\"}}}],\"scatterpolar\":[{\"type\":\"scatterpolar\",\"marker\":{\"colorbar\":{\"outlinewidth\":0,\"ticks\":\"\"}}}],\"histogram\":[{\"marker\":{\"pattern\":{\"fillmode\":\"overlay\",\"size\":10,\"solidity\":0.2}},\"type\":\"histogram\"}],\"scattergl\":[{\"type\":\"scattergl\",\"marker\":{\"colorbar\":{\"outlinewidth\":0,\"ticks\":\"\"}}}],\"scatter3d\":[{\"type\":\"scatter3d\",\"line\":{\"colorbar\":{\"outlinewidth\":0,\"ticks\":\"\"}},\"marker\":{\"colorbar\":{\"outlinewidth\":0,\"ticks\":\"\"}}}],\"scattermapbox\":[{\"type\":\"scattermapbox\",\"marker\":{\"colorbar\":{\"outlinewidth\":0,\"ticks\":\"\"}}}],\"scatterternary\":[{\"type\":\"scatterternary\",\"marker\":{\"colorbar\":{\"outlinewidth\":0,\"ticks\":\"\"}}}],\"scattercarpet\":[{\"type\":\"scattercarpet\",\"marker\":{\"colorbar\":{\"outlinewidth\":0,\"ticks\":\"\"}}}],\"carpet\":[{\"aaxis\":{\"endlinecolor\":\"#2a3f5f\",\"gridcolor\":\"white\",\"linecolor\":\"white\",\"minorgridcolor\":\"white\",\"startlinecolor\":\"#2a3f5f\"},\"baxis\":{\"endlinecolor\":\"#2a3f5f\",\"gridcolor\":\"white\",\"linecolor\":\"white\",\"minorgridcolor\":\"white\",\"startlinecolor\":\"#2a3f5f\"},\"type\":\"carpet\"}],\"table\":[{\"cells\":{\"fill\":{\"color\":\"#EBF0F8\"},\"line\":{\"color\":\"white\"}},\"header\":{\"fill\":{\"color\":\"#C8D4E3\"},\"line\":{\"color\":\"white\"}},\"type\":\"table\"}],\"barpolar\":[{\"marker\":{\"line\":{\"color\":\"#E5ECF6\",\"width\":0.5},\"pattern\":{\"fillmode\":\"overlay\",\"size\":10,\"solidity\":0.2}},\"type\":\"barpolar\"}],\"pie\":[{\"automargin\":true,\"type\":\"pie\"}]},\"layout\":{\"autotypenumbers\":\"strict\",\"colorway\":[\"#636efa\",\"#EF553B\",\"#00cc96\",\"#ab63fa\",\"#FFA15A\",\"#19d3f3\",\"#FF6692\",\"#B6E880\",\"#FF97FF\",\"#FECB52\"],\"font\":{\"color\":\"#2a3f5f\"},\"hovermode\":\"closest\",\"hoverlabel\":{\"align\":\"left\"},\"paper_bgcolor\":\"white\",\"plot_bgcolor\":\"#E5ECF6\",\"polar\":{\"bgcolor\":\"#E5ECF6\",\"angularaxis\":{\"gridcolor\":\"white\",\"linecolor\":\"white\",\"ticks\":\"\"},\"radialaxis\":{\"gridcolor\":\"white\",\"linecolor\":\"white\",\"ticks\":\"\"}},\"ternary\":{\"bgcolor\":\"#E5ECF6\",\"aaxis\":{\"gridcolor\":\"white\",\"linecolor\":\"white\",\"ticks\":\"\"},\"baxis\":{\"gridcolor\":\"white\",\"linecolor\":\"white\",\"ticks\":\"\"},\"caxis\":{\"gridcolor\":\"white\",\"linecolor\":\"white\",\"ticks\":\"\"}},\"coloraxis\":{\"colorbar\":{\"outlinewidth\":0,\"ticks\":\"\"}},\"colorscale\":{\"sequential\":[[0.0,\"#0d0887\"],[0.1111111111111111,\"#46039f\"],[0.2222222222222222,\"#7201a8\"],[0.3333333333333333,\"#9c179e\"],[0.4444444444444444,\"#bd3786\"],[0.5555555555555556,\"#d8576b\"],[0.6666666666666666,\"#ed7953\"],[0.7777777777777778,\"#fb9f3a\"],[0.8888888888888888,\"#fdca26\"],[1.0,\"#f0f921\"]],\"sequentialminus\":[[0.0,\"#0d0887\"],[0.1111111111111111,\"#46039f\"],[0.2222222222222222,\"#7201a8\"],[0.3333333333333333,\"#9c179e\"],[0.4444444444444444,\"#bd3786\"],[0.5555555555555556,\"#d8576b\"],[0.6666666666666666,\"#ed7953\"],[0.7777777777777778,\"#fb9f3a\"],[0.8888888888888888,\"#fdca26\"],[1.0,\"#f0f921\"]],\"diverging\":[[0,\"#8e0152\"],[0.1,\"#c51b7d\"],[0.2,\"#de77ae\"],[0.3,\"#f1b6da\"],[0.4,\"#fde0ef\"],[0.5,\"#f7f7f7\"],[0.6,\"#e6f5d0\"],[0.7,\"#b8e186\"],[0.8,\"#7fbc41\"],[0.9,\"#4d9221\"],[1,\"#276419\"]]},\"xaxis\":{\"gridcolor\":\"white\",\"linecolor\":\"white\",\"ticks\":\"\",\"title\":{\"standoff\":15},\"zerolinecolor\":\"white\",\"automargin\":true,\"zerolinewidth\":2},\"yaxis\":{\"gridcolor\":\"white\",\"linecolor\":\"white\",\"ticks\":\"\",\"title\":{\"standoff\":15},\"zerolinecolor\":\"white\",\"automargin\":true,\"zerolinewidth\":2},\"scene\":{\"xaxis\":{\"backgroundcolor\":\"#E5ECF6\",\"gridcolor\":\"white\",\"linecolor\":\"white\",\"showbackground\":true,\"ticks\":\"\",\"zerolinecolor\":\"white\",\"gridwidth\":2},\"yaxis\":{\"backgroundcolor\":\"#E5ECF6\",\"gridcolor\":\"white\",\"linecolor\":\"white\",\"showbackground\":true,\"ticks\":\"\",\"zerolinecolor\":\"white\",\"gridwidth\":2},\"zaxis\":{\"backgroundcolor\":\"#E5ECF6\",\"gridcolor\":\"white\",\"linecolor\":\"white\",\"showbackground\":true,\"ticks\":\"\",\"zerolinecolor\":\"white\",\"gridwidth\":2}},\"shapedefaults\":{\"line\":{\"color\":\"#2a3f5f\"}},\"annotationdefaults\":{\"arrowcolor\":\"#2a3f5f\",\"arrowhead\":0,\"arrowwidth\":1},\"geo\":{\"bgcolor\":\"white\",\"landcolor\":\"#E5ECF6\",\"subunitcolor\":\"white\",\"showland\":true,\"showlakes\":true,\"lakecolor\":\"white\"},\"title\":{\"x\":0.05},\"mapbox\":{\"style\":\"light\"}}},\"xaxis\":{\"anchor\":\"y\",\"domain\":[0.0,1.0],\"title\":{\"text\":\"Impressions\"}},\"yaxis\":{\"anchor\":\"x\",\"domain\":[0.0,1.0],\"title\":{\"text\":\"Shares\"}},\"legend\":{\"tracegroupgap\":0,\"itemsizing\":\"constant\"},\"title\":{\"text\":\"Relationship Between Shares and Total Impressions\"}},                        {\"responsive\": true}                    ).then(function(){\n",
       "                            \n",
       "var gd = document.getElementById('8955cf49-7df4-4901-bdf9-4bd0f821d2ca');\n",
       "var x = new MutationObserver(function (mutations, observer) {{\n",
       "        var display = window.getComputedStyle(gd).display;\n",
       "        if (!display || display === 'none') {{\n",
       "            console.log([gd, 'removed!']);\n",
       "            Plotly.purge(gd);\n",
       "            observer.disconnect();\n",
       "        }}\n",
       "}});\n",
       "\n",
       "// Listen for the removal of the full notebook cells\n",
       "var notebookContainer = gd.closest('#notebook-container');\n",
       "if (notebookContainer) {{\n",
       "    x.observe(notebookContainer, {childList: true});\n",
       "}}\n",
       "\n",
       "// Listen for the clearing of the current output cell\n",
       "var outputEl = gd.closest('.output');\n",
       "if (outputEl) {{\n",
       "    x.observe(outputEl, {childList: true});\n",
       "}}\n",
       "\n",
       "                        })                };                });            </script>        </div>"
      ]
     },
     "metadata": {},
     "output_type": "display_data"
    }
   ],
   "source": [
    "figure = px.scatter(data_frame = data, x=\"Impressions\",\n",
    "                    y=\"Shares\", size=\"Shares\", trendline=\"ols\", \n",
    "                    title = \"Relationship Between Shares and Total Impressions\")\n",
    "figure.show()"
   ]
  },
  {
   "cell_type": "markdown",
   "id": "9410d80f",
   "metadata": {},
   "source": [
    "EN:There is a linear relationship between the number of times my post is saved and the reach of my Instagram post.\n",
    "ES: Hay una relación lineal entre el numero de compartidos y las visitas."
   ]
  },
  {
   "cell_type": "code",
   "execution_count": null,
   "id": "7ff9b875",
   "metadata": {},
   "outputs": [],
   "source": [
    "EN:Now let’s have a look at the correlation of all the columns with the Impressions column.\n",
    "ES:Ahora vamos a ver la correlación entre todas las columnas y la columna de impressions.    "
   ]
  },
  {
   "cell_type": "code",
   "execution_count": 41,
   "id": "a3c128fa",
   "metadata": {},
   "outputs": [
    {
     "name": "stdout",
     "output_type": "stream",
     "text": [
      "Impressions       1.000000\n",
      "From Explore      0.893607\n",
      "Follows           0.889363\n",
      "Likes             0.849835\n",
      "From Home         0.844698\n",
      "Saves             0.779231\n",
      "Profile Visits    0.760981\n",
      "Shares            0.634675\n",
      "From Other        0.592960\n",
      "From Hashtags     0.560760\n",
      "Comments         -0.028524\n",
      "Name: Impressions, dtype: float64\n"
     ]
    }
   ],
   "source": [
    "correlation = data.corr()\n",
    "print(correlation[\"Impressions\"].sort_values(ascending=False))"
   ]
  },
  {
   "cell_type": "markdown",
   "id": "982c9e4b",
   "metadata": {},
   "source": [
    "EN:So we can say that more likes and saves will help you get more reach on Instagram. \n",
    "The higher number of shares will also help you get more reach, \n",
    "but a low number of shares will not affect your reach either.(Thats wrong, a little mistake in A.Ks blog)\n",
    "ES: Podemos decir que mas me gustas y guardado te da mas visiviliadad, un valor alto de compartidos te da mas visibiliadad pero un valor bajo de compartidos no afecta a tu visibilidad ?????? (Esto lo tiene mal A.K.)\n"
   ]
  },
  {
   "cell_type": "markdown",
   "id": "139e8aac",
   "metadata": {},
   "source": [
    "## Analyzing Conversion Rate / Analizando ratio de conversión"
   ]
  },
  {
   "cell_type": "markdown",
   "id": "ed9db78b",
   "metadata": {},
   "source": [
    "EN:In Instagram, conversation rate means how many followers you are getting from the number of profile visits from a post.\n",
    "ES:En instagram, el retio de conversión significa cuantos seguidores consiges en proporción al numero de visitas de un post."
   ]
  },
  {
   "cell_type": "code",
   "execution_count": 42,
   "id": "1e36d423",
   "metadata": {},
   "outputs": [
    {
     "name": "stdout",
     "output_type": "stream",
     "text": [
      "41.00265604249668\n"
     ]
    }
   ],
   "source": [
    "conversion_rate = (data[\"Follows\"].sum() / data[\"Profile Visits\"].sum()) * 100\n",
    "print(conversion_rate)  # es una simple división de la suma de los follows en en archivo dat entre la suma de los profile visits del archivo data, se multiplica por cien para que sea porcentaje"
   ]
  },
  {
   "cell_type": "markdown",
   "id": "80fe9100",
   "metadata": {},
   "source": [
    "EN: So the conversation rate is 31% "
   ]
  },
  {
   "cell_type": "markdown",
   "id": "bc25669c",
   "metadata": {},
   "source": [
    " EN:Let’s have a look at the relationship between the total \n",
    " profile visits and the number of followers gained from all profile visits:"
   ]
  },
  {
   "cell_type": "code",
   "execution_count": 43,
   "id": "bdef77c7",
   "metadata": {},
   "outputs": [
    {
     "data": {
      "application/vnd.plotly.v1+json": {
       "config": {
        "plotlyServerURL": "https://plot.ly"
       },
       "data": [
        {
         "hovertemplate": "Profile Visits=%{x}<br>Follows=%{marker.size}<extra></extra>",
         "legendgroup": "",
         "marker": {
          "color": "#636efa",
          "size": [
           2,
           10,
           12,
           8,
           0,
           2,
           0,
           6,
           4,
           6,
           4,
           0,
           2,
           4,
           42,
           6,
           2,
           2,
           30,
           0,
           0,
           24,
           100,
           2,
           4,
           6,
           6,
           6,
           2,
           2,
           20,
           2,
           4,
           8,
           26,
           2,
           2,
           4,
           0,
           2,
           94,
           8,
           18,
           10,
           4,
           4,
           4,
           4,
           18,
           38,
           10,
           12,
           4,
           4,
           74,
           0,
           6,
           6,
           0,
           6,
           12,
           10,
           8,
           8,
           46,
           12,
           10,
           94,
           6,
           10,
           6,
           4,
           12,
           16,
           12,
           8,
           32,
           8,
           16,
           6,
           10,
           10,
           6,
           2,
           2,
           30,
           0,
           4,
           4,
           18,
           38,
           10,
           2,
           4,
           6,
           6,
           6,
           2,
           2,
           14,
           8,
           14,
           28,
           18,
           12,
           34,
           26,
           260,
           16,
           96,
           20,
           30,
           58,
           100,
           80,
           18,
           10,
           214,
           228
          ],
          "sizemode": "area",
          "sizeref": 0.65,
          "symbol": "circle"
         },
         "mode": "markers",
         "name": "",
         "orientation": "v",
         "showlegend": false,
         "type": "scatter",
         "x": [
          35,
          48,
          62,
          23,
          8,
          9,
          26,
          12,
          36,
          31,
          29,
          15,
          8,
          20,
          181,
          17,
          16,
          21,
          77,
          10,
          9,
          11,
          144,
          14,
          10,
          19,
          69,
          11,
          19,
          9,
          57,
          13,
          11,
          24,
          81,
          4,
          7,
          14,
          18,
          8,
          330,
          21,
          19,
          32,
          19,
          21,
          14,
          30,
          39,
          42,
          31,
          20,
          12,
          22,
          306,
          13,
          26,
          16,
          15,
          15,
          39,
          21,
          8,
          45,
          50,
          37,
          25,
          347,
          26,
          48,
          16,
          26,
          17,
          52,
          22,
          41,
          155,
          12,
          22,
          20,
          23,
          25,
          17,
          16,
          21,
          77,
          10,
          14,
          30,
          39,
          42,
          31,
          14,
          10,
          19,
          69,
          11,
          19,
          9,
          38,
          42,
          92,
          75,
          21,
          26,
          39,
          74,
          467,
          24,
          70,
          22,
          46,
          61,
          237,
          73,
          20,
          34,
          148,
          611
         ],
         "xaxis": "x",
         "y": [
          2,
          10,
          12,
          8,
          0,
          2,
          0,
          6,
          4,
          6,
          4,
          0,
          2,
          4,
          42,
          6,
          2,
          2,
          30,
          0,
          0,
          24,
          100,
          2,
          4,
          6,
          6,
          6,
          2,
          2,
          20,
          2,
          4,
          8,
          26,
          2,
          2,
          4,
          0,
          2,
          94,
          8,
          18,
          10,
          4,
          4,
          4,
          4,
          18,
          38,
          10,
          12,
          4,
          4,
          74,
          0,
          6,
          6,
          0,
          6,
          12,
          10,
          8,
          8,
          46,
          12,
          10,
          94,
          6,
          10,
          6,
          4,
          12,
          16,
          12,
          8,
          32,
          8,
          16,
          6,
          10,
          10,
          6,
          2,
          2,
          30,
          0,
          4,
          4,
          18,
          38,
          10,
          2,
          4,
          6,
          6,
          6,
          2,
          2,
          14,
          8,
          14,
          28,
          18,
          12,
          34,
          26,
          260,
          16,
          96,
          20,
          30,
          58,
          100,
          80,
          18,
          10,
          214,
          228
         ],
         "yaxis": "y"
        },
        {
         "hovertemplate": "<b>OLS trendline</b><br>Follows = 0.400884 * Profile Visits + 0.46283<br>R<sup>2</sup>=0.727868<br><br>Profile Visits=%{x}<br>Follows=%{y} <b>(trend)</b><extra></extra>",
         "legendgroup": "",
         "marker": {
          "color": "#636efa",
          "symbol": "circle"
         },
         "mode": "lines",
         "name": "",
         "showlegend": false,
         "type": "scatter",
         "x": [
          4,
          7,
          8,
          8,
          8,
          8,
          9,
          9,
          9,
          9,
          10,
          10,
          10,
          10,
          11,
          11,
          11,
          11,
          12,
          12,
          12,
          13,
          13,
          14,
          14,
          14,
          14,
          14,
          15,
          15,
          15,
          16,
          16,
          16,
          16,
          17,
          17,
          17,
          18,
          19,
          19,
          19,
          19,
          19,
          19,
          20,
          20,
          20,
          20,
          21,
          21,
          21,
          21,
          21,
          21,
          22,
          22,
          22,
          22,
          23,
          23,
          24,
          24,
          25,
          25,
          26,
          26,
          26,
          26,
          26,
          29,
          30,
          30,
          31,
          31,
          31,
          32,
          34,
          35,
          36,
          37,
          38,
          39,
          39,
          39,
          39,
          41,
          42,
          42,
          42,
          45,
          46,
          48,
          48,
          50,
          52,
          57,
          61,
          62,
          69,
          69,
          70,
          73,
          74,
          75,
          77,
          77,
          81,
          92,
          144,
          148,
          155,
          181,
          237,
          306,
          330,
          347,
          467,
          611
         ],
         "xaxis": "x",
         "y": [
          2.0663650704225356,
          3.269016056338028,
          3.669899718309859,
          3.669899718309859,
          3.669899718309859,
          3.669899718309859,
          4.07078338028169,
          4.07078338028169,
          4.07078338028169,
          4.07078338028169,
          4.471667042253521,
          4.471667042253521,
          4.471667042253521,
          4.471667042253521,
          4.872550704225352,
          4.872550704225352,
          4.872550704225352,
          4.872550704225352,
          5.273434366197183,
          5.273434366197183,
          5.273434366197183,
          5.674318028169014,
          5.674318028169014,
          6.075201690140845,
          6.075201690140845,
          6.075201690140845,
          6.075201690140845,
          6.075201690140845,
          6.476085352112676,
          6.476085352112676,
          6.476085352112676,
          6.876969014084507,
          6.876969014084507,
          6.876969014084507,
          6.876969014084507,
          7.277852676056337,
          7.277852676056337,
          7.277852676056337,
          7.678736338028169,
          8.079619999999998,
          8.079619999999998,
          8.079619999999998,
          8.079619999999998,
          8.079619999999998,
          8.079619999999998,
          8.48050366197183,
          8.48050366197183,
          8.48050366197183,
          8.48050366197183,
          8.881387323943663,
          8.881387323943663,
          8.881387323943663,
          8.881387323943663,
          8.881387323943663,
          8.881387323943663,
          9.282270985915492,
          9.282270985915492,
          9.282270985915492,
          9.282270985915492,
          9.683154647887324,
          9.683154647887324,
          10.084038309859153,
          10.084038309859153,
          10.484921971830985,
          10.484921971830985,
          10.885805633802818,
          10.885805633802818,
          10.885805633802818,
          10.885805633802818,
          10.885805633802818,
          12.088456619718308,
          12.48934028169014,
          12.48934028169014,
          12.890223943661972,
          12.890223943661972,
          12.890223943661972,
          13.291107605633801,
          14.092874929577462,
          14.493758591549295,
          14.894642253521127,
          15.295525915492956,
          15.696409577464788,
          16.09729323943662,
          16.09729323943662,
          16.09729323943662,
          16.09729323943662,
          16.89906056338028,
          17.299944225352114,
          17.299944225352114,
          17.299944225352114,
          18.502595211267604,
          18.903478873239436,
          19.705246197183097,
          19.705246197183097,
          20.50701352112676,
          21.308780845070423,
          23.313199154929578,
          24.9167338028169,
          25.317617464788732,
          28.123803098591548,
          28.123803098591548,
          28.52468676056338,
          29.72733774647887,
          30.128221408450703,
          30.529105070422535,
          31.330872394366196,
          31.330872394366196,
          32.93440704225352,
          37.34412732394366,
          58.19007774647887,
          59.79361239436619,
          62.59979802816901,
          73.0227732394366,
          95.47225830985914,
          123.13323098591547,
          132.75443887323942,
          139.56946112676056,
          187.67550056338027,
          245.40274788732393
         ],
         "yaxis": "y"
        }
       ],
       "layout": {
        "legend": {
         "itemsizing": "constant",
         "tracegroupgap": 0
        },
        "template": {
         "data": {
          "bar": [
           {
            "error_x": {
             "color": "#2a3f5f"
            },
            "error_y": {
             "color": "#2a3f5f"
            },
            "marker": {
             "line": {
              "color": "#E5ECF6",
              "width": 0.5
             },
             "pattern": {
              "fillmode": "overlay",
              "size": 10,
              "solidity": 0.2
             }
            },
            "type": "bar"
           }
          ],
          "barpolar": [
           {
            "marker": {
             "line": {
              "color": "#E5ECF6",
              "width": 0.5
             },
             "pattern": {
              "fillmode": "overlay",
              "size": 10,
              "solidity": 0.2
             }
            },
            "type": "barpolar"
           }
          ],
          "carpet": [
           {
            "aaxis": {
             "endlinecolor": "#2a3f5f",
             "gridcolor": "white",
             "linecolor": "white",
             "minorgridcolor": "white",
             "startlinecolor": "#2a3f5f"
            },
            "baxis": {
             "endlinecolor": "#2a3f5f",
             "gridcolor": "white",
             "linecolor": "white",
             "minorgridcolor": "white",
             "startlinecolor": "#2a3f5f"
            },
            "type": "carpet"
           }
          ],
          "choropleth": [
           {
            "colorbar": {
             "outlinewidth": 0,
             "ticks": ""
            },
            "type": "choropleth"
           }
          ],
          "contour": [
           {
            "colorbar": {
             "outlinewidth": 0,
             "ticks": ""
            },
            "colorscale": [
             [
              0,
              "#0d0887"
             ],
             [
              0.1111111111111111,
              "#46039f"
             ],
             [
              0.2222222222222222,
              "#7201a8"
             ],
             [
              0.3333333333333333,
              "#9c179e"
             ],
             [
              0.4444444444444444,
              "#bd3786"
             ],
             [
              0.5555555555555556,
              "#d8576b"
             ],
             [
              0.6666666666666666,
              "#ed7953"
             ],
             [
              0.7777777777777778,
              "#fb9f3a"
             ],
             [
              0.8888888888888888,
              "#fdca26"
             ],
             [
              1,
              "#f0f921"
             ]
            ],
            "type": "contour"
           }
          ],
          "contourcarpet": [
           {
            "colorbar": {
             "outlinewidth": 0,
             "ticks": ""
            },
            "type": "contourcarpet"
           }
          ],
          "heatmap": [
           {
            "colorbar": {
             "outlinewidth": 0,
             "ticks": ""
            },
            "colorscale": [
             [
              0,
              "#0d0887"
             ],
             [
              0.1111111111111111,
              "#46039f"
             ],
             [
              0.2222222222222222,
              "#7201a8"
             ],
             [
              0.3333333333333333,
              "#9c179e"
             ],
             [
              0.4444444444444444,
              "#bd3786"
             ],
             [
              0.5555555555555556,
              "#d8576b"
             ],
             [
              0.6666666666666666,
              "#ed7953"
             ],
             [
              0.7777777777777778,
              "#fb9f3a"
             ],
             [
              0.8888888888888888,
              "#fdca26"
             ],
             [
              1,
              "#f0f921"
             ]
            ],
            "type": "heatmap"
           }
          ],
          "heatmapgl": [
           {
            "colorbar": {
             "outlinewidth": 0,
             "ticks": ""
            },
            "colorscale": [
             [
              0,
              "#0d0887"
             ],
             [
              0.1111111111111111,
              "#46039f"
             ],
             [
              0.2222222222222222,
              "#7201a8"
             ],
             [
              0.3333333333333333,
              "#9c179e"
             ],
             [
              0.4444444444444444,
              "#bd3786"
             ],
             [
              0.5555555555555556,
              "#d8576b"
             ],
             [
              0.6666666666666666,
              "#ed7953"
             ],
             [
              0.7777777777777778,
              "#fb9f3a"
             ],
             [
              0.8888888888888888,
              "#fdca26"
             ],
             [
              1,
              "#f0f921"
             ]
            ],
            "type": "heatmapgl"
           }
          ],
          "histogram": [
           {
            "marker": {
             "pattern": {
              "fillmode": "overlay",
              "size": 10,
              "solidity": 0.2
             }
            },
            "type": "histogram"
           }
          ],
          "histogram2d": [
           {
            "colorbar": {
             "outlinewidth": 0,
             "ticks": ""
            },
            "colorscale": [
             [
              0,
              "#0d0887"
             ],
             [
              0.1111111111111111,
              "#46039f"
             ],
             [
              0.2222222222222222,
              "#7201a8"
             ],
             [
              0.3333333333333333,
              "#9c179e"
             ],
             [
              0.4444444444444444,
              "#bd3786"
             ],
             [
              0.5555555555555556,
              "#d8576b"
             ],
             [
              0.6666666666666666,
              "#ed7953"
             ],
             [
              0.7777777777777778,
              "#fb9f3a"
             ],
             [
              0.8888888888888888,
              "#fdca26"
             ],
             [
              1,
              "#f0f921"
             ]
            ],
            "type": "histogram2d"
           }
          ],
          "histogram2dcontour": [
           {
            "colorbar": {
             "outlinewidth": 0,
             "ticks": ""
            },
            "colorscale": [
             [
              0,
              "#0d0887"
             ],
             [
              0.1111111111111111,
              "#46039f"
             ],
             [
              0.2222222222222222,
              "#7201a8"
             ],
             [
              0.3333333333333333,
              "#9c179e"
             ],
             [
              0.4444444444444444,
              "#bd3786"
             ],
             [
              0.5555555555555556,
              "#d8576b"
             ],
             [
              0.6666666666666666,
              "#ed7953"
             ],
             [
              0.7777777777777778,
              "#fb9f3a"
             ],
             [
              0.8888888888888888,
              "#fdca26"
             ],
             [
              1,
              "#f0f921"
             ]
            ],
            "type": "histogram2dcontour"
           }
          ],
          "mesh3d": [
           {
            "colorbar": {
             "outlinewidth": 0,
             "ticks": ""
            },
            "type": "mesh3d"
           }
          ],
          "parcoords": [
           {
            "line": {
             "colorbar": {
              "outlinewidth": 0,
              "ticks": ""
             }
            },
            "type": "parcoords"
           }
          ],
          "pie": [
           {
            "automargin": true,
            "type": "pie"
           }
          ],
          "scatter": [
           {
            "fillpattern": {
             "fillmode": "overlay",
             "size": 10,
             "solidity": 0.2
            },
            "type": "scatter"
           }
          ],
          "scatter3d": [
           {
            "line": {
             "colorbar": {
              "outlinewidth": 0,
              "ticks": ""
             }
            },
            "marker": {
             "colorbar": {
              "outlinewidth": 0,
              "ticks": ""
             }
            },
            "type": "scatter3d"
           }
          ],
          "scattercarpet": [
           {
            "marker": {
             "colorbar": {
              "outlinewidth": 0,
              "ticks": ""
             }
            },
            "type": "scattercarpet"
           }
          ],
          "scattergeo": [
           {
            "marker": {
             "colorbar": {
              "outlinewidth": 0,
              "ticks": ""
             }
            },
            "type": "scattergeo"
           }
          ],
          "scattergl": [
           {
            "marker": {
             "colorbar": {
              "outlinewidth": 0,
              "ticks": ""
             }
            },
            "type": "scattergl"
           }
          ],
          "scattermapbox": [
           {
            "marker": {
             "colorbar": {
              "outlinewidth": 0,
              "ticks": ""
             }
            },
            "type": "scattermapbox"
           }
          ],
          "scatterpolar": [
           {
            "marker": {
             "colorbar": {
              "outlinewidth": 0,
              "ticks": ""
             }
            },
            "type": "scatterpolar"
           }
          ],
          "scatterpolargl": [
           {
            "marker": {
             "colorbar": {
              "outlinewidth": 0,
              "ticks": ""
             }
            },
            "type": "scatterpolargl"
           }
          ],
          "scatterternary": [
           {
            "marker": {
             "colorbar": {
              "outlinewidth": 0,
              "ticks": ""
             }
            },
            "type": "scatterternary"
           }
          ],
          "surface": [
           {
            "colorbar": {
             "outlinewidth": 0,
             "ticks": ""
            },
            "colorscale": [
             [
              0,
              "#0d0887"
             ],
             [
              0.1111111111111111,
              "#46039f"
             ],
             [
              0.2222222222222222,
              "#7201a8"
             ],
             [
              0.3333333333333333,
              "#9c179e"
             ],
             [
              0.4444444444444444,
              "#bd3786"
             ],
             [
              0.5555555555555556,
              "#d8576b"
             ],
             [
              0.6666666666666666,
              "#ed7953"
             ],
             [
              0.7777777777777778,
              "#fb9f3a"
             ],
             [
              0.8888888888888888,
              "#fdca26"
             ],
             [
              1,
              "#f0f921"
             ]
            ],
            "type": "surface"
           }
          ],
          "table": [
           {
            "cells": {
             "fill": {
              "color": "#EBF0F8"
             },
             "line": {
              "color": "white"
             }
            },
            "header": {
             "fill": {
              "color": "#C8D4E3"
             },
             "line": {
              "color": "white"
             }
            },
            "type": "table"
           }
          ]
         },
         "layout": {
          "annotationdefaults": {
           "arrowcolor": "#2a3f5f",
           "arrowhead": 0,
           "arrowwidth": 1
          },
          "autotypenumbers": "strict",
          "coloraxis": {
           "colorbar": {
            "outlinewidth": 0,
            "ticks": ""
           }
          },
          "colorscale": {
           "diverging": [
            [
             0,
             "#8e0152"
            ],
            [
             0.1,
             "#c51b7d"
            ],
            [
             0.2,
             "#de77ae"
            ],
            [
             0.3,
             "#f1b6da"
            ],
            [
             0.4,
             "#fde0ef"
            ],
            [
             0.5,
             "#f7f7f7"
            ],
            [
             0.6,
             "#e6f5d0"
            ],
            [
             0.7,
             "#b8e186"
            ],
            [
             0.8,
             "#7fbc41"
            ],
            [
             0.9,
             "#4d9221"
            ],
            [
             1,
             "#276419"
            ]
           ],
           "sequential": [
            [
             0,
             "#0d0887"
            ],
            [
             0.1111111111111111,
             "#46039f"
            ],
            [
             0.2222222222222222,
             "#7201a8"
            ],
            [
             0.3333333333333333,
             "#9c179e"
            ],
            [
             0.4444444444444444,
             "#bd3786"
            ],
            [
             0.5555555555555556,
             "#d8576b"
            ],
            [
             0.6666666666666666,
             "#ed7953"
            ],
            [
             0.7777777777777778,
             "#fb9f3a"
            ],
            [
             0.8888888888888888,
             "#fdca26"
            ],
            [
             1,
             "#f0f921"
            ]
           ],
           "sequentialminus": [
            [
             0,
             "#0d0887"
            ],
            [
             0.1111111111111111,
             "#46039f"
            ],
            [
             0.2222222222222222,
             "#7201a8"
            ],
            [
             0.3333333333333333,
             "#9c179e"
            ],
            [
             0.4444444444444444,
             "#bd3786"
            ],
            [
             0.5555555555555556,
             "#d8576b"
            ],
            [
             0.6666666666666666,
             "#ed7953"
            ],
            [
             0.7777777777777778,
             "#fb9f3a"
            ],
            [
             0.8888888888888888,
             "#fdca26"
            ],
            [
             1,
             "#f0f921"
            ]
           ]
          },
          "colorway": [
           "#636efa",
           "#EF553B",
           "#00cc96",
           "#ab63fa",
           "#FFA15A",
           "#19d3f3",
           "#FF6692",
           "#B6E880",
           "#FF97FF",
           "#FECB52"
          ],
          "font": {
           "color": "#2a3f5f"
          },
          "geo": {
           "bgcolor": "white",
           "lakecolor": "white",
           "landcolor": "#E5ECF6",
           "showlakes": true,
           "showland": true,
           "subunitcolor": "white"
          },
          "hoverlabel": {
           "align": "left"
          },
          "hovermode": "closest",
          "mapbox": {
           "style": "light"
          },
          "paper_bgcolor": "white",
          "plot_bgcolor": "#E5ECF6",
          "polar": {
           "angularaxis": {
            "gridcolor": "white",
            "linecolor": "white",
            "ticks": ""
           },
           "bgcolor": "#E5ECF6",
           "radialaxis": {
            "gridcolor": "white",
            "linecolor": "white",
            "ticks": ""
           }
          },
          "scene": {
           "xaxis": {
            "backgroundcolor": "#E5ECF6",
            "gridcolor": "white",
            "gridwidth": 2,
            "linecolor": "white",
            "showbackground": true,
            "ticks": "",
            "zerolinecolor": "white"
           },
           "yaxis": {
            "backgroundcolor": "#E5ECF6",
            "gridcolor": "white",
            "gridwidth": 2,
            "linecolor": "white",
            "showbackground": true,
            "ticks": "",
            "zerolinecolor": "white"
           },
           "zaxis": {
            "backgroundcolor": "#E5ECF6",
            "gridcolor": "white",
            "gridwidth": 2,
            "linecolor": "white",
            "showbackground": true,
            "ticks": "",
            "zerolinecolor": "white"
           }
          },
          "shapedefaults": {
           "line": {
            "color": "#2a3f5f"
           }
          },
          "ternary": {
           "aaxis": {
            "gridcolor": "white",
            "linecolor": "white",
            "ticks": ""
           },
           "baxis": {
            "gridcolor": "white",
            "linecolor": "white",
            "ticks": ""
           },
           "bgcolor": "#E5ECF6",
           "caxis": {
            "gridcolor": "white",
            "linecolor": "white",
            "ticks": ""
           }
          },
          "title": {
           "x": 0.05
          },
          "xaxis": {
           "automargin": true,
           "gridcolor": "white",
           "linecolor": "white",
           "ticks": "",
           "title": {
            "standoff": 15
           },
           "zerolinecolor": "white",
           "zerolinewidth": 2
          },
          "yaxis": {
           "automargin": true,
           "gridcolor": "white",
           "linecolor": "white",
           "ticks": "",
           "title": {
            "standoff": 15
           },
           "zerolinecolor": "white",
           "zerolinewidth": 2
          }
         }
        },
        "title": {
         "text": "Relationship Between Profile Visits and Followers Gained"
        },
        "xaxis": {
         "anchor": "y",
         "domain": [
          0,
          1
         ],
         "title": {
          "text": "Profile Visits"
         }
        },
        "yaxis": {
         "anchor": "x",
         "domain": [
          0,
          1
         ],
         "title": {
          "text": "Follows"
         }
        }
       }
      },
      "text/html": [
       "<div>                            <div id=\"58b945d7-89fc-49cc-84f6-07d2b1d37359\" class=\"plotly-graph-div\" style=\"height:525px; width:100%;\"></div>            <script type=\"text/javascript\">                require([\"plotly\"], function(Plotly) {                    window.PLOTLYENV=window.PLOTLYENV || {};                                    if (document.getElementById(\"58b945d7-89fc-49cc-84f6-07d2b1d37359\")) {                    Plotly.newPlot(                        \"58b945d7-89fc-49cc-84f6-07d2b1d37359\",                        [{\"hovertemplate\":\"Profile Visits=%{x}<br>Follows=%{marker.size}<extra></extra>\",\"legendgroup\":\"\",\"marker\":{\"color\":\"#636efa\",\"size\":[2,10,12,8,0,2,0,6,4,6,4,0,2,4,42,6,2,2,30,0,0,24,100,2,4,6,6,6,2,2,20,2,4,8,26,2,2,4,0,2,94,8,18,10,4,4,4,4,18,38,10,12,4,4,74,0,6,6,0,6,12,10,8,8,46,12,10,94,6,10,6,4,12,16,12,8,32,8,16,6,10,10,6,2,2,30,0,4,4,18,38,10,2,4,6,6,6,2,2,14,8,14,28,18,12,34,26,260,16,96,20,30,58,100,80,18,10,214,228],\"sizemode\":\"area\",\"sizeref\":0.65,\"symbol\":\"circle\"},\"mode\":\"markers\",\"name\":\"\",\"orientation\":\"v\",\"showlegend\":false,\"x\":[35,48,62,23,8,9,26,12,36,31,29,15,8,20,181,17,16,21,77,10,9,11,144,14,10,19,69,11,19,9,57,13,11,24,81,4,7,14,18,8,330,21,19,32,19,21,14,30,39,42,31,20,12,22,306,13,26,16,15,15,39,21,8,45,50,37,25,347,26,48,16,26,17,52,22,41,155,12,22,20,23,25,17,16,21,77,10,14,30,39,42,31,14,10,19,69,11,19,9,38,42,92,75,21,26,39,74,467,24,70,22,46,61,237,73,20,34,148,611],\"xaxis\":\"x\",\"y\":[2,10,12,8,0,2,0,6,4,6,4,0,2,4,42,6,2,2,30,0,0,24,100,2,4,6,6,6,2,2,20,2,4,8,26,2,2,4,0,2,94,8,18,10,4,4,4,4,18,38,10,12,4,4,74,0,6,6,0,6,12,10,8,8,46,12,10,94,6,10,6,4,12,16,12,8,32,8,16,6,10,10,6,2,2,30,0,4,4,18,38,10,2,4,6,6,6,2,2,14,8,14,28,18,12,34,26,260,16,96,20,30,58,100,80,18,10,214,228],\"yaxis\":\"y\",\"type\":\"scatter\"},{\"hovertemplate\":\"<b>OLS trendline</b><br>Follows = 0.400884 * Profile Visits + 0.46283<br>R<sup>2</sup>=0.727868<br><br>Profile Visits=%{x}<br>Follows=%{y} <b>(trend)</b><extra></extra>\",\"legendgroup\":\"\",\"marker\":{\"color\":\"#636efa\",\"symbol\":\"circle\"},\"mode\":\"lines\",\"name\":\"\",\"showlegend\":false,\"x\":[4,7,8,8,8,8,9,9,9,9,10,10,10,10,11,11,11,11,12,12,12,13,13,14,14,14,14,14,15,15,15,16,16,16,16,17,17,17,18,19,19,19,19,19,19,20,20,20,20,21,21,21,21,21,21,22,22,22,22,23,23,24,24,25,25,26,26,26,26,26,29,30,30,31,31,31,32,34,35,36,37,38,39,39,39,39,41,42,42,42,45,46,48,48,50,52,57,61,62,69,69,70,73,74,75,77,77,81,92,144,148,155,181,237,306,330,347,467,611],\"xaxis\":\"x\",\"y\":[2.0663650704225356,3.269016056338028,3.669899718309859,3.669899718309859,3.669899718309859,3.669899718309859,4.07078338028169,4.07078338028169,4.07078338028169,4.07078338028169,4.471667042253521,4.471667042253521,4.471667042253521,4.471667042253521,4.872550704225352,4.872550704225352,4.872550704225352,4.872550704225352,5.273434366197183,5.273434366197183,5.273434366197183,5.674318028169014,5.674318028169014,6.075201690140845,6.075201690140845,6.075201690140845,6.075201690140845,6.075201690140845,6.476085352112676,6.476085352112676,6.476085352112676,6.876969014084507,6.876969014084507,6.876969014084507,6.876969014084507,7.277852676056337,7.277852676056337,7.277852676056337,7.678736338028169,8.079619999999998,8.079619999999998,8.079619999999998,8.079619999999998,8.079619999999998,8.079619999999998,8.48050366197183,8.48050366197183,8.48050366197183,8.48050366197183,8.881387323943663,8.881387323943663,8.881387323943663,8.881387323943663,8.881387323943663,8.881387323943663,9.282270985915492,9.282270985915492,9.282270985915492,9.282270985915492,9.683154647887324,9.683154647887324,10.084038309859153,10.084038309859153,10.484921971830985,10.484921971830985,10.885805633802818,10.885805633802818,10.885805633802818,10.885805633802818,10.885805633802818,12.088456619718308,12.48934028169014,12.48934028169014,12.890223943661972,12.890223943661972,12.890223943661972,13.291107605633801,14.092874929577462,14.493758591549295,14.894642253521127,15.295525915492956,15.696409577464788,16.09729323943662,16.09729323943662,16.09729323943662,16.09729323943662,16.89906056338028,17.299944225352114,17.299944225352114,17.299944225352114,18.502595211267604,18.903478873239436,19.705246197183097,19.705246197183097,20.50701352112676,21.308780845070423,23.313199154929578,24.9167338028169,25.317617464788732,28.123803098591548,28.123803098591548,28.52468676056338,29.72733774647887,30.128221408450703,30.529105070422535,31.330872394366196,31.330872394366196,32.93440704225352,37.34412732394366,58.19007774647887,59.79361239436619,62.59979802816901,73.0227732394366,95.47225830985914,123.13323098591547,132.75443887323942,139.56946112676056,187.67550056338027,245.40274788732393],\"yaxis\":\"y\",\"type\":\"scatter\"}],                        {\"template\":{\"data\":{\"histogram2dcontour\":[{\"type\":\"histogram2dcontour\",\"colorbar\":{\"outlinewidth\":0,\"ticks\":\"\"},\"colorscale\":[[0.0,\"#0d0887\"],[0.1111111111111111,\"#46039f\"],[0.2222222222222222,\"#7201a8\"],[0.3333333333333333,\"#9c179e\"],[0.4444444444444444,\"#bd3786\"],[0.5555555555555556,\"#d8576b\"],[0.6666666666666666,\"#ed7953\"],[0.7777777777777778,\"#fb9f3a\"],[0.8888888888888888,\"#fdca26\"],[1.0,\"#f0f921\"]]}],\"choropleth\":[{\"type\":\"choropleth\",\"colorbar\":{\"outlinewidth\":0,\"ticks\":\"\"}}],\"histogram2d\":[{\"type\":\"histogram2d\",\"colorbar\":{\"outlinewidth\":0,\"ticks\":\"\"},\"colorscale\":[[0.0,\"#0d0887\"],[0.1111111111111111,\"#46039f\"],[0.2222222222222222,\"#7201a8\"],[0.3333333333333333,\"#9c179e\"],[0.4444444444444444,\"#bd3786\"],[0.5555555555555556,\"#d8576b\"],[0.6666666666666666,\"#ed7953\"],[0.7777777777777778,\"#fb9f3a\"],[0.8888888888888888,\"#fdca26\"],[1.0,\"#f0f921\"]]}],\"heatmap\":[{\"type\":\"heatmap\",\"colorbar\":{\"outlinewidth\":0,\"ticks\":\"\"},\"colorscale\":[[0.0,\"#0d0887\"],[0.1111111111111111,\"#46039f\"],[0.2222222222222222,\"#7201a8\"],[0.3333333333333333,\"#9c179e\"],[0.4444444444444444,\"#bd3786\"],[0.5555555555555556,\"#d8576b\"],[0.6666666666666666,\"#ed7953\"],[0.7777777777777778,\"#fb9f3a\"],[0.8888888888888888,\"#fdca26\"],[1.0,\"#f0f921\"]]}],\"heatmapgl\":[{\"type\":\"heatmapgl\",\"colorbar\":{\"outlinewidth\":0,\"ticks\":\"\"},\"colorscale\":[[0.0,\"#0d0887\"],[0.1111111111111111,\"#46039f\"],[0.2222222222222222,\"#7201a8\"],[0.3333333333333333,\"#9c179e\"],[0.4444444444444444,\"#bd3786\"],[0.5555555555555556,\"#d8576b\"],[0.6666666666666666,\"#ed7953\"],[0.7777777777777778,\"#fb9f3a\"],[0.8888888888888888,\"#fdca26\"],[1.0,\"#f0f921\"]]}],\"contourcarpet\":[{\"type\":\"contourcarpet\",\"colorbar\":{\"outlinewidth\":0,\"ticks\":\"\"}}],\"contour\":[{\"type\":\"contour\",\"colorbar\":{\"outlinewidth\":0,\"ticks\":\"\"},\"colorscale\":[[0.0,\"#0d0887\"],[0.1111111111111111,\"#46039f\"],[0.2222222222222222,\"#7201a8\"],[0.3333333333333333,\"#9c179e\"],[0.4444444444444444,\"#bd3786\"],[0.5555555555555556,\"#d8576b\"],[0.6666666666666666,\"#ed7953\"],[0.7777777777777778,\"#fb9f3a\"],[0.8888888888888888,\"#fdca26\"],[1.0,\"#f0f921\"]]}],\"surface\":[{\"type\":\"surface\",\"colorbar\":{\"outlinewidth\":0,\"ticks\":\"\"},\"colorscale\":[[0.0,\"#0d0887\"],[0.1111111111111111,\"#46039f\"],[0.2222222222222222,\"#7201a8\"],[0.3333333333333333,\"#9c179e\"],[0.4444444444444444,\"#bd3786\"],[0.5555555555555556,\"#d8576b\"],[0.6666666666666666,\"#ed7953\"],[0.7777777777777778,\"#fb9f3a\"],[0.8888888888888888,\"#fdca26\"],[1.0,\"#f0f921\"]]}],\"mesh3d\":[{\"type\":\"mesh3d\",\"colorbar\":{\"outlinewidth\":0,\"ticks\":\"\"}}],\"scatter\":[{\"fillpattern\":{\"fillmode\":\"overlay\",\"size\":10,\"solidity\":0.2},\"type\":\"scatter\"}],\"parcoords\":[{\"type\":\"parcoords\",\"line\":{\"colorbar\":{\"outlinewidth\":0,\"ticks\":\"\"}}}],\"scatterpolargl\":[{\"type\":\"scatterpolargl\",\"marker\":{\"colorbar\":{\"outlinewidth\":0,\"ticks\":\"\"}}}],\"bar\":[{\"error_x\":{\"color\":\"#2a3f5f\"},\"error_y\":{\"color\":\"#2a3f5f\"},\"marker\":{\"line\":{\"color\":\"#E5ECF6\",\"width\":0.5},\"pattern\":{\"fillmode\":\"overlay\",\"size\":10,\"solidity\":0.2}},\"type\":\"bar\"}],\"scattergeo\":[{\"type\":\"scattergeo\",\"marker\":{\"colorbar\":{\"outlinewidth\":0,\"ticks\":\"\"}}}],\"scatterpolar\":[{\"type\":\"scatterpolar\",\"marker\":{\"colorbar\":{\"outlinewidth\":0,\"ticks\":\"\"}}}],\"histogram\":[{\"marker\":{\"pattern\":{\"fillmode\":\"overlay\",\"size\":10,\"solidity\":0.2}},\"type\":\"histogram\"}],\"scattergl\":[{\"type\":\"scattergl\",\"marker\":{\"colorbar\":{\"outlinewidth\":0,\"ticks\":\"\"}}}],\"scatter3d\":[{\"type\":\"scatter3d\",\"line\":{\"colorbar\":{\"outlinewidth\":0,\"ticks\":\"\"}},\"marker\":{\"colorbar\":{\"outlinewidth\":0,\"ticks\":\"\"}}}],\"scattermapbox\":[{\"type\":\"scattermapbox\",\"marker\":{\"colorbar\":{\"outlinewidth\":0,\"ticks\":\"\"}}}],\"scatterternary\":[{\"type\":\"scatterternary\",\"marker\":{\"colorbar\":{\"outlinewidth\":0,\"ticks\":\"\"}}}],\"scattercarpet\":[{\"type\":\"scattercarpet\",\"marker\":{\"colorbar\":{\"outlinewidth\":0,\"ticks\":\"\"}}}],\"carpet\":[{\"aaxis\":{\"endlinecolor\":\"#2a3f5f\",\"gridcolor\":\"white\",\"linecolor\":\"white\",\"minorgridcolor\":\"white\",\"startlinecolor\":\"#2a3f5f\"},\"baxis\":{\"endlinecolor\":\"#2a3f5f\",\"gridcolor\":\"white\",\"linecolor\":\"white\",\"minorgridcolor\":\"white\",\"startlinecolor\":\"#2a3f5f\"},\"type\":\"carpet\"}],\"table\":[{\"cells\":{\"fill\":{\"color\":\"#EBF0F8\"},\"line\":{\"color\":\"white\"}},\"header\":{\"fill\":{\"color\":\"#C8D4E3\"},\"line\":{\"color\":\"white\"}},\"type\":\"table\"}],\"barpolar\":[{\"marker\":{\"line\":{\"color\":\"#E5ECF6\",\"width\":0.5},\"pattern\":{\"fillmode\":\"overlay\",\"size\":10,\"solidity\":0.2}},\"type\":\"barpolar\"}],\"pie\":[{\"automargin\":true,\"type\":\"pie\"}]},\"layout\":{\"autotypenumbers\":\"strict\",\"colorway\":[\"#636efa\",\"#EF553B\",\"#00cc96\",\"#ab63fa\",\"#FFA15A\",\"#19d3f3\",\"#FF6692\",\"#B6E880\",\"#FF97FF\",\"#FECB52\"],\"font\":{\"color\":\"#2a3f5f\"},\"hovermode\":\"closest\",\"hoverlabel\":{\"align\":\"left\"},\"paper_bgcolor\":\"white\",\"plot_bgcolor\":\"#E5ECF6\",\"polar\":{\"bgcolor\":\"#E5ECF6\",\"angularaxis\":{\"gridcolor\":\"white\",\"linecolor\":\"white\",\"ticks\":\"\"},\"radialaxis\":{\"gridcolor\":\"white\",\"linecolor\":\"white\",\"ticks\":\"\"}},\"ternary\":{\"bgcolor\":\"#E5ECF6\",\"aaxis\":{\"gridcolor\":\"white\",\"linecolor\":\"white\",\"ticks\":\"\"},\"baxis\":{\"gridcolor\":\"white\",\"linecolor\":\"white\",\"ticks\":\"\"},\"caxis\":{\"gridcolor\":\"white\",\"linecolor\":\"white\",\"ticks\":\"\"}},\"coloraxis\":{\"colorbar\":{\"outlinewidth\":0,\"ticks\":\"\"}},\"colorscale\":{\"sequential\":[[0.0,\"#0d0887\"],[0.1111111111111111,\"#46039f\"],[0.2222222222222222,\"#7201a8\"],[0.3333333333333333,\"#9c179e\"],[0.4444444444444444,\"#bd3786\"],[0.5555555555555556,\"#d8576b\"],[0.6666666666666666,\"#ed7953\"],[0.7777777777777778,\"#fb9f3a\"],[0.8888888888888888,\"#fdca26\"],[1.0,\"#f0f921\"]],\"sequentialminus\":[[0.0,\"#0d0887\"],[0.1111111111111111,\"#46039f\"],[0.2222222222222222,\"#7201a8\"],[0.3333333333333333,\"#9c179e\"],[0.4444444444444444,\"#bd3786\"],[0.5555555555555556,\"#d8576b\"],[0.6666666666666666,\"#ed7953\"],[0.7777777777777778,\"#fb9f3a\"],[0.8888888888888888,\"#fdca26\"],[1.0,\"#f0f921\"]],\"diverging\":[[0,\"#8e0152\"],[0.1,\"#c51b7d\"],[0.2,\"#de77ae\"],[0.3,\"#f1b6da\"],[0.4,\"#fde0ef\"],[0.5,\"#f7f7f7\"],[0.6,\"#e6f5d0\"],[0.7,\"#b8e186\"],[0.8,\"#7fbc41\"],[0.9,\"#4d9221\"],[1,\"#276419\"]]},\"xaxis\":{\"gridcolor\":\"white\",\"linecolor\":\"white\",\"ticks\":\"\",\"title\":{\"standoff\":15},\"zerolinecolor\":\"white\",\"automargin\":true,\"zerolinewidth\":2},\"yaxis\":{\"gridcolor\":\"white\",\"linecolor\":\"white\",\"ticks\":\"\",\"title\":{\"standoff\":15},\"zerolinecolor\":\"white\",\"automargin\":true,\"zerolinewidth\":2},\"scene\":{\"xaxis\":{\"backgroundcolor\":\"#E5ECF6\",\"gridcolor\":\"white\",\"linecolor\":\"white\",\"showbackground\":true,\"ticks\":\"\",\"zerolinecolor\":\"white\",\"gridwidth\":2},\"yaxis\":{\"backgroundcolor\":\"#E5ECF6\",\"gridcolor\":\"white\",\"linecolor\":\"white\",\"showbackground\":true,\"ticks\":\"\",\"zerolinecolor\":\"white\",\"gridwidth\":2},\"zaxis\":{\"backgroundcolor\":\"#E5ECF6\",\"gridcolor\":\"white\",\"linecolor\":\"white\",\"showbackground\":true,\"ticks\":\"\",\"zerolinecolor\":\"white\",\"gridwidth\":2}},\"shapedefaults\":{\"line\":{\"color\":\"#2a3f5f\"}},\"annotationdefaults\":{\"arrowcolor\":\"#2a3f5f\",\"arrowhead\":0,\"arrowwidth\":1},\"geo\":{\"bgcolor\":\"white\",\"landcolor\":\"#E5ECF6\",\"subunitcolor\":\"white\",\"showland\":true,\"showlakes\":true,\"lakecolor\":\"white\"},\"title\":{\"x\":0.05},\"mapbox\":{\"style\":\"light\"}}},\"xaxis\":{\"anchor\":\"y\",\"domain\":[0.0,1.0],\"title\":{\"text\":\"Profile Visits\"}},\"yaxis\":{\"anchor\":\"x\",\"domain\":[0.0,1.0],\"title\":{\"text\":\"Follows\"}},\"legend\":{\"tracegroupgap\":0,\"itemsizing\":\"constant\"},\"title\":{\"text\":\"Relationship Between Profile Visits and Followers Gained\"}},                        {\"responsive\": true}                    ).then(function(){\n",
       "                            \n",
       "var gd = document.getElementById('58b945d7-89fc-49cc-84f6-07d2b1d37359');\n",
       "var x = new MutationObserver(function (mutations, observer) {{\n",
       "        var display = window.getComputedStyle(gd).display;\n",
       "        if (!display || display === 'none') {{\n",
       "            console.log([gd, 'removed!']);\n",
       "            Plotly.purge(gd);\n",
       "            observer.disconnect();\n",
       "        }}\n",
       "}});\n",
       "\n",
       "// Listen for the removal of the full notebook cells\n",
       "var notebookContainer = gd.closest('#notebook-container');\n",
       "if (notebookContainer) {{\n",
       "    x.observe(notebookContainer, {childList: true});\n",
       "}}\n",
       "\n",
       "// Listen for the clearing of the current output cell\n",
       "var outputEl = gd.closest('.output');\n",
       "if (outputEl) {{\n",
       "    x.observe(outputEl, {childList: true});\n",
       "}}\n",
       "\n",
       "                        })                };                });            </script>        </div>"
      ]
     },
     "metadata": {},
     "output_type": "display_data"
    }
   ],
   "source": [
    "figure = px.scatter(data_frame = data, x=\"Profile Visits\",\n",
    "                    y=\"Follows\", size=\"Follows\", trendline=\"ols\", \n",
    "                    title = \"Relationship Between Profile Visits and Followers Gained\")\n",
    "figure.show()"
   ]
  },
  {
   "cell_type": "code",
   "execution_count": null,
   "id": "7667d2f6",
   "metadata": {},
   "outputs": [],
   "source": [
    "EN:The relationship between profile visits and followers gained is also linear.\n",
    "ES: La relación es lineal."
   ]
  },
  {
   "cell_type": "markdown",
   "id": "90ef4878",
   "metadata": {},
   "source": [
    "## Instagram Reach Prediction Model"
   ]
  },
  {
   "cell_type": "markdown",
   "id": "91a01e37",
   "metadata": {},
   "source": [
    "EN: Now in this section, I will train a machine learning model to predict the reach of an Instagram post.\n",
    "Let’s split the data into training and test sets before training the model:\n",
    "ES: Ahora en esta sección vamos a entrenar un modelo de machine learning para predecir las visitas de instagram, vamos a separar los datos entre datos de entrenamiento y datos de prueba."
   ]
  },
  {
   "cell_type": "code",
   "execution_count": 47,
   "id": "aab609ce",
   "metadata": {},
   "outputs": [],
   "source": [
    "x = np.array(data[['Likes', 'Saves', 'Comments', 'Shares', \n",
    "                   'Profile Visits', 'Follows']]) #Resto de vaiables, creamos con la ayuda numpy.array un vector o matriz\n",
    "y = np.array(data[\"Impressions\"]) # Visitas, creamos con la ayuda numpy.array un vector o matriz\n",
    "\n",
    "xtrain, xtest, ytrain, ytest = train_test_split(x, y,test_size=0.2,random_state=42) # \"Creamos con train_test_split\" la separación entre test y training, el random state sera 42"
   ]
  },
  {
   "cell_type": "code",
   "execution_count": null,
   "id": "029e7dd4",
   "metadata": {},
   "outputs": [],
   "source": [
    "EN: Now here’s is how we can train a machine learning model to predict the reach of an Instagram post using Python:\n",
    "ES: Ahora podemos entrenar un modelo de aprendizaje mequina para predecir las visitas de un post de istagram usando python:  "
   ]
  },
  {
   "cell_type": "code",
   "execution_count": 48,
   "id": "080ee85c",
   "metadata": {},
   "outputs": [
    {
     "data": {
      "text/plain": [
       "0.8402586071961332"
      ]
     },
     "execution_count": 48,
     "metadata": {},
     "output_type": "execute_result"
    }
   ],
   "source": [
    "model = PassiveAggressiveRegressor()  #https://scikit-learn.org/stable/modules/generated/sklearn.linear_model.PassiveAggressiveRegressor.html\n",
    "model.fit(xtrain, ytrain)\n",
    "model.score(xtest, ytest)"
   ]
  },
  {
   "cell_type": "code",
   "execution_count": null,
   "id": "0a3a08f0",
   "metadata": {},
   "outputs": [],
   "source": [
    "EN:Now let’s predict the reach of an Instagram post by giving inputs to the machine learning model: \n",
    "ES: Ahora predigamos la visibilidad en instagram dandole imput al modelo creado.        "
   ]
  },
  {
   "cell_type": "code",
   "execution_count": 49,
   "id": "b53ec0d2",
   "metadata": {},
   "outputs": [
    {
     "data": {
      "text/plain": [
       "array([10210.88497021])"
      ]
     },
     "execution_count": 49,
     "metadata": {},
     "output_type": "execute_result"
    }
   ],
   "source": [
    "features = np.array([[282.0, 233.0, 4.0, 9.0, 165.0, 54.0]])\n",
    "model.predict(features)"
   ]
  },
  {
   "cell_type": "code",
   "execution_count": null,
   "id": "7cadfebf",
   "metadata": {},
   "outputs": [],
   "source": []
  }
 ],
 "metadata": {
  "kernelspec": {
   "display_name": "Python 3 (ipykernel)",
   "language": "python",
   "name": "python3"
  },
  "language_info": {
   "codemirror_mode": {
    "name": "ipython",
    "version": 3
   },
   "file_extension": ".py",
   "mimetype": "text/x-python",
   "name": "python",
   "nbconvert_exporter": "python",
   "pygments_lexer": "ipython3",
   "version": "3.9.7"
  }
 },
 "nbformat": 4,
 "nbformat_minor": 5
}
